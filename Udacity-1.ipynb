{
 "cells": [
  {
   "cell_type": "code",
   "execution_count": 1,
   "metadata": {},
   "outputs": [],
   "source": [
    "#gather assess clean analyze model visualize\n",
    "#https://www.kaggle.com/airbnb/boston\n",
    "import pandas as pd\n",
    "import numpy as np\n",
    "import seaborn as sns\n",
    "import re\n",
    "from re import sub\n",
    "\n",
    "import statistics\n",
    "from string import punctuation\n",
    "\n",
    "import plotly.graph_objs as go"
   ]
  },
  {
   "cell_type": "code",
   "execution_count": 104,
   "metadata": {},
   "outputs": [],
   "source": [
    "exec(open(\"./randomforestfunctions.py\").read())"
   ]
  },
  {
   "cell_type": "code",
   "execution_count": 3,
   "metadata": {},
   "outputs": [],
   "source": [
    "exec(open(\"./fancy_string.py\").read())"
   ]
  },
  {
   "cell_type": "code",
   "execution_count": 89,
   "metadata": {},
   "outputs": [],
   "source": [
    "def to_money(val):\n",
    "    '''\n",
    "    INPUT:\n",
    "    str formatted $1,000.00 indicating monetary value \n",
    "    \n",
    "    OUTPUT:\n",
    "    float of monetary value\n",
    "    '''\n",
    "    val = val[1:len(val)-3]\n",
    "    val = val.replace(',', '')\n",
    "    return(float(val))\n",
    "\n",
    "def col_to_money(colname, df):\n",
    "    return ([to_money(i) if isinstance(i, float) == False else None for i in df[colname]])\n",
    "\n",
    "def col_from_percent(colname, df):\n",
    "    return([float(i.replace('%', ''))if isinstance(i, float) == False else None for i in df[colname]])\n",
    "    \n",
    "def create_dummy_df(df, cat_cols, dum_na):\n",
    "    '''\n",
    "    INPUT:\n",
    "    df - pandas dataframe with categorical variables you want to dummy\n",
    "    cat_cols - list of strings that are associated with names of the categorical columns\n",
    "    dummy_na - Bool holding whether you want to dummy NA vals of categorical columns or not\n",
    "    \n",
    "    OUTPUT:\n",
    "    df - a new dataframe that has the following characteristics:\n",
    "            1. contains all columns that were not specified as categorical\n",
    "            2. removes all the original columns in cat_cols\n",
    "            3. dummy columns for each of the categorical columns in cat_cols\n",
    "            4. if dummy_na is True - it also contains dummy columns for the NaN values\n",
    "            5. Use a prefix of the column name with an underscore (_) for separating \n",
    "            \n",
    "    '''\n",
    "    new_df = df.copy()\n",
    "    for col in  cat_cols:\n",
    "        try:\n",
    "            dums =  pd.get_dummies(df[col], prefix=col, prefix_sep='_', drop_first=True, dummy_na=dum_na)\n",
    "            new_df = pd.concat([new_df.drop(col, axis=1),dums], axis=1)\n",
    "        except:\n",
    "            continue\n",
    "    return new_df\n",
    "\n",
    "def list_to_cols(series):\n",
    "    '''\n",
    "    INPUT:\n",
    "    series consisting of a list \n",
    "    \n",
    "    OUTPUT:\n",
    "    dataframe where items in the list are columns\n",
    "    '''\n",
    "    column_names = []\n",
    "    for i in series:\n",
    "        for n in i:\n",
    "            if n not in column_names:\n",
    "                column_names.append(n)\n",
    "    df = pd.DataFrame(columns = column_names)\n",
    "    for z in column_names:\n",
    "        df[z] = [1 if z in x else 0 for x in series]\n",
    "    return(df)\n",
    "\n",
    "def text_to_cols(colname, df):\n",
    "    '''\n",
    "    INPUT:\n",
    "    str column name and dataframe that contains it \n",
    "    \n",
    "    OUTPUT:\n",
    "    dataframe with new columns containing str properties, original str column removed\n",
    "    '''\n",
    "    fancy_strings = [FancyString(i) for i in df[colname]]\n",
    "    df[colname + '_adcount'] = [i.ad_count() for i in fancy_strings]\n",
    "    df[colname + '_wordcount'] = [i.wordcount() for i in fancy_strings]\n",
    "    df = df.drop(colname, axis = 1)\n",
    "    return(df)"
   ]
  },
  {
   "cell_type": "markdown",
   "metadata": {},
   "source": [
    "**GATHER**"
   ]
  },
  {
   "cell_type": "code",
   "execution_count": 92,
   "metadata": {},
   "outputs": [],
   "source": [
    "#collecting relevant dataframes\n",
    "listings = pd.read_csv('./listings.csv', index_col = 0).reset_index()\n",
    "reviews = pd.read_csv('./reviews.csv', index_col = 0).reset_index()\n",
    "full_df = reviews.merge(listings, left_on = 'listing_id', right_on = 'id', how = 'inner')"
   ]
  },
  {
   "cell_type": "markdown",
   "metadata": {},
   "source": [
    "**ASSESS**\n",
    "\n",
    "* there is consistent missingness that will have to be addressed\n",
    "* there are many objects requiring examination\n",
    "* it's multilevel, so may want to aggreggate\n",
    "* there are many instances of variable clusters (around review_score etc) where it is likely that vars are highly correlated"
   ]
  },
  {
   "cell_type": "code",
   "execution_count": 93,
   "metadata": {},
   "outputs": [
    {
     "name": "stdout",
     "output_type": "stream",
     "text": [
      "(68275, 101)\n",
      "\n",
      "\n",
      "<class 'pandas.core.frame.DataFrame'>\n",
      "Int64Index: 68275 entries, 0 to 68274\n",
      "Columns: 101 entries, listing_id to reviews_per_month\n",
      "dtypes: float64(18), int64(18), object(65)\n",
      "memory usage: 53.1+ MB\n",
      "None\n",
      "\n",
      "\n"
     ]
    },
    {
     "data": {
      "text/html": [
       "<div>\n",
       "<style scoped>\n",
       "    .dataframe tbody tr th:only-of-type {\n",
       "        vertical-align: middle;\n",
       "    }\n",
       "\n",
       "    .dataframe tbody tr th {\n",
       "        vertical-align: top;\n",
       "    }\n",
       "\n",
       "    .dataframe thead th {\n",
       "        text-align: right;\n",
       "    }\n",
       "</style>\n",
       "<table border=\"1\" class=\"dataframe\">\n",
       "  <thead>\n",
       "    <tr style=\"text-align: right;\">\n",
       "      <th></th>\n",
       "      <th>listing_id</th>\n",
       "      <th>id_x</th>\n",
       "      <th>reviewer_id</th>\n",
       "      <th>id_y</th>\n",
       "      <th>scrape_id</th>\n",
       "      <th>host_id</th>\n",
       "      <th>host_listings_count</th>\n",
       "      <th>host_total_listings_count</th>\n",
       "      <th>neighbourhood_group_cleansed</th>\n",
       "      <th>latitude</th>\n",
       "      <th>...</th>\n",
       "      <th>review_scores_accuracy</th>\n",
       "      <th>review_scores_cleanliness</th>\n",
       "      <th>review_scores_checkin</th>\n",
       "      <th>review_scores_communication</th>\n",
       "      <th>review_scores_location</th>\n",
       "      <th>review_scores_value</th>\n",
       "      <th>license</th>\n",
       "      <th>jurisdiction_names</th>\n",
       "      <th>calculated_host_listings_count</th>\n",
       "      <th>reviews_per_month</th>\n",
       "    </tr>\n",
       "  </thead>\n",
       "  <tbody>\n",
       "    <tr>\n",
       "      <th>count</th>\n",
       "      <td>6.827500e+04</td>\n",
       "      <td>6.827500e+04</td>\n",
       "      <td>6.827500e+04</td>\n",
       "      <td>6.827500e+04</td>\n",
       "      <td>6.827500e+04</td>\n",
       "      <td>6.827500e+04</td>\n",
       "      <td>68275.000000</td>\n",
       "      <td>68275.000000</td>\n",
       "      <td>0.0</td>\n",
       "      <td>68275.000000</td>\n",
       "      <td>...</td>\n",
       "      <td>68197.000000</td>\n",
       "      <td>68202.000000</td>\n",
       "      <td>68200.000000</td>\n",
       "      <td>68202.000000</td>\n",
       "      <td>68197.000000</td>\n",
       "      <td>68199.000000</td>\n",
       "      <td>0.0</td>\n",
       "      <td>0.0</td>\n",
       "      <td>68275.000000</td>\n",
       "      <td>68275.000000</td>\n",
       "    </tr>\n",
       "    <tr>\n",
       "      <th>mean</th>\n",
       "      <td>4.759910e+06</td>\n",
       "      <td>5.246516e+07</td>\n",
       "      <td>2.802389e+07</td>\n",
       "      <td>4.759910e+06</td>\n",
       "      <td>2.016091e+13</td>\n",
       "      <td>1.444614e+07</td>\n",
       "      <td>13.972830</td>\n",
       "      <td>13.972830</td>\n",
       "      <td>NaN</td>\n",
       "      <td>42.338246</td>\n",
       "      <td>...</td>\n",
       "      <td>9.474684</td>\n",
       "      <td>9.316868</td>\n",
       "      <td>9.705777</td>\n",
       "      <td>9.703953</td>\n",
       "      <td>9.361145</td>\n",
       "      <td>9.234564</td>\n",
       "      <td>NaN</td>\n",
       "      <td>NaN</td>\n",
       "      <td>5.141721</td>\n",
       "      <td>3.669015</td>\n",
       "    </tr>\n",
       "    <tr>\n",
       "      <th>std</th>\n",
       "      <td>3.788990e+06</td>\n",
       "      <td>2.790991e+07</td>\n",
       "      <td>2.234097e+07</td>\n",
       "      <td>3.788990e+06</td>\n",
       "      <td>6.585986e+00</td>\n",
       "      <td>1.635912e+07</td>\n",
       "      <td>66.806719</td>\n",
       "      <td>66.806719</td>\n",
       "      <td>NaN</td>\n",
       "      <td>0.026307</td>\n",
       "      <td>...</td>\n",
       "      <td>0.655534</td>\n",
       "      <td>0.834400</td>\n",
       "      <td>0.521058</td>\n",
       "      <td>0.514301</td>\n",
       "      <td>0.721928</td>\n",
       "      <td>0.649583</td>\n",
       "      <td>NaN</td>\n",
       "      <td>NaN</td>\n",
       "      <td>10.991914</td>\n",
       "      <td>2.492277</td>\n",
       "    </tr>\n",
       "    <tr>\n",
       "      <th>min</th>\n",
       "      <td>3.353000e+03</td>\n",
       "      <td>1.021000e+03</td>\n",
       "      <td>1.430000e+02</td>\n",
       "      <td>3.353000e+03</td>\n",
       "      <td>2.016091e+13</td>\n",
       "      <td>4.240000e+03</td>\n",
       "      <td>1.000000</td>\n",
       "      <td>1.000000</td>\n",
       "      <td>NaN</td>\n",
       "      <td>42.235942</td>\n",
       "      <td>...</td>\n",
       "      <td>2.000000</td>\n",
       "      <td>2.000000</td>\n",
       "      <td>2.000000</td>\n",
       "      <td>4.000000</td>\n",
       "      <td>2.000000</td>\n",
       "      <td>2.000000</td>\n",
       "      <td>NaN</td>\n",
       "      <td>NaN</td>\n",
       "      <td>1.000000</td>\n",
       "      <td>0.010000</td>\n",
       "    </tr>\n",
       "    <tr>\n",
       "      <th>25%</th>\n",
       "      <td>1.458081e+06</td>\n",
       "      <td>3.010420e+07</td>\n",
       "      <td>9.001346e+06</td>\n",
       "      <td>1.458081e+06</td>\n",
       "      <td>2.016091e+13</td>\n",
       "      <td>2.005394e+06</td>\n",
       "      <td>1.000000</td>\n",
       "      <td>1.000000</td>\n",
       "      <td>NaN</td>\n",
       "      <td>42.318251</td>\n",
       "      <td>...</td>\n",
       "      <td>9.000000</td>\n",
       "      <td>9.000000</td>\n",
       "      <td>9.000000</td>\n",
       "      <td>9.000000</td>\n",
       "      <td>9.000000</td>\n",
       "      <td>9.000000</td>\n",
       "      <td>NaN</td>\n",
       "      <td>NaN</td>\n",
       "      <td>1.000000</td>\n",
       "      <td>1.710000</td>\n",
       "    </tr>\n",
       "    <tr>\n",
       "      <th>50%</th>\n",
       "      <td>4.080000e+06</td>\n",
       "      <td>5.223121e+07</td>\n",
       "      <td>2.305179e+07</td>\n",
       "      <td>4.080000e+06</td>\n",
       "      <td>2.016091e+13</td>\n",
       "      <td>8.157833e+06</td>\n",
       "      <td>2.000000</td>\n",
       "      <td>2.000000</td>\n",
       "      <td>NaN</td>\n",
       "      <td>42.343722</td>\n",
       "      <td>...</td>\n",
       "      <td>10.000000</td>\n",
       "      <td>9.000000</td>\n",
       "      <td>10.000000</td>\n",
       "      <td>10.000000</td>\n",
       "      <td>9.000000</td>\n",
       "      <td>9.000000</td>\n",
       "      <td>NaN</td>\n",
       "      <td>NaN</td>\n",
       "      <td>2.000000</td>\n",
       "      <td>3.220000</td>\n",
       "    </tr>\n",
       "    <tr>\n",
       "      <th>75%</th>\n",
       "      <td>7.377034e+06</td>\n",
       "      <td>7.663248e+07</td>\n",
       "      <td>4.213454e+07</td>\n",
       "      <td>7.377034e+06</td>\n",
       "      <td>2.016091e+13</td>\n",
       "      <td>2.185136e+07</td>\n",
       "      <td>6.000000</td>\n",
       "      <td>6.000000</td>\n",
       "      <td>NaN</td>\n",
       "      <td>42.357792</td>\n",
       "      <td>...</td>\n",
       "      <td>10.000000</td>\n",
       "      <td>10.000000</td>\n",
       "      <td>10.000000</td>\n",
       "      <td>10.000000</td>\n",
       "      <td>10.000000</td>\n",
       "      <td>10.000000</td>\n",
       "      <td>NaN</td>\n",
       "      <td>NaN</td>\n",
       "      <td>5.000000</td>\n",
       "      <td>5.330000</td>\n",
       "    </tr>\n",
       "    <tr>\n",
       "      <th>max</th>\n",
       "      <td>1.484378e+07</td>\n",
       "      <td>9.999045e+07</td>\n",
       "      <td>9.335034e+07</td>\n",
       "      <td>1.484378e+07</td>\n",
       "      <td>2.016091e+13</td>\n",
       "      <td>9.287818e+07</td>\n",
       "      <td>749.000000</td>\n",
       "      <td>749.000000</td>\n",
       "      <td>NaN</td>\n",
       "      <td>42.389982</td>\n",
       "      <td>...</td>\n",
       "      <td>10.000000</td>\n",
       "      <td>10.000000</td>\n",
       "      <td>10.000000</td>\n",
       "      <td>10.000000</td>\n",
       "      <td>10.000000</td>\n",
       "      <td>10.000000</td>\n",
       "      <td>NaN</td>\n",
       "      <td>NaN</td>\n",
       "      <td>136.000000</td>\n",
       "      <td>19.150000</td>\n",
       "    </tr>\n",
       "  </tbody>\n",
       "</table>\n",
       "<p>8 rows × 36 columns</p>\n",
       "</div>"
      ],
      "text/plain": [
       "         listing_id          id_x   reviewer_id          id_y     scrape_id  \\\n",
       "count  6.827500e+04  6.827500e+04  6.827500e+04  6.827500e+04  6.827500e+04   \n",
       "mean   4.759910e+06  5.246516e+07  2.802389e+07  4.759910e+06  2.016091e+13   \n",
       "std    3.788990e+06  2.790991e+07  2.234097e+07  3.788990e+06  6.585986e+00   \n",
       "min    3.353000e+03  1.021000e+03  1.430000e+02  3.353000e+03  2.016091e+13   \n",
       "25%    1.458081e+06  3.010420e+07  9.001346e+06  1.458081e+06  2.016091e+13   \n",
       "50%    4.080000e+06  5.223121e+07  2.305179e+07  4.080000e+06  2.016091e+13   \n",
       "75%    7.377034e+06  7.663248e+07  4.213454e+07  7.377034e+06  2.016091e+13   \n",
       "max    1.484378e+07  9.999045e+07  9.335034e+07  1.484378e+07  2.016091e+13   \n",
       "\n",
       "            host_id  host_listings_count  host_total_listings_count  \\\n",
       "count  6.827500e+04         68275.000000               68275.000000   \n",
       "mean   1.444614e+07            13.972830                  13.972830   \n",
       "std    1.635912e+07            66.806719                  66.806719   \n",
       "min    4.240000e+03             1.000000                   1.000000   \n",
       "25%    2.005394e+06             1.000000                   1.000000   \n",
       "50%    8.157833e+06             2.000000                   2.000000   \n",
       "75%    2.185136e+07             6.000000                   6.000000   \n",
       "max    9.287818e+07           749.000000                 749.000000   \n",
       "\n",
       "       neighbourhood_group_cleansed      latitude  ...  \\\n",
       "count                           0.0  68275.000000  ...   \n",
       "mean                            NaN     42.338246  ...   \n",
       "std                             NaN      0.026307  ...   \n",
       "min                             NaN     42.235942  ...   \n",
       "25%                             NaN     42.318251  ...   \n",
       "50%                             NaN     42.343722  ...   \n",
       "75%                             NaN     42.357792  ...   \n",
       "max                             NaN     42.389982  ...   \n",
       "\n",
       "       review_scores_accuracy  review_scores_cleanliness  \\\n",
       "count            68197.000000               68202.000000   \n",
       "mean                 9.474684                   9.316868   \n",
       "std                  0.655534                   0.834400   \n",
       "min                  2.000000                   2.000000   \n",
       "25%                  9.000000                   9.000000   \n",
       "50%                 10.000000                   9.000000   \n",
       "75%                 10.000000                  10.000000   \n",
       "max                 10.000000                  10.000000   \n",
       "\n",
       "       review_scores_checkin  review_scores_communication  \\\n",
       "count           68200.000000                 68202.000000   \n",
       "mean                9.705777                     9.703953   \n",
       "std                 0.521058                     0.514301   \n",
       "min                 2.000000                     4.000000   \n",
       "25%                 9.000000                     9.000000   \n",
       "50%                10.000000                    10.000000   \n",
       "75%                10.000000                    10.000000   \n",
       "max                10.000000                    10.000000   \n",
       "\n",
       "       review_scores_location  review_scores_value  license  \\\n",
       "count            68197.000000         68199.000000      0.0   \n",
       "mean                 9.361145             9.234564      NaN   \n",
       "std                  0.721928             0.649583      NaN   \n",
       "min                  2.000000             2.000000      NaN   \n",
       "25%                  9.000000             9.000000      NaN   \n",
       "50%                  9.000000             9.000000      NaN   \n",
       "75%                 10.000000            10.000000      NaN   \n",
       "max                 10.000000            10.000000      NaN   \n",
       "\n",
       "       jurisdiction_names  calculated_host_listings_count  reviews_per_month  \n",
       "count                 0.0                    68275.000000       68275.000000  \n",
       "mean                  NaN                        5.141721           3.669015  \n",
       "std                   NaN                       10.991914           2.492277  \n",
       "min                   NaN                        1.000000           0.010000  \n",
       "25%                   NaN                        1.000000           1.710000  \n",
       "50%                   NaN                        2.000000           3.220000  \n",
       "75%                   NaN                        5.000000           5.330000  \n",
       "max                   NaN                      136.000000          19.150000  \n",
       "\n",
       "[8 rows x 36 columns]"
      ]
     },
     "execution_count": 93,
     "metadata": {},
     "output_type": "execute_result"
    }
   ],
   "source": [
    "print(full_df.shape)\n",
    "print(\"\\n\")\n",
    "print(full_df.info())\n",
    "print(\"\\n\")\n",
    "full_df.describe()"
   ]
  },
  {
   "cell_type": "markdown",
   "metadata": {},
   "source": [
    "**CLEAN**\n",
    "* eliminate any completely empty rows or columns\n",
    "* reformat objects that should be numbers \n",
    "* for amenities in particular, have to transform json-like bracket into list\n",
    "* for text vars convert to word count and adjective count\n",
    "* sift through and remove variables that won't be meaningful (such as city (they are all in boston)), or are redundant\n",
    "* convert objects to dummy var dataframes\n",
    "* concatenate and aggregate on listing id"
   ]
  },
  {
   "cell_type": "code",
   "execution_count": 94,
   "metadata": {},
   "outputs": [],
   "source": [
    "#clean\n",
    "#eliminate any fully empty rows or columns and retain an item-level index\n",
    "full_df = full_df.dropna(axis = 0, how = 'all')\n",
    "full_df = full_df.dropna(axis = 1, how = 'all')"
   ]
  },
  {
   "cell_type": "code",
   "execution_count": 95,
   "metadata": {},
   "outputs": [],
   "source": [
    "#reformatting data types that should be floats but are currently obj\n",
    "\n",
    "money_col_list = ['price', 'weekly_price', 'monthly_price', 'security_deposit', 'cleaning_fee', 'extra_people']\n",
    "for i in money_col_list:\n",
    "    full_df[i + '_float'] = col_to_money(i, full_df)\n",
    "    \n",
    "percent_col_list = ['host_response_rate', 'host_acceptance_rate']\n",
    "for i in percent_col_list:\n",
    "    full_df[i] = col_from_percent(i, full_df)"
   ]
  },
  {
   "cell_type": "code",
   "execution_count": 96,
   "metadata": {},
   "outputs": [],
   "source": [
    "#reformatting amenities:  in original dataframe, strings not in \"\" are options, while strings in \"\" are offered.\n",
    "#for our purposes, retain only the offered options \n",
    "\n",
    "full_df['amenities'] = [re.findall('\"([^\"]*)\"', i) if isinstance(i, float) == False else None for i in full_df['amenities']]\n",
    "amenities = list_to_cols(full_df['amenities'])\n",
    "\n",
    "amenities =create_dummy_df(amenities,list(amenities.columns), True)\n",
    "#this looks like an error/missing data so these vals were dropped\n",
    "amenities = amenities[amenities.columns.drop(list(amenities.filter(regex='translation missing')))]"
   ]
  },
  {
   "cell_type": "code",
   "execution_count": 97,
   "metadata": {},
   "outputs": [
    {
     "data": {
      "image/png": "[encoded data removed]",
      "text/plain": [
       "<matplotlib.figure.Figure at 0x2396ed993c8>"
      ]
     },
     "metadata": {},
     "output_type": "display_data"
    }
   ],
   "source": [
    "num_df = full_df.select_dtypes(include=['float64', 'int64']).copy().reset_index(drop = True)\n",
    "sns.heatmap(num_df.corr(), annot=False, fmt=\".2f\");"
   ]
  },
  {
   "cell_type": "code",
   "execution_count": 10,
   "metadata": {},
   "outputs": [],
   "source": [
    "#clean\n",
    "text_cols = ['comments', 'name', 'summary', 'space', 'description','house_rules']\n",
    "txt_df = full_df[text_cols].copy()\n",
    "\n",
    "for i in text_cols:\n",
    "    txt_df = text_to_cols(i, txt_df)"
   ]
  },
  {
   "cell_type": "code",
   "execution_count": 12,
   "metadata": {},
   "outputs": [],
   "source": [
    "txt_df.to_csv('./txt_df.csv')"
   ]
  },
  {
   "cell_type": "code",
   "execution_count": 41,
   "metadata": {},
   "outputs": [],
   "source": [
    "txt_df = txt_df.drop(txt_df.columns[0], axis=1)"
   ]
  },
  {
   "cell_type": "code",
   "execution_count": 98,
   "metadata": {},
   "outputs": [],
   "source": [
    "bad_objs = \"calendar_updated price extra_people smart_location cleaning_fee security_deposit amenities first_review last_review city zipcode weekly_price neighbourhood_cleansed host_since monthly_price calendar_last_scraped date reviewer_name listing_url neighborhood_overview last_scraped experiences_offered notes transit access interaction thumbnail_url medium_url picture_url xl_picture_url host_url host_name host_location host_about host_thumbnail_url host_picture_url host_neighbourhood host_verifications host_has_profile_pic street neighbourhood\"\n",
    "bad_objL = bad_objs.split()\n",
    "\n",
    "obj_df = full_df.select_dtypes(include=['object']).copy()\n",
    "obj_df = obj_df.drop(text_cols, axis = 1)\n",
    "obj_df = obj_df.drop(bad_objL, axis = 1)"
   ]
  },
  {
   "cell_type": "code",
   "execution_count": 99,
   "metadata": {},
   "outputs": [],
   "source": [
    "obj_df =create_dummy_df(obj_df,list(obj_df.columns), True)\n",
    "obj_df = obj_df.reset_index(drop = True)\n",
    "\n",
    "obj_df2 = pd.concat([obj_df, amenities], axis = 1)\n",
    "\n",
    "obj_df2 = obj_df2[obj_df2.columns.drop(list(obj_df2.filter(regex='index')))]\n"
   ]
  },
  {
   "cell_type": "code",
   "execution_count": 100,
   "metadata": {
    "scrolled": true
   },
   "outputs": [],
   "source": [
    "clean_df = pd.concat([num_df, obj_df], axis = 1)\n",
    "clean_df = clean_df[clean_df.columns.drop(list(clean_df.filter(regex='id')))]\n",
    "\n",
    "clean_df['listing_id'] = full_df['listing_id']\n",
    "clean_df = pd.concat([clean_df, txt_df], axis = 1)\n",
    "clean_df = clean_df.loc[:, (clean_df != 0).any(axis=0)]"
   ]
  },
  {
   "cell_type": "code",
   "execution_count": 101,
   "metadata": {},
   "outputs": [
    {
     "data": {
      "image/png": "[encoded data removed]",
      "text/plain": [
       "<matplotlib.figure.Figure at 0x2390707d7b8>"
      ]
     },
     "metadata": {},
     "output_type": "display_data"
    }
   ],
   "source": [
    "sns.heatmap(clean_agg.corr(), annot=False, fmt=\".2f\");"
   ]
  },
  {
   "cell_type": "code",
   "execution_count": 102,
   "metadata": {},
   "outputs": [],
   "source": [
    "clean_agg = clean_df.groupby('listing_id').agg('mean').reset_index(drop = True)"
   ]
  },
  {
   "cell_type": "code",
   "execution_count": 105,
   "metadata": {},
   "outputs": [],
   "source": [
    "X, y = prep_for_rf('review_scores_rating',clean_agg,  'review_scores')"
   ]
  },
  {
   "cell_type": "code",
   "execution_count": 106,
   "metadata": {},
   "outputs": [
    {
     "name": "stdout",
     "output_type": "stream",
     "text": [
      "{'max_features': 12, 'min_samples_split': 12}\n"
     ]
    }
   ],
   "source": [
    "best_param = specify_best(model = RandomForestRegressor(random_state = 15), typ = 'RF', X = X, y = y)\n",
    "\n",
    "rf = RandomForestRegressor(min_samples_split=best_param.get('min_samples_split'), \n",
    "                           max_features= best_param.get('max_features'),random_state = 15)"
   ]
  },
  {
   "cell_type": "code",
   "execution_count": 119,
   "metadata": {},
   "outputs": [
    {
     "name": "stdout",
     "output_type": "stream",
     "text": [
      "mss: 12\n",
      "max_feat: 12\n",
      "mean_mae: 5.598513118553469\n",
      "mean_mse: 72.48346197494297\n",
      "\n",
      "frequency: \n",
      "\n",
      "10\n",
      "10\n",
      "10\n",
      "10\n",
      "10\n",
      "10\n",
      "10\n",
      "10\n",
      "10\n",
      "10\n",
      "10\n",
      "10\n",
      "10\n",
      "10\n",
      "10\n",
      "10\n",
      "10\n",
      "10\n",
      "\n",
      "feat_imp: \n",
      "\n",
      "0.005361331539846411\n",
      "0.005391141118973419\n",
      "0.005513889714934046\n",
      "0.006001543165296624\n",
      "0.006947719159682388\n",
      "0.007226501094090267\n",
      "0.007283843682442918\n",
      "0.008946428877804146\n",
      "0.010064847306306728\n",
      "0.01112720532324135\n",
      "0.011834590668673341\n",
      "0.012032779143134355\n",
      "0.013816508208669231\n",
      "0.016252842598967473\n",
      "0.02194845319251677\n",
      "0.03062542565735326\n",
      "0.03941425742604626\n",
      "0.05601076633876363\n",
      "\n",
      "top_ features\n",
      "\n",
      "availability_90\n",
      "availability_60\n",
      "availability_365\n",
      "latitude\n",
      "number_of_reviews\n",
      "availability_30\n",
      "house_rules_wordcount\n",
      "comments_adcount\n",
      "description_wordcount\n",
      "cleaning_fee_float\n",
      "host_response_rate\n",
      "longitude\n",
      "host_listings_count\n",
      "calculated_host_listings_count\n",
      "host_total_listings_count\n",
      "price_float\n",
      "comments_wordcount\n",
      "host_is_superhost_t\n"
     ]
    }
   ],
   "source": [
    "rf_res = run_modelskfold(rf, X, y, pi_bool = True)\n",
    "\n",
    "results = ext_featEPRF(rf_res[2], mean = True)\n",
    "print_vals(best_param, rf_res, results)"
   ]
  },
  {
   "cell_type": "code",
   "execution_count": 120,
   "metadata": {},
   "outputs": [
    {
     "data": {
      "application/vnd.plotly.v1+json": {
       "config": {
        "plotlyServerURL": "https://plot.ly"
       },
       "data": [
        {
         "name": "Ratings_Score_Top_Pred",
         "type": "bar",
         "x": [
          "availability_90",
          "availability_60",
          "availability_365",
          "latitude",
          "number_of_reviews",
          "availability_30",
          "house_rules_wordcount",
          "comments_adcount",
          "description_wordcount",
          "cleaning_fee_float",
          "host_response_rate",
          "longitude",
          "host_listings_count",
          "calculated_host_listings_count",
          "host_total_listings_count",
          "price_float",
          "comments_wordcount",
          "host_is_superhost_t"
         ],
         "y": [
          0.005361331539846411,
          0.005391141118973419,
          0.005513889714934046,
          0.006001543165296624,
          0.006947719159682388,
          0.007226501094090267,
          0.007283843682442918,
          0.008946428877804146,
          0.010064847306306728,
          0.01112720532324135,
          0.011834590668673341,
          0.012032779143134355,
          0.013816508208669231,
          0.016252842598967473,
          0.02194845319251677,
          0.03062542565735326,
          0.03941425742604626,
          0.05601076633876363
         ]
        }
       ],
       "layout": {
        "template": {
         "data": {
          "bar": [
           {
            "error_x": {
             "color": "#2a3f5f"
            },
            "error_y": {
             "color": "#2a3f5f"
            },
            "marker": {
             "line": {
              "color": "#E5ECF6",
              "width": 0.5
             }
            },
            "type": "bar"
           }
          ],
          "barpolar": [
           {
            "marker": {
             "line": {
              "color": "#E5ECF6",
              "width": 0.5
             }
            },
            "type": "barpolar"
           }
          ],
          "carpet": [
           {
            "aaxis": {
             "endlinecolor": "#2a3f5f",
             "gridcolor": "white",
             "linecolor": "white",
             "minorgridcolor": "white",
             "startlinecolor": "#2a3f5f"
            },
            "baxis": {
             "endlinecolor": "#2a3f5f",
             "gridcolor": "white",
             "linecolor": "white",
             "minorgridcolor": "white",
             "startlinecolor": "#2a3f5f"
            },
            "type": "carpet"
           }
          ],
          "choropleth": [
           {
            "colorbar": {
             "outlinewidth": 0,
             "ticks": ""
            },
            "type": "choropleth"
           }
          ],
          "contour": [
           {
            "colorbar": {
             "outlinewidth": 0,
             "ticks": ""
            },
            "colorscale": [
             [
              0,
              "#0d0887"
             ],
             [
              0.1111111111111111,
              "#46039f"
             ],
             [
              0.2222222222222222,
              "#7201a8"
             ],
             [
              0.3333333333333333,
              "#9c179e"
             ],
             [
              0.4444444444444444,
              "#bd3786"
             ],
             [
              0.5555555555555556,
              "#d8576b"
             ],
             [
              0.6666666666666666,
              "#ed7953"
             ],
             [
              0.7777777777777778,
              "#fb9f3a"
             ],
             [
              0.8888888888888888,
              "#fdca26"
             ],
             [
              1,
              "#f0f921"
             ]
            ],
            "type": "contour"
           }
          ],
          "contourcarpet": [
           {
            "colorbar": {
             "outlinewidth": 0,
             "ticks": ""
            },
            "type": "contourcarpet"
           }
          ],
          "heatmap": [
           {
            "colorbar": {
             "outlinewidth": 0,
             "ticks": ""
            },
            "colorscale": [
             [
              0,
              "#0d0887"
             ],
             [
              0.1111111111111111,
              "#46039f"
             ],
             [
              0.2222222222222222,
              "#7201a8"
             ],
             [
              0.3333333333333333,
              "#9c179e"
             ],
             [
              0.4444444444444444,
              "#bd3786"
             ],
             [
              0.5555555555555556,
              "#d8576b"
             ],
             [
              0.6666666666666666,
              "#ed7953"
             ],
             [
              0.7777777777777778,
              "#fb9f3a"
             ],
             [
              0.8888888888888888,
              "#fdca26"
             ],
             [
              1,
              "#f0f921"
             ]
            ],
            "type": "heatmap"
           }
          ],
          "heatmapgl": [
           {
            "colorbar": {
             "outlinewidth": 0,
             "ticks": ""
            },
            "colorscale": [
             [
              0,
              "#0d0887"
             ],
             [
              0.1111111111111111,
              "#46039f"
             ],
             [
              0.2222222222222222,
              "#7201a8"
             ],
             [
              0.3333333333333333,
              "#9c179e"
             ],
             [
              0.4444444444444444,
              "#bd3786"
             ],
             [
              0.5555555555555556,
              "#d8576b"
             ],
             [
              0.6666666666666666,
              "#ed7953"
             ],
             [
              0.7777777777777778,
              "#fb9f3a"
             ],
             [
              0.8888888888888888,
              "#fdca26"
             ],
             [
              1,
              "#f0f921"
             ]
            ],
            "type": "heatmapgl"
           }
          ],
          "histogram": [
           {
            "marker": {
             "colorbar": {
              "outlinewidth": 0,
              "ticks": ""
             }
            },
            "type": "histogram"
           }
          ],
          "histogram2d": [
           {
            "colorbar": {
             "outlinewidth": 0,
             "ticks": ""
            },
            "colorscale": [
             [
              0,
              "#0d0887"
             ],
             [
              0.1111111111111111,
              "#46039f"
             ],
             [
              0.2222222222222222,
              "#7201a8"
             ],
             [
              0.3333333333333333,
              "#9c179e"
             ],
             [
              0.4444444444444444,
              "#bd3786"
             ],
             [
              0.5555555555555556,
              "#d8576b"
             ],
             [
              0.6666666666666666,
              "#ed7953"
             ],
             [
              0.7777777777777778,
              "#fb9f3a"
             ],
             [
              0.8888888888888888,
              "#fdca26"
             ],
             [
              1,
              "#f0f921"
             ]
            ],
            "type": "histogram2d"
           }
          ],
          "histogram2dcontour": [
           {
            "colorbar": {
             "outlinewidth": 0,
             "ticks": ""
            },
            "colorscale": [
             [
              0,
              "#0d0887"
             ],
             [
              0.1111111111111111,
              "#46039f"
             ],
             [
              0.2222222222222222,
              "#7201a8"
             ],
             [
              0.3333333333333333,
              "#9c179e"
             ],
             [
              0.4444444444444444,
              "#bd3786"
             ],
             [
              0.5555555555555556,
              "#d8576b"
             ],
             [
              0.6666666666666666,
              "#ed7953"
             ],
             [
              0.7777777777777778,
              "#fb9f3a"
             ],
             [
              0.8888888888888888,
              "#fdca26"
             ],
             [
              1,
              "#f0f921"
             ]
            ],
            "type": "histogram2dcontour"
           }
          ],
          "mesh3d": [
           {
            "colorbar": {
             "outlinewidth": 0,
             "ticks": ""
            },
            "type": "mesh3d"
           }
          ],
          "parcoords": [
           {
            "line": {
             "colorbar": {
              "outlinewidth": 0,
              "ticks": ""
             }
            },
            "type": "parcoords"
           }
          ],
          "pie": [
           {
            "automargin": true,
            "type": "pie"
           }
          ],
          "scatter": [
           {
            "marker": {
             "colorbar": {
              "outlinewidth": 0,
              "ticks": ""
             }
            },
            "type": "scatter"
           }
          ],
          "scatter3d": [
           {
            "line": {
             "colorbar": {
              "outlinewidth": 0,
              "ticks": ""
             }
            },
            "marker": {
             "colorbar": {
              "outlinewidth": 0,
              "ticks": ""
             }
            },
            "type": "scatter3d"
           }
          ],
          "scattercarpet": [
           {
            "marker": {
             "colorbar": {
              "outlinewidth": 0,
              "ticks": ""
             }
            },
            "type": "scattercarpet"
           }
          ],
          "scattergeo": [
           {
            "marker": {
             "colorbar": {
              "outlinewidth": 0,
              "ticks": ""
             }
            },
            "type": "scattergeo"
           }
          ],
          "scattergl": [
           {
            "marker": {
             "colorbar": {
              "outlinewidth": 0,
              "ticks": ""
             }
            },
            "type": "scattergl"
           }
          ],
          "scattermapbox": [
           {
            "marker": {
             "colorbar": {
              "outlinewidth": 0,
              "ticks": ""
             }
            },
            "type": "scattermapbox"
           }
          ],
          "scatterpolar": [
           {
            "marker": {
             "colorbar": {
              "outlinewidth": 0,
              "ticks": ""
             }
            },
            "type": "scatterpolar"
           }
          ],
          "scatterpolargl": [
           {
            "marker": {
             "colorbar": {
              "outlinewidth": 0,
              "ticks": ""
             }
            },
            "type": "scatterpolargl"
           }
          ],
          "scatterternary": [
           {
            "marker": {
             "colorbar": {
              "outlinewidth": 0,
              "ticks": ""
             }
            },
            "type": "scatterternary"
           }
          ],
          "surface": [
           {
            "colorbar": {
             "outlinewidth": 0,
             "ticks": ""
            },
            "colorscale": [
             [
              0,
              "#0d0887"
             ],
             [
              0.1111111111111111,
              "#46039f"
             ],
             [
              0.2222222222222222,
              "#7201a8"
             ],
             [
              0.3333333333333333,
              "#9c179e"
             ],
             [
              0.4444444444444444,
              "#bd3786"
             ],
             [
              0.5555555555555556,
              "#d8576b"
             ],
             [
              0.6666666666666666,
              "#ed7953"
             ],
             [
              0.7777777777777778,
              "#fb9f3a"
             ],
             [
              0.8888888888888888,
              "#fdca26"
             ],
             [
              1,
              "#f0f921"
             ]
            ],
            "type": "surface"
           }
          ],
          "table": [
           {
            "cells": {
             "fill": {
              "color": "#EBF0F8"
             },
             "line": {
              "color": "white"
             }
            },
            "header": {
             "fill": {
              "color": "#C8D4E3"
             },
             "line": {
              "color": "white"
             }
            },
            "type": "table"
           }
          ]
         },
         "layout": {
          "annotationdefaults": {
           "arrowcolor": "#2a3f5f",
           "arrowhead": 0,
           "arrowwidth": 1
          },
          "coloraxis": {
           "colorbar": {
            "outlinewidth": 0,
            "ticks": ""
           }
          },
          "colorscale": {
           "diverging": [
            [
             0,
             "#8e0152"
            ],
            [
             0.1,
             "#c51b7d"
            ],
            [
             0.2,
             "#de77ae"
            ],
            [
             0.3,
             "#f1b6da"
            ],
            [
             0.4,
             "#fde0ef"
            ],
            [
             0.5,
             "#f7f7f7"
            ],
            [
             0.6,
             "#e6f5d0"
            ],
            [
             0.7,
             "#b8e186"
            ],
            [
             0.8,
             "#7fbc41"
            ],
            [
             0.9,
             "#4d9221"
            ],
            [
             1,
             "#276419"
            ]
           ],
           "sequential": [
            [
             0,
             "#0d0887"
            ],
            [
             0.1111111111111111,
             "#46039f"
            ],
            [
             0.2222222222222222,
             "#7201a8"
            ],
            [
             0.3333333333333333,
             "#9c179e"
            ],
            [
             0.4444444444444444,
             "#bd3786"
            ],
            [
             0.5555555555555556,
             "#d8576b"
            ],
            [
             0.6666666666666666,
             "#ed7953"
            ],
            [
             0.7777777777777778,
             "#fb9f3a"
            ],
            [
             0.8888888888888888,
             "#fdca26"
            ],
            [
             1,
             "#f0f921"
            ]
           ],
           "sequentialminus": [
            [
             0,
             "#0d0887"
            ],
            [
             0.1111111111111111,
             "#46039f"
            ],
            [
             0.2222222222222222,
             "#7201a8"
            ],
            [
             0.3333333333333333,
             "#9c179e"
            ],
            [
             0.4444444444444444,
             "#bd3786"
            ],
            [
             0.5555555555555556,
             "#d8576b"
            ],
            [
             0.6666666666666666,
             "#ed7953"
            ],
            [
             0.7777777777777778,
             "#fb9f3a"
            ],
            [
             0.8888888888888888,
             "#fdca26"
            ],
            [
             1,
             "#f0f921"
            ]
           ]
          },
          "colorway": [
           "#636efa",
           "#EF553B",
           "#00cc96",
           "#ab63fa",
           "#FFA15A",
           "#19d3f3",
           "#FF6692",
           "#B6E880",
           "#FF97FF",
           "#FECB52"
          ],
          "font": {
           "color": "#2a3f5f"
          },
          "geo": {
           "bgcolor": "white",
           "lakecolor": "white",
           "landcolor": "#E5ECF6",
           "showlakes": true,
           "showland": true,
           "subunitcolor": "white"
          },
          "hoverlabel": {
           "align": "left"
          },
          "hovermode": "closest",
          "mapbox": {
           "style": "light"
          },
          "paper_bgcolor": "white",
          "plot_bgcolor": "#E5ECF6",
          "polar": {
           "angularaxis": {
            "gridcolor": "white",
            "linecolor": "white",
            "ticks": ""
           },
           "bgcolor": "#E5ECF6",
           "radialaxis": {
            "gridcolor": "white",
            "linecolor": "white",
            "ticks": ""
           }
          },
          "scene": {
           "xaxis": {
            "backgroundcolor": "#E5ECF6",
            "gridcolor": "white",
            "gridwidth": 2,
            "linecolor": "white",
            "showbackground": true,
            "ticks": "",
            "zerolinecolor": "white"
           },
           "yaxis": {
            "backgroundcolor": "#E5ECF6",
            "gridcolor": "white",
            "gridwidth": 2,
            "linecolor": "white",
            "showbackground": true,
            "ticks": "",
            "zerolinecolor": "white"
           },
           "zaxis": {
            "backgroundcolor": "#E5ECF6",
            "gridcolor": "white",
            "gridwidth": 2,
            "linecolor": "white",
            "showbackground": true,
            "ticks": "",
            "zerolinecolor": "white"
           }
          },
          "shapedefaults": {
           "line": {
            "color": "#2a3f5f"
           }
          },
          "ternary": {
           "aaxis": {
            "gridcolor": "white",
            "linecolor": "white",
            "ticks": ""
           },
           "baxis": {
            "gridcolor": "white",
            "linecolor": "white",
            "ticks": ""
           },
           "bgcolor": "#E5ECF6",
           "caxis": {
            "gridcolor": "white",
            "linecolor": "white",
            "ticks": ""
           }
          },
          "title": {
           "x": 0.05
          },
          "xaxis": {
           "automargin": true,
           "gridcolor": "white",
           "linecolor": "white",
           "ticks": "",
           "title": {
            "standoff": 15
           },
           "zerolinecolor": "white",
           "zerolinewidth": 2
          },
          "yaxis": {
           "automargin": true,
           "gridcolor": "white",
           "linecolor": "white",
           "ticks": "",
           "title": {
            "standoff": 15
           },
           "zerolinecolor": "white",
           "zerolinewidth": 2
          }
         }
        }
       }
      },
      "text/html": [
       "<div>\n",
       "        \n",
       "        \n",
       "            <div id=\"e5790dbe-fe8c-4f13-b330-1bb0777383a0\" class=\"plotly-graph-div\" style=\"height:525px; width:100%;\"></div>\n",
       "            <script type=\"text/javascript\">\n",
       "                require([\"plotly\"], function(Plotly) {\n",
       "                    window.PLOTLYENV=window.PLOTLYENV || {};\n",
       "                    \n",
       "                if (document.getElementById(\"e5790dbe-fe8c-4f13-b330-1bb0777383a0\")) {\n",
       "                    Plotly.newPlot(\n",
       "                        'e5790dbe-fe8c-4f13-b330-1bb0777383a0',\n",
       "                        [{\"name\": \"Ratings_Score_Top_Pred\", \"type\": \"bar\", \"x\": [\"availability_90\", \"availability_60\", \"availability_365\", \"latitude\", \"number_of_reviews\", \"availability_30\", \"house_rules_wordcount\", \"comments_adcount\", \"description_wordcount\", \"cleaning_fee_float\", \"host_response_rate\", \"longitude\", \"host_listings_count\", \"calculated_host_listings_count\", \"host_total_listings_count\", \"price_float\", \"comments_wordcount\", \"host_is_superhost_t\"], \"y\": [0.005361331539846411, 0.005391141118973419, 0.005513889714934046, 0.006001543165296624, 0.006947719159682388, 0.007226501094090267, 0.007283843682442918, 0.008946428877804146, 0.010064847306306728, 0.01112720532324135, 0.011834590668673341, 0.012032779143134355, 0.013816508208669231, 0.016252842598967473, 0.02194845319251677, 0.03062542565735326, 0.03941425742604626, 0.05601076633876363]}],\n",
       "                        {\"template\": {\"data\": {\"bar\": [{\"error_x\": {\"color\": \"#2a3f5f\"}, \"error_y\": {\"color\": \"#2a3f5f\"}, \"marker\": {\"line\": {\"color\": \"#E5ECF6\", \"width\": 0.5}}, \"type\": \"bar\"}], \"barpolar\": [{\"marker\": {\"line\": {\"color\": \"#E5ECF6\", \"width\": 0.5}}, \"type\": \"barpolar\"}], \"carpet\": [{\"aaxis\": {\"endlinecolor\": \"#2a3f5f\", \"gridcolor\": \"white\", \"linecolor\": \"white\", \"minorgridcolor\": \"white\", \"startlinecolor\": \"#2a3f5f\"}, \"baxis\": {\"endlinecolor\": \"#2a3f5f\", \"gridcolor\": \"white\", \"linecolor\": \"white\", \"minorgridcolor\": \"white\", \"startlinecolor\": \"#2a3f5f\"}, \"type\": \"carpet\"}], \"choropleth\": [{\"colorbar\": {\"outlinewidth\": 0, \"ticks\": \"\"}, \"type\": \"choropleth\"}], \"contour\": [{\"colorbar\": {\"outlinewidth\": 0, \"ticks\": \"\"}, \"colorscale\": [[0.0, \"#0d0887\"], [0.1111111111111111, \"#46039f\"], [0.2222222222222222, \"#7201a8\"], [0.3333333333333333, \"#9c179e\"], [0.4444444444444444, \"#bd3786\"], [0.5555555555555556, \"#d8576b\"], [0.6666666666666666, \"#ed7953\"], [0.7777777777777778, \"#fb9f3a\"], [0.8888888888888888, \"#fdca26\"], [1.0, \"#f0f921\"]], \"type\": \"contour\"}], \"contourcarpet\": [{\"colorbar\": {\"outlinewidth\": 0, \"ticks\": \"\"}, \"type\": \"contourcarpet\"}], \"heatmap\": [{\"colorbar\": {\"outlinewidth\": 0, \"ticks\": \"\"}, \"colorscale\": [[0.0, \"#0d0887\"], [0.1111111111111111, \"#46039f\"], [0.2222222222222222, \"#7201a8\"], [0.3333333333333333, \"#9c179e\"], [0.4444444444444444, \"#bd3786\"], [0.5555555555555556, \"#d8576b\"], [0.6666666666666666, \"#ed7953\"], [0.7777777777777778, \"#fb9f3a\"], [0.8888888888888888, \"#fdca26\"], [1.0, \"#f0f921\"]], \"type\": \"heatmap\"}], \"heatmapgl\": [{\"colorbar\": {\"outlinewidth\": 0, \"ticks\": \"\"}, \"colorscale\": [[0.0, \"#0d0887\"], [0.1111111111111111, \"#46039f\"], [0.2222222222222222, \"#7201a8\"], [0.3333333333333333, \"#9c179e\"], [0.4444444444444444, \"#bd3786\"], [0.5555555555555556, \"#d8576b\"], [0.6666666666666666, \"#ed7953\"], [0.7777777777777778, \"#fb9f3a\"], [0.8888888888888888, \"#fdca26\"], [1.0, \"#f0f921\"]], \"type\": \"heatmapgl\"}], \"histogram\": [{\"marker\": {\"colorbar\": {\"outlinewidth\": 0, \"ticks\": \"\"}}, \"type\": \"histogram\"}], \"histogram2d\": [{\"colorbar\": {\"outlinewidth\": 0, \"ticks\": \"\"}, \"colorscale\": [[0.0, \"#0d0887\"], [0.1111111111111111, \"#46039f\"], [0.2222222222222222, \"#7201a8\"], [0.3333333333333333, \"#9c179e\"], [0.4444444444444444, \"#bd3786\"], [0.5555555555555556, \"#d8576b\"], [0.6666666666666666, \"#ed7953\"], [0.7777777777777778, \"#fb9f3a\"], [0.8888888888888888, \"#fdca26\"], [1.0, \"#f0f921\"]], \"type\": \"histogram2d\"}], \"histogram2dcontour\": [{\"colorbar\": {\"outlinewidth\": 0, \"ticks\": \"\"}, \"colorscale\": [[0.0, \"#0d0887\"], [0.1111111111111111, \"#46039f\"], [0.2222222222222222, \"#7201a8\"], [0.3333333333333333, \"#9c179e\"], [0.4444444444444444, \"#bd3786\"], [0.5555555555555556, \"#d8576b\"], [0.6666666666666666, \"#ed7953\"], [0.7777777777777778, \"#fb9f3a\"], [0.8888888888888888, \"#fdca26\"], [1.0, \"#f0f921\"]], \"type\": \"histogram2dcontour\"}], \"mesh3d\": [{\"colorbar\": {\"outlinewidth\": 0, \"ticks\": \"\"}, \"type\": \"mesh3d\"}], \"parcoords\": [{\"line\": {\"colorbar\": {\"outlinewidth\": 0, \"ticks\": \"\"}}, \"type\": \"parcoords\"}], \"pie\": [{\"automargin\": true, \"type\": \"pie\"}], \"scatter\": [{\"marker\": {\"colorbar\": {\"outlinewidth\": 0, \"ticks\": \"\"}}, \"type\": \"scatter\"}], \"scatter3d\": [{\"line\": {\"colorbar\": {\"outlinewidth\": 0, \"ticks\": \"\"}}, \"marker\": {\"colorbar\": {\"outlinewidth\": 0, \"ticks\": \"\"}}, \"type\": \"scatter3d\"}], \"scattercarpet\": [{\"marker\": {\"colorbar\": {\"outlinewidth\": 0, \"ticks\": \"\"}}, \"type\": \"scattercarpet\"}], \"scattergeo\": [{\"marker\": {\"colorbar\": {\"outlinewidth\": 0, \"ticks\": \"\"}}, \"type\": \"scattergeo\"}], \"scattergl\": [{\"marker\": {\"colorbar\": {\"outlinewidth\": 0, \"ticks\": \"\"}}, \"type\": \"scattergl\"}], \"scattermapbox\": [{\"marker\": {\"colorbar\": {\"outlinewidth\": 0, \"ticks\": \"\"}}, \"type\": \"scattermapbox\"}], \"scatterpolar\": [{\"marker\": {\"colorbar\": {\"outlinewidth\": 0, \"ticks\": \"\"}}, \"type\": \"scatterpolar\"}], \"scatterpolargl\": [{\"marker\": {\"colorbar\": {\"outlinewidth\": 0, \"ticks\": \"\"}}, \"type\": \"scatterpolargl\"}], \"scatterternary\": [{\"marker\": {\"colorbar\": {\"outlinewidth\": 0, \"ticks\": \"\"}}, \"type\": \"scatterternary\"}], \"surface\": [{\"colorbar\": {\"outlinewidth\": 0, \"ticks\": \"\"}, \"colorscale\": [[0.0, \"#0d0887\"], [0.1111111111111111, \"#46039f\"], [0.2222222222222222, \"#7201a8\"], [0.3333333333333333, \"#9c179e\"], [0.4444444444444444, \"#bd3786\"], [0.5555555555555556, \"#d8576b\"], [0.6666666666666666, \"#ed7953\"], [0.7777777777777778, \"#fb9f3a\"], [0.8888888888888888, \"#fdca26\"], [1.0, \"#f0f921\"]], \"type\": \"surface\"}], \"table\": [{\"cells\": {\"fill\": {\"color\": \"#EBF0F8\"}, \"line\": {\"color\": \"white\"}}, \"header\": {\"fill\": {\"color\": \"#C8D4E3\"}, \"line\": {\"color\": \"white\"}}, \"type\": \"table\"}]}, \"layout\": {\"annotationdefaults\": {\"arrowcolor\": \"#2a3f5f\", \"arrowhead\": 0, \"arrowwidth\": 1}, \"coloraxis\": {\"colorbar\": {\"outlinewidth\": 0, \"ticks\": \"\"}}, \"colorscale\": {\"diverging\": [[0, \"#8e0152\"], [0.1, \"#c51b7d\"], [0.2, \"#de77ae\"], [0.3, \"#f1b6da\"], [0.4, \"#fde0ef\"], [0.5, \"#f7f7f7\"], [0.6, \"#e6f5d0\"], [0.7, \"#b8e186\"], [0.8, \"#7fbc41\"], [0.9, \"#4d9221\"], [1, \"#276419\"]], \"sequential\": [[0.0, \"#0d0887\"], [0.1111111111111111, \"#46039f\"], [0.2222222222222222, \"#7201a8\"], [0.3333333333333333, \"#9c179e\"], [0.4444444444444444, \"#bd3786\"], [0.5555555555555556, \"#d8576b\"], [0.6666666666666666, \"#ed7953\"], [0.7777777777777778, \"#fb9f3a\"], [0.8888888888888888, \"#fdca26\"], [1.0, \"#f0f921\"]], \"sequentialminus\": [[0.0, \"#0d0887\"], [0.1111111111111111, \"#46039f\"], [0.2222222222222222, \"#7201a8\"], [0.3333333333333333, \"#9c179e\"], [0.4444444444444444, \"#bd3786\"], [0.5555555555555556, \"#d8576b\"], [0.6666666666666666, \"#ed7953\"], [0.7777777777777778, \"#fb9f3a\"], [0.8888888888888888, \"#fdca26\"], [1.0, \"#f0f921\"]]}, \"colorway\": [\"#636efa\", \"#EF553B\", \"#00cc96\", \"#ab63fa\", \"#FFA15A\", \"#19d3f3\", \"#FF6692\", \"#B6E880\", \"#FF97FF\", \"#FECB52\"], \"font\": {\"color\": \"#2a3f5f\"}, \"geo\": {\"bgcolor\": \"white\", \"lakecolor\": \"white\", \"landcolor\": \"#E5ECF6\", \"showlakes\": true, \"showland\": true, \"subunitcolor\": \"white\"}, \"hoverlabel\": {\"align\": \"left\"}, \"hovermode\": \"closest\", \"mapbox\": {\"style\": \"light\"}, \"paper_bgcolor\": \"white\", \"plot_bgcolor\": \"#E5ECF6\", \"polar\": {\"angularaxis\": {\"gridcolor\": \"white\", \"linecolor\": \"white\", \"ticks\": \"\"}, \"bgcolor\": \"#E5ECF6\", \"radialaxis\": {\"gridcolor\": \"white\", \"linecolor\": \"white\", \"ticks\": \"\"}}, \"scene\": {\"xaxis\": {\"backgroundcolor\": \"#E5ECF6\", \"gridcolor\": \"white\", \"gridwidth\": 2, \"linecolor\": \"white\", \"showbackground\": true, \"ticks\": \"\", \"zerolinecolor\": \"white\"}, \"yaxis\": {\"backgroundcolor\": \"#E5ECF6\", \"gridcolor\": \"white\", \"gridwidth\": 2, \"linecolor\": \"white\", \"showbackground\": true, \"ticks\": \"\", \"zerolinecolor\": \"white\"}, \"zaxis\": {\"backgroundcolor\": \"#E5ECF6\", \"gridcolor\": \"white\", \"gridwidth\": 2, \"linecolor\": \"white\", \"showbackground\": true, \"ticks\": \"\", \"zerolinecolor\": \"white\"}}, \"shapedefaults\": {\"line\": {\"color\": \"#2a3f5f\"}}, \"ternary\": {\"aaxis\": {\"gridcolor\": \"white\", \"linecolor\": \"white\", \"ticks\": \"\"}, \"baxis\": {\"gridcolor\": \"white\", \"linecolor\": \"white\", \"ticks\": \"\"}, \"bgcolor\": \"#E5ECF6\", \"caxis\": {\"gridcolor\": \"white\", \"linecolor\": \"white\", \"ticks\": \"\"}}, \"title\": {\"x\": 0.05}, \"xaxis\": {\"automargin\": true, \"gridcolor\": \"white\", \"linecolor\": \"white\", \"ticks\": \"\", \"title\": {\"standoff\": 15}, \"zerolinecolor\": \"white\", \"zerolinewidth\": 2}, \"yaxis\": {\"automargin\": true, \"gridcolor\": \"white\", \"linecolor\": \"white\", \"ticks\": \"\", \"title\": {\"standoff\": 15}, \"zerolinecolor\": \"white\", \"zerolinewidth\": 2}}}},\n",
       "                        {\"responsive\": true}\n",
       "                    ).then(function(){\n",
       "                            \n",
       "var gd = document.getElementById('e5790dbe-fe8c-4f13-b330-1bb0777383a0');\n",
       "var x = new MutationObserver(function (mutations, observer) {{\n",
       "        var display = window.getComputedStyle(gd).display;\n",
       "        if (!display || display === 'none') {{\n",
       "            console.log([gd, 'removed!']);\n",
       "            Plotly.purge(gd);\n",
       "            observer.disconnect();\n",
       "        }}\n",
       "}});\n",
       "\n",
       "// Listen for the removal of the full notebook cells\n",
       "var notebookContainer = gd.closest('#notebook-container');\n",
       "if (notebookContainer) {{\n",
       "    x.observe(notebookContainer, {childList: true});\n",
       "}}\n",
       "\n",
       "// Listen for the clearing of the current output cell\n",
       "var outputEl = gd.closest('.output');\n",
       "if (outputEl) {{\n",
       "    x.observe(outputEl, {childList: true});\n",
       "}}\n",
       "\n",
       "                        })\n",
       "                };\n",
       "                });\n",
       "            </script>\n",
       "        </div>"
      ]
     },
     "metadata": {},
     "output_type": "display_data"
    }
   ],
   "source": [
    "\n",
    "fig = go.Figure()\n",
    "\n",
    "fig.add_trace(go.Bar(x=results['features'], y = results['feat_imps'], name = 'Ratings_Score_Top_Pred'))"
   ]
  },
  {
   "cell_type": "code",
   "execution_count": null,
   "metadata": {},
   "outputs": [],
   "source": []
  }
 ],
 "metadata": {
  "kernelspec": {
   "display_name": "Python 3",
   "language": "python",
   "name": "python3"
  },
  "language_info": {
   "codemirror_mode": {
    "name": "ipython",
    "version": 3
   },
   "file_extension": ".py",
   "mimetype": "text/x-python",
   "name": "python",
   "nbconvert_exporter": "python",
   "pygments_lexer": "ipython3",
   "version": "3.6.4"
  }
 },
 "nbformat": 4,
 "nbformat_minor": 2
}
