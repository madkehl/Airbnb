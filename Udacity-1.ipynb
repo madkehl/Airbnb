{
 "cells": [
  {
   "cell_type": "markdown",
   "metadata": {},
   "source": [
    "**DISSECTING AIRBNB (Boston) REVIEW SCORES: WHAT MAKES A GOOD AIRBNB?**\n",
    "\n",
    "* the following code will use the following dataset https://www.kaggle.com/airbnb/boston to see what relates to Boston Airbnb prices and review score ratings. The aim is to answer the following questions:\n",
    "\n",
    "  * *Using random forest regression feature ranking, what are the top predictors of overall review scores?*\n",
    "  * *When we use a multilevel model, which of these features are statistically significant?*\n",
    "  * *Out of the statistically significant features, which have large effect sizes? What are the directions?*\n",
    "  \n",
    "* besides indicating major function blocks, the markdown cells indicate major points in the CRISP-DM process (labelled as gather, assess, clean, analyze, model, visualize.\n",
    "\n",
    "* the code in the cell for txt_df can take a while to run so a file of the output is provided that can be read in. "
   ]
  },
  {
   "cell_type": "code",
   "execution_count": 84,
   "metadata": {},
   "outputs": [],
   "source": [
    "# basic imports\n",
    "import pandas as pd\n",
    "import numpy as np\n",
    "import seaborn as sns\n",
    "import re\n",
    "from re import sub\n",
    "\n",
    "import statistics\n",
    "from string import punctuation\n",
    "\n",
    "from sklearn.ensemble import RandomForestRegressor\n",
    "from sklearn.metrics import mean_absolute_error\n",
    "from sklearn.metrics import mean_squared_error\n",
    "from sklearn.model_selection import GridSearchCV\n",
    "from sklearn.model_selection import KFold\n",
    "from sklearn.inspection import permutation_importance\n",
    "\n",
    "import nltk\n",
    "from nltk.tokenize import word_tokenize\n",
    "from nltk.corpus import stopwords\n",
    "from nltk import pos_tag\n",
    "\n",
    "import plotly.graph_objs as go\n",
    "\n",
    "import statsmodels.api as sm\n",
    "import statsmodels.formula.api as smf"
   ]
  },
  {
   "cell_type": "markdown",
   "metadata": {},
   "source": [
    "**RANDOM FOREST FUNCTIONS**\n",
    "\n",
    "* these functions are used to help run and shape random forest regressor results."
   ]
  },
  {
   "cell_type": "code",
   "execution_count": 153,
   "metadata": {},
   "outputs": [],
   "source": [
    "#exec(open(\"./randomforestfunctions.py\").read())\n",
    "def prep_for_rf(response_col, df, colsub = 5, nested = 5):\n",
    "    '''\n",
    "    INPUT:\n",
    "    y var/response col, the dataframe, a substring (of related variables one might want to omit, \n",
    "    in this case the sub-components of total review scores), and possibly a nested var.\n",
    "    \n",
    "    Defaults are set to arbitrary numeric values for colsub and nested for the isinstance if statements \n",
    "    \n",
    "    OUTPUT:\n",
    "    X and ys that have had nans properly addressed\n",
    "    \n",
    "    STEPS:\n",
    "        1. This function drops all rows that are missing the dependent variable/y variable.\n",
    "        2. If colsub has a value, it drops columns with that regex\n",
    "        3. If nested has a value, it groups by this value and finds the mean within the nested value\n",
    "        (along the lines of person-mean imputation).  This is to try to improve the accuracy of the\n",
    "        mean imputation, and preserve differences between people. So in this case, if a listing appears\n",
    "        twice, and the value for beds is for some reason missing in one, it is imputed with the average \n",
    "        # of beds (Nas ignored by default) for this listing, not the average number of beds overall.\n",
    "        4. Finally, if there is no other option, it will fill nas with the general mean\n",
    "        5. IF there is no nested variable, it will simply fill the nas with the mean.\n",
    "        6. returns as X, y\n",
    "    '''\n",
    "    fillmean = lambda col: col.fillna(col.mean())\n",
    "    df2 = df.copy()\n",
    "    df2 = df2.dropna(subset = [response_col], axis = 0).reset_index(drop = True)\n",
    "    if isinstance(colsub, str):\n",
    "        X = df2[df2.columns.drop(list(df2.filter(regex=colsub)))]\n",
    "        X = X.reset_index(drop = True)\n",
    "    if isinstance(nested, str):\n",
    "        X = X.groupby([nested]).transform(lambda x: x.fillna(x.mean()))\n",
    "        X[nested] = df2[nested]\n",
    "        X = X.apply(fillmean)\n",
    "    else:\n",
    "        X = X.apply(fillmean)\n",
    "    y = df2[response_col]\n",
    "    return(X, y)\n",
    "\n",
    "def run_modelskfold(function, X, y, kfoldn = 10, n_rep = 5, pi_bool = True):\n",
    "    '''\n",
    "    INPUT:\n",
    "    scikit rf regressor model, x vals, y vals, number of kfold splits, # of permutations,\n",
    "    boolean whether or not to find permutation importances for kfold across trials\n",
    "    \n",
    "    OUTPUT:\n",
    "    mae scores, mse scores, feature ranking\n",
    "    \n",
    "    STEPS:\n",
    "        1. Initialize the accuracy of the models to blank lists. Respective vals will be appended to this list\n",
    "        2. iterate over kfold splits\n",
    "        3. if pi_bool == True \n",
    "            a. then use scikit's permutation importance to see which features are most important\n",
    "            b. concatenate into labeled df.\n",
    "            c. transform into long format\n",
    "            d. label the sum of scores as 'importance' and indexers as 'labels'(will feed into further functions better in this format)\n",
    "        4. return list containing (1. list of mean absolute error, 2. list of mean squared error, 3. list of dfs of permutation importance)\n",
    "            \n",
    "      \n",
    "    '''\n",
    "    kf = KFold(n_splits=kfoldn,shuffle=True)\n",
    "    mae_ = []\n",
    "    mse_ = []\n",
    "    per_imps = []\n",
    "    # Iterate over each train-test split\n",
    "    for train_index, test_index in kf.split(X):\n",
    "        # Split train-test\n",
    "        X_train, X_test = X.iloc[train_index], X.iloc[test_index]\n",
    "        y_train, y_test = y.iloc[train_index], y.iloc[test_index]\n",
    "        # Train the model\n",
    "        model = function.fit(X_train, y_train)\n",
    "    # Append to accuracy_model the accuracy of the model\n",
    "        mae_.append(mean_absolute_error(y_test, model.predict(X_test)))\n",
    "        mse_.append(mean_squared_error(y_test, model.predict(X_test)))\n",
    "   \n",
    "        if pi_bool == True:\n",
    "            result = permutation_importance(function, X_test, y_test, n_repeats=n_rep,\n",
    "                                random_state=42, n_jobs=2)\n",
    "            sorted_idx = result.importances_mean.argsort()\n",
    "            perm_imp = pd.DataFrame(result.importances[sorted_idx].T)\n",
    "            perm_imp.columns = X_test.columns[sorted_idx]\n",
    "            perm_imp = perm_imp.T.rename_axis(\"labels\")\n",
    "            perm_imp['importance'] = perm_imp.mean(axis = 1)\n",
    "            perm_imp = perm_imp.reset_index()\n",
    "            \n",
    "            per_imps.append(perm_imp)\n",
    "    return([mae_, mse_, per_imps])\n",
    "\n",
    "def run_each_participant(function, X, y, feat_bool = True):\n",
    "    '''\n",
    "    INPUT:\n",
    "    scikit rf regressor model, x vals, y vals, boolean whether or not to find feature importances\n",
    "    \n",
    "    OUTPUT:\n",
    "    mae scores, mse scores, feature ranking\n",
    "    '''\n",
    "    X = X.copy()\n",
    "    y = y.copy()\n",
    "    accuracy_model = []\n",
    "    mse_ = []\n",
    "    feat_imps = []\n",
    "    \n",
    "    for i in range(0,len(X[X.columns[0]])):\n",
    "        \n",
    "        X_test = X.loc[i]\n",
    "        y_test = pd.Series(y[i])\n",
    "        X_test = X_test.values.reshape(1, -1)\n",
    "        \n",
    "        X_train = X.drop(X.index[i])\n",
    "        y_train =np.delete(y, i)\n",
    "        model = function.fit(X_train, y_train)\n",
    "        \n",
    "        accuracy_model.append(mean_absolute_error(y_test, model.predict(X_test)))\n",
    "        mse_.append(mean_squared_error(y_test, model.predict(X_test)))\n",
    "        if feat_bool == True:\n",
    "            feat_imp = pd.DataFrame({\n",
    "    \n",
    "                'labels': X_train.columns,\n",
    "                'importance':model.feature_importances_\n",
    "            })\n",
    "\n",
    "            feat_imp = feat_imp.reset_index(drop = True)\n",
    "            feat_imp = feat_imp.sort_values(by = 'importance', axis = 0)\n",
    "            feat_imps.append(feat_imp)\n",
    "    \n",
    "    return([accuracy_model, mse_, feat_imps])\n",
    "\n",
    "def specify_best(model, X, y, typ = 'RF'):\n",
    "    '''\n",
    "    INPUT:\n",
    "    scikit regressor model, x vals, y vals, str telling if it is rf or svr\n",
    "    \n",
    "    OUTPUT:\n",
    "    best parameter values for min samples split, max features, or kernel gamma and C\n",
    "    '''\n",
    "    if typ == 'RF':\n",
    "        params =  {'min_samples_split': np.arange(2, 100, 20), 'max_features': np.arange(2,15,4)}\n",
    "    elif typ == 'svr':\n",
    "         params =  {'kernel': ['rbf', 'linear', 'sigmoid'], 'gamma': np.arange(0.001,0.9,0.1), 'C': [0.0001,0.01,1,10,100]}\n",
    "    clf = GridSearchCV(model, params,cv = 5)\n",
    "    clf.fit(X, y)\n",
    "    print(clf.best_params_)\n",
    "    return(clf.best_params_)\n",
    "\n",
    "def top_features(feat_imps, featn = 15, mean = False):\n",
    "    '''\n",
    "    INPUT:\n",
    "    result df from run_each_participant, number of features you want returned, or if you want cutoff to be mean\n",
    "    only can use one at a time.\n",
    "    \n",
    "    OUTPUT:\n",
    "    most important features, their importances, and frequency of models that they appeared in (as greater than mean or top featn)\n",
    "    \n",
    "    STEPS:\n",
    "        1. iterate through feat_imps, creat index var showing which trial it came from and reformat\n",
    "        2. concatenate this into one dataframe\n",
    "        3. fill nas (instances where a feature didn't occur) with zero (same as feature not occuring)\n",
    "        4. create a series of mean_vals\n",
    "        5. whichever selection method you chose, will use this series to select the topn or the > mean features\n",
    "        6. using the names/index from this series it will count how often they occur\n",
    "        6. create and return new dataframe.\n",
    "    '''\n",
    "    all_feat = []\n",
    "    count = 0\n",
    "    \n",
    "    for i in feat_imps:\n",
    "        i = i.reset_index(drop = False)\n",
    "        i['index'] = [count]*len(i['index'])\n",
    "        i = i.pivot(index = 'index', columns='labels', values='importance')\n",
    "        all_feat.append(i)\n",
    "        count += 1\n",
    "    \n",
    "    all_feat_df = pd.concat(all_feat, axis = 0)\n",
    "    all_feat_df_filled = all_feat_df.fillna(0)\n",
    "    mean_feat = all_feat_df_filled.mean(axis = 0)\n",
    "    if mean == False:\n",
    "        top_feat = mean_feat.sort_values().iloc[len(mean_feat)-featn: len(mean_feat)]\n",
    "    else:\n",
    "        top_feat = mean_feat.sort_values()\n",
    "        top_feat = top_feat.where(top_feat > np.mean(top_feat.values))\n",
    "        top_feat = top_feat.dropna()\n",
    "        \n",
    "    names = top_feat.index\n",
    "    count_feat = all_feat_df.count(axis = 0)\n",
    "    count_feat_sub = count_feat.loc[list(names)]\n",
    "    \n",
    "    top_feat_df = pd.DataFrame({\n",
    "        'features':names,\n",
    "        'feat_imps':top_feat.values,\n",
    "        'count_models': count_feat_sub.values\n",
    "    })\n",
    "    return(top_feat_df)\n",
    "    \n",
    "def print_vals(best_param, run_list, top_feat_df):\n",
    "    \n",
    "    print('mss: ' + str(best_param.get('min_samples_split')))\n",
    "    print('max_feat: ' + str(best_param.get('max_features')))\n",
    "    print('mean_mae: ' + str(np.mean(run_list[0])))\n",
    "    print('mean_mse: '+ str(np.mean(run_list[1])))\n",
    "    print('\\n' + 'frequency: ' + '\\n')\n",
    "    for i in list(top_feat_df['count_models']):\n",
    "        print(i)  \n",
    "    print('\\n' + 'feat_imp: ' + '\\n')\n",
    "    for i in list(top_feat_df['feat_imps']):\n",
    "        print(i)\n",
    "    print('\\n' + 'top_ features' + '\\n')\n",
    "    for i in list(top_feat_df['features']):\n",
    "        print(i)"
   ]
  },
  {
   "cell_type": "markdown",
   "metadata": {},
   "source": [
    "**TEXT CLASS**\n",
    "* these extend the string class to make extracting relevant numerical features easier"
   ]
  },
  {
   "cell_type": "code",
   "execution_count": 3,
   "metadata": {},
   "outputs": [],
   "source": [
    "#exec(open(\"./fancy_string.py\").read())\n",
    "\n",
    "class FancyString(str):\n",
    "    '''\n",
    "    Extends string class for basic nlp tasks\n",
    "            \n",
    "    '''\n",
    "    \n",
    "    def __init__(self, sent):\n",
    "        self.txt = sent\n",
    "\n",
    "    def wordcount(self):\n",
    "        split = self.split()\n",
    "        self.length = (len(split))\n",
    "        return(self.length)\n",
    "    \n",
    "    def ad_count(self):\n",
    "        z = nltk.word_tokenize(self)\n",
    "        meh = nltk.pos_tag(z)\n",
    "        adj = 0\n",
    "        for i in meh:\n",
    "            if (i[1] == 'RB') or (i[1] == 'JJ'):\n",
    "                adj += 1\n",
    "        self.ad_count = adj\n",
    "        return(self.ad_count)\n"
   ]
  },
  {
   "cell_type": "markdown",
   "metadata": {},
   "source": [
    "**CLEANING FUNCTIONS**\n",
    "\n",
    "- the following functions are used for dataframe manipulation and cleaning"
   ]
  },
  {
   "cell_type": "code",
   "execution_count": null,
   "metadata": {},
   "outputs": [],
   "source": [
    "#exec(open(\"./dataframe_functions.py\").read())\n",
    "def to_money(val):\n",
    "    '''\n",
    "    INPUT:\n",
    "    str formatted $1,000.00 indicating monetary value \n",
    "    \n",
    "    OUTPUT:\n",
    "    float of monetary value\n",
    "    '''\n",
    "    val = val[1:len(val)-3]\n",
    "    val = val.replace(',', '')\n",
    "    return(float(val))\n",
    "\n",
    "def col_to_money(colname, df):\n",
    "    '''\n",
    "    INPUT:\n",
    "    colname to be converted, dataframe that hosts column \n",
    "    \n",
    "    OUTPUT:\n",
    "    the column, in a float format\n",
    "    '''\n",
    "    return ([to_money(i) if isinstance(i, float) == False else None for i in df[colname]])\n",
    "\n",
    "def col_from_percent(colname, df):\n",
    "    '''\n",
    "    INPUT:\n",
    "    colname to be converted, dataframe that hosts column \n",
    "    \n",
    "    OUTPUT:\n",
    "    the column, in a float format\n",
    "    '''\n",
    "    return([float(i.replace('%', ''))if isinstance(i, float) == False else None for i in df[colname]])\n",
    "\n",
    "def flatten_multiindex(df):\n",
    "    '''\n",
    "    INPUT:\n",
    "    df with multiindex (usually result of multiple agg steps)\n",
    "    \n",
    "    OUTPUT:\n",
    "    new colnames\n",
    "    should be used df.columns = flatten_multiindex(df)\n",
    "    '''\n",
    "    return(['_'.join(col).strip() for col in clean_agg.columns.values])\n",
    "\n",
    "def create_dummy_df(df, cat_cols, dum_na):\n",
    "    '''\n",
    "    INPUT:\n",
    "    df - pandas dataframe with categorical variables you want to dummy\n",
    "    cat_cols - list of strings that are associated with names of the categorical columns\n",
    "    dummy_na - Bool holding whether you want to dummy NA vals of categorical columns or not\n",
    "    \n",
    "    OUTPUT:\n",
    "    df - a new dataframe that has the following characteristics:\n",
    "            1. contains all columns that were not specified as categorical\n",
    "            2. removes all the original columns in cat_cols\n",
    "            3. dummy columns for each of the categorical columns in cat_cols\n",
    "            4. if dummy_na is True - it also contains dummy columns for the NaN values\n",
    "            5. Use a prefix of the column name with an underscore (_) for separating \n",
    "            \n",
    "    '''\n",
    "    new_df = df.copy()\n",
    "    for col in  cat_cols:\n",
    "        try:\n",
    "            dums =  pd.get_dummies(df[col], prefix=col, prefix_sep='_', drop_first=True, dummy_na=dum_na)\n",
    "            new_df = pd.concat([new_df.drop(col, axis=1),dums], axis=1)\n",
    "        except:\n",
    "            continue\n",
    "    return new_df\n",
    "\n",
    "def list_to_cols(series):\n",
    "    '''\n",
    "    INPUT:\n",
    "    series consisting of a list \n",
    "    \n",
    "    OUTPUT:\n",
    "    dataframe where items in the list are columns\n",
    "    '''\n",
    "    column_names = []\n",
    "    for i in series:\n",
    "        for n in i:\n",
    "            if n not in column_names:\n",
    "                column_names.append(n)\n",
    "    df = pd.DataFrame(columns = column_names)\n",
    "    for z in column_names:\n",
    "        df[z] = [1 if z in x else 0 for x in series]\n",
    "    return(df)\n",
    "\n",
    "def text_to_cols(colname, df):\n",
    "    '''\n",
    "    INPUT:\n",
    "    str column name and dataframe that contains it \n",
    "    \n",
    "    OUTPUT:\n",
    "    dataframe with new columns containing str properties, original str column removed\n",
    "    '''\n",
    "    fancy_strings = [FancyString(i) for i in df[colname]]\n",
    "    df[colname + '_adcount'] = [i.ad_count() for i in fancy_strings]\n",
    "    df[colname + '_wordcount'] = [i.wordcount() for i in fancy_strings]\n",
    "    df = df.drop(colname, axis = 1)\n",
    "    return(df)"
   ]
  },
  {
   "cell_type": "markdown",
   "metadata": {},
   "source": [
    "**STATSMODELS**\n",
    "* The following functions are used for statistical modelling"
   ]
  },
  {
   "cell_type": "code",
   "execution_count": 183,
   "metadata": {},
   "outputs": [],
   "source": [
    "def mlm(str_x, str_y, str_group, df, nested):\n",
    "    '''\n",
    "    INPUT:\n",
    "    string of independent var, string of dependent var, string of group, df hosting, string of nested group if relevant\n",
    "    \n",
    "    OUTPUT:\n",
    "    a statsmodel instance of a mixed effects/multilevel model\n",
    "    '''\n",
    "    if isinstance(nested, str):\n",
    "        vcf = {nested: \"0 +C(\" + nested + \")\"}\n",
    "    else:\n",
    "        vcf = None\n",
    "    model = str_y + \" ~ \" + str_x\n",
    "    md = smf.mixedlm(model, df, groups = df[str_group], vc_formula = vcf)\n",
    "    mdf = md.fit()\n",
    "    return(mdf)"
   ]
  },
  {
   "cell_type": "markdown",
   "metadata": {},
   "source": [
    "**GATHER**"
   ]
  },
  {
   "cell_type": "code",
   "execution_count": 5,
   "metadata": {},
   "outputs": [],
   "source": [
    "#collecting relevant dataframes\n",
    "listings = pd.read_csv('./listings.csv', index_col = 0).reset_index()\n",
    "reviews = pd.read_csv('./reviews.csv', index_col = 0).reset_index()\n",
    "full_df = reviews.merge(listings, left_on = 'listing_id', right_on = 'id', how = 'inner')"
   ]
  },
  {
   "cell_type": "markdown",
   "metadata": {},
   "source": [
    "**ASSESS**\n",
    "\n",
    "* there is consistent missingness that will have to be addressed\n",
    "* there are many objects requiring examination\n",
    "* it's multilevel, so will have to aggregate for Random Forests etc\n",
    "* there are many instances of variable clusters (around review_score etc) where it is likely that vars are highly correlated"
   ]
  },
  {
   "cell_type": "code",
   "execution_count": 93,
   "metadata": {},
   "outputs": [
    {
     "name": "stdout",
     "output_type": "stream",
     "text": [
      "(68275, 101)\n",
      "\n",
      "\n",
      "<class 'pandas.core.frame.DataFrame'>\n",
      "Int64Index: 68275 entries, 0 to 68274\n",
      "Columns: 101 entries, listing_id to reviews_per_month\n",
      "dtypes: float64(18), int64(18), object(65)\n",
      "memory usage: 53.1+ MB\n",
      "None\n",
      "\n",
      "\n"
     ]
    },
    {
     "data": {
      "text/html": [
       "<div>\n",
       "<style scoped>\n",
       "    .dataframe tbody tr th:only-of-type {\n",
       "        vertical-align: middle;\n",
       "    }\n",
       "\n",
       "    .dataframe tbody tr th {\n",
       "        vertical-align: top;\n",
       "    }\n",
       "\n",
       "    .dataframe thead th {\n",
       "        text-align: right;\n",
       "    }\n",
       "</style>\n",
       "<table border=\"1\" class=\"dataframe\">\n",
       "  <thead>\n",
       "    <tr style=\"text-align: right;\">\n",
       "      <th></th>\n",
       "      <th>listing_id</th>\n",
       "      <th>id_x</th>\n",
       "      <th>reviewer_id</th>\n",
       "      <th>id_y</th>\n",
       "      <th>scrape_id</th>\n",
       "      <th>host_id</th>\n",
       "      <th>host_listings_count</th>\n",
       "      <th>host_total_listings_count</th>\n",
       "      <th>neighbourhood_group_cleansed</th>\n",
       "      <th>latitude</th>\n",
       "      <th>...</th>\n",
       "      <th>review_scores_accuracy</th>\n",
       "      <th>review_scores_cleanliness</th>\n",
       "      <th>review_scores_checkin</th>\n",
       "      <th>review_scores_communication</th>\n",
       "      <th>review_scores_location</th>\n",
       "      <th>review_scores_value</th>\n",
       "      <th>license</th>\n",
       "      <th>jurisdiction_names</th>\n",
       "      <th>calculated_host_listings_count</th>\n",
       "      <th>reviews_per_month</th>\n",
       "    </tr>\n",
       "  </thead>\n",
       "  <tbody>\n",
       "    <tr>\n",
       "      <th>count</th>\n",
       "      <td>6.827500e+04</td>\n",
       "      <td>6.827500e+04</td>\n",
       "      <td>6.827500e+04</td>\n",
       "      <td>6.827500e+04</td>\n",
       "      <td>6.827500e+04</td>\n",
       "      <td>6.827500e+04</td>\n",
       "      <td>68275.000000</td>\n",
       "      <td>68275.000000</td>\n",
       "      <td>0.0</td>\n",
       "      <td>68275.000000</td>\n",
       "      <td>...</td>\n",
       "      <td>68197.000000</td>\n",
       "      <td>68202.000000</td>\n",
       "      <td>68200.000000</td>\n",
       "      <td>68202.000000</td>\n",
       "      <td>68197.000000</td>\n",
       "      <td>68199.000000</td>\n",
       "      <td>0.0</td>\n",
       "      <td>0.0</td>\n",
       "      <td>68275.000000</td>\n",
       "      <td>68275.000000</td>\n",
       "    </tr>\n",
       "    <tr>\n",
       "      <th>mean</th>\n",
       "      <td>4.759910e+06</td>\n",
       "      <td>5.246516e+07</td>\n",
       "      <td>2.802389e+07</td>\n",
       "      <td>4.759910e+06</td>\n",
       "      <td>2.016091e+13</td>\n",
       "      <td>1.444614e+07</td>\n",
       "      <td>13.972830</td>\n",
       "      <td>13.972830</td>\n",
       "      <td>NaN</td>\n",
       "      <td>42.338246</td>\n",
       "      <td>...</td>\n",
       "      <td>9.474684</td>\n",
       "      <td>9.316868</td>\n",
       "      <td>9.705777</td>\n",
       "      <td>9.703953</td>\n",
       "      <td>9.361145</td>\n",
       "      <td>9.234564</td>\n",
       "      <td>NaN</td>\n",
       "      <td>NaN</td>\n",
       "      <td>5.141721</td>\n",
       "      <td>3.669015</td>\n",
       "    </tr>\n",
       "    <tr>\n",
       "      <th>std</th>\n",
       "      <td>3.788990e+06</td>\n",
       "      <td>2.790991e+07</td>\n",
       "      <td>2.234097e+07</td>\n",
       "      <td>3.788990e+06</td>\n",
       "      <td>6.585986e+00</td>\n",
       "      <td>1.635912e+07</td>\n",
       "      <td>66.806719</td>\n",
       "      <td>66.806719</td>\n",
       "      <td>NaN</td>\n",
       "      <td>0.026307</td>\n",
       "      <td>...</td>\n",
       "      <td>0.655534</td>\n",
       "      <td>0.834400</td>\n",
       "      <td>0.521058</td>\n",
       "      <td>0.514301</td>\n",
       "      <td>0.721928</td>\n",
       "      <td>0.649583</td>\n",
       "      <td>NaN</td>\n",
       "      <td>NaN</td>\n",
       "      <td>10.991914</td>\n",
       "      <td>2.492277</td>\n",
       "    </tr>\n",
       "    <tr>\n",
       "      <th>min</th>\n",
       "      <td>3.353000e+03</td>\n",
       "      <td>1.021000e+03</td>\n",
       "      <td>1.430000e+02</td>\n",
       "      <td>3.353000e+03</td>\n",
       "      <td>2.016091e+13</td>\n",
       "      <td>4.240000e+03</td>\n",
       "      <td>1.000000</td>\n",
       "      <td>1.000000</td>\n",
       "      <td>NaN</td>\n",
       "      <td>42.235942</td>\n",
       "      <td>...</td>\n",
       "      <td>2.000000</td>\n",
       "      <td>2.000000</td>\n",
       "      <td>2.000000</td>\n",
       "      <td>4.000000</td>\n",
       "      <td>2.000000</td>\n",
       "      <td>2.000000</td>\n",
       "      <td>NaN</td>\n",
       "      <td>NaN</td>\n",
       "      <td>1.000000</td>\n",
       "      <td>0.010000</td>\n",
       "    </tr>\n",
       "    <tr>\n",
       "      <th>25%</th>\n",
       "      <td>1.458081e+06</td>\n",
       "      <td>3.010420e+07</td>\n",
       "      <td>9.001346e+06</td>\n",
       "      <td>1.458081e+06</td>\n",
       "      <td>2.016091e+13</td>\n",
       "      <td>2.005394e+06</td>\n",
       "      <td>1.000000</td>\n",
       "      <td>1.000000</td>\n",
       "      <td>NaN</td>\n",
       "      <td>42.318251</td>\n",
       "      <td>...</td>\n",
       "      <td>9.000000</td>\n",
       "      <td>9.000000</td>\n",
       "      <td>9.000000</td>\n",
       "      <td>9.000000</td>\n",
       "      <td>9.000000</td>\n",
       "      <td>9.000000</td>\n",
       "      <td>NaN</td>\n",
       "      <td>NaN</td>\n",
       "      <td>1.000000</td>\n",
       "      <td>1.710000</td>\n",
       "    </tr>\n",
       "    <tr>\n",
       "      <th>50%</th>\n",
       "      <td>4.080000e+06</td>\n",
       "      <td>5.223121e+07</td>\n",
       "      <td>2.305179e+07</td>\n",
       "      <td>4.080000e+06</td>\n",
       "      <td>2.016091e+13</td>\n",
       "      <td>8.157833e+06</td>\n",
       "      <td>2.000000</td>\n",
       "      <td>2.000000</td>\n",
       "      <td>NaN</td>\n",
       "      <td>42.343722</td>\n",
       "      <td>...</td>\n",
       "      <td>10.000000</td>\n",
       "      <td>9.000000</td>\n",
       "      <td>10.000000</td>\n",
       "      <td>10.000000</td>\n",
       "      <td>9.000000</td>\n",
       "      <td>9.000000</td>\n",
       "      <td>NaN</td>\n",
       "      <td>NaN</td>\n",
       "      <td>2.000000</td>\n",
       "      <td>3.220000</td>\n",
       "    </tr>\n",
       "    <tr>\n",
       "      <th>75%</th>\n",
       "      <td>7.377034e+06</td>\n",
       "      <td>7.663248e+07</td>\n",
       "      <td>4.213454e+07</td>\n",
       "      <td>7.377034e+06</td>\n",
       "      <td>2.016091e+13</td>\n",
       "      <td>2.185136e+07</td>\n",
       "      <td>6.000000</td>\n",
       "      <td>6.000000</td>\n",
       "      <td>NaN</td>\n",
       "      <td>42.357792</td>\n",
       "      <td>...</td>\n",
       "      <td>10.000000</td>\n",
       "      <td>10.000000</td>\n",
       "      <td>10.000000</td>\n",
       "      <td>10.000000</td>\n",
       "      <td>10.000000</td>\n",
       "      <td>10.000000</td>\n",
       "      <td>NaN</td>\n",
       "      <td>NaN</td>\n",
       "      <td>5.000000</td>\n",
       "      <td>5.330000</td>\n",
       "    </tr>\n",
       "    <tr>\n",
       "      <th>max</th>\n",
       "      <td>1.484378e+07</td>\n",
       "      <td>9.999045e+07</td>\n",
       "      <td>9.335034e+07</td>\n",
       "      <td>1.484378e+07</td>\n",
       "      <td>2.016091e+13</td>\n",
       "      <td>9.287818e+07</td>\n",
       "      <td>749.000000</td>\n",
       "      <td>749.000000</td>\n",
       "      <td>NaN</td>\n",
       "      <td>42.389982</td>\n",
       "      <td>...</td>\n",
       "      <td>10.000000</td>\n",
       "      <td>10.000000</td>\n",
       "      <td>10.000000</td>\n",
       "      <td>10.000000</td>\n",
       "      <td>10.000000</td>\n",
       "      <td>10.000000</td>\n",
       "      <td>NaN</td>\n",
       "      <td>NaN</td>\n",
       "      <td>136.000000</td>\n",
       "      <td>19.150000</td>\n",
       "    </tr>\n",
       "  </tbody>\n",
       "</table>\n",
       "<p>8 rows × 36 columns</p>\n",
       "</div>"
      ],
      "text/plain": [
       "         listing_id          id_x   reviewer_id          id_y     scrape_id  \\\n",
       "count  6.827500e+04  6.827500e+04  6.827500e+04  6.827500e+04  6.827500e+04   \n",
       "mean   4.759910e+06  5.246516e+07  2.802389e+07  4.759910e+06  2.016091e+13   \n",
       "std    3.788990e+06  2.790991e+07  2.234097e+07  3.788990e+06  6.585986e+00   \n",
       "min    3.353000e+03  1.021000e+03  1.430000e+02  3.353000e+03  2.016091e+13   \n",
       "25%    1.458081e+06  3.010420e+07  9.001346e+06  1.458081e+06  2.016091e+13   \n",
       "50%    4.080000e+06  5.223121e+07  2.305179e+07  4.080000e+06  2.016091e+13   \n",
       "75%    7.377034e+06  7.663248e+07  4.213454e+07  7.377034e+06  2.016091e+13   \n",
       "max    1.484378e+07  9.999045e+07  9.335034e+07  1.484378e+07  2.016091e+13   \n",
       "\n",
       "            host_id  host_listings_count  host_total_listings_count  \\\n",
       "count  6.827500e+04         68275.000000               68275.000000   \n",
       "mean   1.444614e+07            13.972830                  13.972830   \n",
       "std    1.635912e+07            66.806719                  66.806719   \n",
       "min    4.240000e+03             1.000000                   1.000000   \n",
       "25%    2.005394e+06             1.000000                   1.000000   \n",
       "50%    8.157833e+06             2.000000                   2.000000   \n",
       "75%    2.185136e+07             6.000000                   6.000000   \n",
       "max    9.287818e+07           749.000000                 749.000000   \n",
       "\n",
       "       neighbourhood_group_cleansed      latitude  ...  \\\n",
       "count                           0.0  68275.000000  ...   \n",
       "mean                            NaN     42.338246  ...   \n",
       "std                             NaN      0.026307  ...   \n",
       "min                             NaN     42.235942  ...   \n",
       "25%                             NaN     42.318251  ...   \n",
       "50%                             NaN     42.343722  ...   \n",
       "75%                             NaN     42.357792  ...   \n",
       "max                             NaN     42.389982  ...   \n",
       "\n",
       "       review_scores_accuracy  review_scores_cleanliness  \\\n",
       "count            68197.000000               68202.000000   \n",
       "mean                 9.474684                   9.316868   \n",
       "std                  0.655534                   0.834400   \n",
       "min                  2.000000                   2.000000   \n",
       "25%                  9.000000                   9.000000   \n",
       "50%                 10.000000                   9.000000   \n",
       "75%                 10.000000                  10.000000   \n",
       "max                 10.000000                  10.000000   \n",
       "\n",
       "       review_scores_checkin  review_scores_communication  \\\n",
       "count           68200.000000                 68202.000000   \n",
       "mean                9.705777                     9.703953   \n",
       "std                 0.521058                     0.514301   \n",
       "min                 2.000000                     4.000000   \n",
       "25%                 9.000000                     9.000000   \n",
       "50%                10.000000                    10.000000   \n",
       "75%                10.000000                    10.000000   \n",
       "max                10.000000                    10.000000   \n",
       "\n",
       "       review_scores_location  review_scores_value  license  \\\n",
       "count            68197.000000         68199.000000      0.0   \n",
       "mean                 9.361145             9.234564      NaN   \n",
       "std                  0.721928             0.649583      NaN   \n",
       "min                  2.000000             2.000000      NaN   \n",
       "25%                  9.000000             9.000000      NaN   \n",
       "50%                  9.000000             9.000000      NaN   \n",
       "75%                 10.000000            10.000000      NaN   \n",
       "max                 10.000000            10.000000      NaN   \n",
       "\n",
       "       jurisdiction_names  calculated_host_listings_count  reviews_per_month  \n",
       "count                 0.0                    68275.000000       68275.000000  \n",
       "mean                  NaN                        5.141721           3.669015  \n",
       "std                   NaN                       10.991914           2.492277  \n",
       "min                   NaN                        1.000000           0.010000  \n",
       "25%                   NaN                        1.000000           1.710000  \n",
       "50%                   NaN                        2.000000           3.220000  \n",
       "75%                   NaN                        5.000000           5.330000  \n",
       "max                   NaN                      136.000000          19.150000  \n",
       "\n",
       "[8 rows x 36 columns]"
      ]
     },
     "execution_count": 93,
     "metadata": {},
     "output_type": "execute_result"
    }
   ],
   "source": [
    "print(full_df.shape)\n",
    "print(\"\\n\")\n",
    "print(full_df.info())\n",
    "print(\"\\n\")\n",
    "full_df.describe()"
   ]
  },
  {
   "cell_type": "markdown",
   "metadata": {},
   "source": [
    "**CLEAN**\n",
    "* eliminate any completely empty rows or columns\n",
    "* reformat objects that should be numbers \n",
    "* for amenities in particular, have to transform json-like bracket into list\n",
    "* for text vars convert to word count and adjective count\n",
    "* sift through and remove variables that won't be meaningful (such as city (they are all in boston)), or are redundant\n",
    "* convert objects to dummy var dataframes\n",
    "* concatenate and aggregate on listing id and then host id"
   ]
  },
  {
   "cell_type": "code",
   "execution_count": 6,
   "metadata": {},
   "outputs": [],
   "source": [
    "#clean\n",
    "#eliminate any fully empty rows or columns and retain an item-level index\n",
    "full_df = full_df.dropna(axis = 0, how = 'all')\n",
    "full_df = full_df.dropna(axis = 1, how = 'all')\n"
   ]
  },
  {
   "cell_type": "code",
   "execution_count": 7,
   "metadata": {},
   "outputs": [],
   "source": [
    "#reformatting data types that should be floats but are currently obj\n",
    "\n",
    "money_col_list = ['price', 'weekly_price', 'monthly_price', 'security_deposit', 'cleaning_fee', 'extra_people']\n",
    "for i in money_col_list:\n",
    "    full_df[i + '_float'] = col_to_money(i, full_df)\n",
    "    \n",
    "percent_col_list = ['host_response_rate', 'host_acceptance_rate']\n",
    "for i in percent_col_list:\n",
    "    full_df[i] = col_from_percent(i, full_df)"
   ]
  },
  {
   "cell_type": "code",
   "execution_count": 8,
   "metadata": {},
   "outputs": [],
   "source": [
    "#reformatting amenities:  in original dataframe, strings not in \"\" are options, while strings in \"\" are offered.\n",
    "#for our purposes, retain only the offered options \n",
    "\n",
    "full_df['amenities'] = [re.findall('\"([^\"]*)\"', i) if isinstance(i, float) == False else None for i in full_df['amenities']]\n",
    "amenities = list_to_cols(full_df['amenities'])\n",
    "\n",
    "amenities =create_dummy_df(amenities,list(amenities.columns), True)\n",
    "#this looks like an error/missing data so these vals were dropped\n",
    "amenities = amenities[amenities.columns.drop(list(amenities.filter(regex='translation missing')))]"
   ]
  },
  {
   "cell_type": "code",
   "execution_count": 9,
   "metadata": {},
   "outputs": [
    {
     "data": {
      "image/png": "[encoded data removed]",
      "text/plain": [
       "<matplotlib.figure.Figure at 0x263b00b12e8>"
      ]
     },
     "metadata": {},
     "output_type": "display_data"
    }
   ],
   "source": [
    "num_df = full_df.select_dtypes(include=['float64', 'int64']).copy().reset_index(drop = True)\n",
    "sns.heatmap(num_df.corr(), annot=False, fmt=\".2f\");"
   ]
  },
  {
   "cell_type": "code",
   "execution_count": 10,
   "metadata": {},
   "outputs": [],
   "source": [
    "#clean\n",
    "text_cols = ['comments', 'name', 'summary', 'space', 'description','house_rules']\n",
    "#txt_df = full_df[text_cols].copy()\n",
    "\n",
    "#for i in text_cols:\n",
    " #   txt_df = text_to_cols(i, txt_df)"
   ]
  },
  {
   "cell_type": "code",
   "execution_count": 11,
   "metadata": {},
   "outputs": [],
   "source": [
    "#txt_df.to_csv('./txt_df.csv')\n",
    "txt_df = pd.read_csv('./txt_df.csv')"
   ]
  },
  {
   "cell_type": "code",
   "execution_count": 12,
   "metadata": {},
   "outputs": [],
   "source": [
    "txt_df = txt_df.drop(txt_df.columns[0], axis=1)"
   ]
  },
  {
   "cell_type": "code",
   "execution_count": 65,
   "metadata": {},
   "outputs": [],
   "source": [
    "bad_objs = \"calendar_updated price extra_people smart_location cleaning_fee security_deposit amenities first_review last_review city zipcode weekly_price neighbourhood_cleansed host_since monthly_price calendar_last_scraped date reviewer_name listing_url neighborhood_overview last_scraped experiences_offered notes transit access interaction thumbnail_url medium_url picture_url xl_picture_url host_url host_name host_location host_about host_thumbnail_url host_picture_url host_neighbourhood host_verifications host_has_profile_pic street\"\n",
    "bad_objL = bad_objs.split()\n",
    "\n",
    "obj_df = full_df.select_dtypes(include=['object']).copy()\n",
    "obj_df = obj_df.drop(text_cols, axis = 1)\n",
    "obj_df = obj_df.drop(bad_objL, axis = 1)"
   ]
  },
  {
   "cell_type": "code",
   "execution_count": 66,
   "metadata": {},
   "outputs": [],
   "source": [
    "obj_df =create_dummy_df(obj_df,list(obj_df.columns), True)\n",
    "obj_df = obj_df.reset_index(drop = True)\n",
    "\n",
    "obj_df2 = pd.concat([obj_df, amenities], axis = 1)\n",
    "\n",
    "obj_df2 = obj_df2[obj_df2.columns.drop(list(obj_df2.filter(regex='index')))]\n"
   ]
  },
  {
   "cell_type": "code",
   "execution_count": 150,
   "metadata": {
    "scrolled": true
   },
   "outputs": [],
   "source": [
    "clean_df = pd.concat([num_df, obj_df2], axis = 1)\n",
    "clean_df = clean_df[clean_df.columns.drop(list(clean_df.filter(regex='id')))]\n",
    "\n",
    "clean_df['listing_id'] = full_df['listing_id']\n",
    "clean_df['host_id'] = full_df['host_id']\n",
    "clean_df = pd.concat([clean_df, txt_df], axis = 1)\n",
    "clean_df = clean_df.loc[:, (clean_df != 0).any(axis=0)]"
   ]
  },
  {
   "cell_type": "code",
   "execution_count": 18,
   "metadata": {},
   "outputs": [
    {
     "data": {
      "image/png": "[encoded data removed]",
      "text/plain": [
       "<matplotlib.figure.Figure at 0x26380dc5278>"
      ]
     },
     "metadata": {},
     "output_type": "display_data"
    }
   ],
   "source": [
    "sns.heatmap(clean_agg.corr(), annot=False, fmt=\".2f\");"
   ]
  },
  {
   "cell_type": "code",
   "execution_count": 186,
   "metadata": {},
   "outputs": [],
   "source": [
    "cleanedX, cleanedy = prep_for_rf('review_scores_rating',clean_df, 'review_scores', nested = 'listing_id')\n",
    "clean_df_filled = pd.concat([cleanedX,cleanedy], axis = 1)\n",
    "clean_df_filled.columns = clean_df_filled.columns.str.replace(\".\", \"_\")\n",
    "clean_df_filled.columns = clean_df_filled.columns.str.replace(\" \", \"_\")"
   ]
  },
  {
   "cell_type": "code",
   "execution_count": null,
   "metadata": {},
   "outputs": [],
   "source": [
    "clean_agg = clean_df_filled.groupby(['listing_id']).agg('mean').reset_index(drop = True)\n",
    "clean_agg = clean_agg.groupby(['host_id']).agg(['mean']).reset_index(drop = False)\n",
    "clean_agg.columns = flatten_multiindex(clean_agg)"
   ]
  },
  {
   "cell_type": "code",
   "execution_count": 156,
   "metadata": {},
   "outputs": [
    {
     "name": "stdout",
     "output_type": "stream",
     "text": [
      "{'max_features': 14, 'min_samples_split': 62}\n"
     ]
    }
   ],
   "source": [
    "best_param = specify_best(model = RandomForestRegressor(random_state = 15), typ = 'RF', X = X, y = y)\n",
    "\n",
    "rf = RandomForestRegressor(min_samples_split=best_param.get('min_samples_split'), \n",
    "                           max_features= best_param.get('max_features'),random_state = 15)"
   ]
  },
  {
   "cell_type": "code",
   "execution_count": 180,
   "metadata": {},
   "outputs": [],
   "source": [
    "X = clean_agg.drop(['index_mean','review_scores_rating_mean'], axis = 1)\n",
    "y = clean_agg['review_scores_rating_mean']"
   ]
  },
  {
   "cell_type": "code",
   "execution_count": 181,
   "metadata": {},
   "outputs": [
    {
     "name": "stdout",
     "output_type": "stream",
     "text": [
      "mss: 62\n",
      "max_feat: 14\n",
      "mean_mae: 5.269095769858627\n",
      "mean_mse: 63.66665469245745\n",
      "\n",
      "frequency: \n",
      "\n",
      "10\n",
      "10\n",
      "10\n",
      "10\n",
      "10\n",
      "10\n",
      "10\n",
      "10\n",
      "10\n",
      "10\n",
      "10\n",
      "10\n",
      "10\n",
      "10\n",
      "10\n",
      "10\n",
      "10\n",
      "10\n",
      "10\n",
      "10\n",
      "10\n",
      "10\n",
      "\n",
      "feat_imp: \n",
      "\n",
      "0.0012356920772716262\n",
      "0.0014223917814314567\n",
      "0.0016436998330776463\n",
      "0.001650593291167616\n",
      "0.001732212337660855\n",
      "0.002051211019639885\n",
      "0.0023790791598936037\n",
      "0.002504800547552084\n",
      "0.0025712319816586547\n",
      "0.0026224670063998293\n",
      "0.0032487465140214806\n",
      "0.003731258759013145\n",
      "0.003801915986453032\n",
      "0.004468291563780022\n",
      "0.004568319241056586\n",
      "0.004737095597177177\n",
      "0.005343753854514037\n",
      "0.007545974269732114\n",
      "0.012176991983677306\n",
      "0.012977903575691587\n",
      "0.025977851666221206\n",
      "0.030648963748985052\n",
      "\n",
      "top_ features\n",
      "\n",
      "Hot_Tub_1_0_mean\n",
      "Hair_Dryer_1_0_mean\n",
      "Laptop_Friendly_Workspace_1_0_mean\n",
      "Smoking_Allowed_1_0_mean\n",
      "latitude_mean\n",
      "house_rules_wordcount_mean\n",
      "weekly_price_float_mean\n",
      "longitude_mean\n",
      "Fire_Extinguisher_1_0_mean\n",
      "availability_365_mean\n",
      "number_of_reviews_mean\n",
      "calculated_host_listings_count_mean\n",
      "description_wordcount_mean\n",
      "comments_adcount_mean\n",
      "host_listings_count_mean\n",
      "cleaning_fee_float_mean\n",
      "host_total_listings_count_mean\n",
      "comments_wordcount_mean\n",
      "Air_Conditioning_1_0_mean\n",
      "Wireless_Internet_1_0_mean\n",
      "price_float_mean\n",
      "host_is_superhost_t_mean\n"
     ]
    }
   ],
   "source": [
    "rf_res = run_modelskfold(rf, X, y, pi_bool = True)\n",
    "\n",
    "results = top_features(rf_res[2], mean = True)\n",
    "print_vals(best_param, rf_res, results)"
   ]
  },
  {
   "cell_type": "code",
   "execution_count": 182,
   "metadata": {},
   "outputs": [
    {
     "data": {
      "application/vnd.plotly.v1+json": {
       "config": {
        "plotlyServerURL": "https://plot.ly"
       },
       "data": [
        {
         "name": "Ratings_Score_Top_Pred",
         "type": "bar",
         "x": [
          "Hot_Tub_1_0_mean",
          "Hair_Dryer_1_0_mean",
          "Laptop_Friendly_Workspace_1_0_mean",
          "Smoking_Allowed_1_0_mean",
          "latitude_mean",
          "house_rules_wordcount_mean",
          "weekly_price_float_mean",
          "longitude_mean",
          "Fire_Extinguisher_1_0_mean",
          "availability_365_mean",
          "number_of_reviews_mean",
          "calculated_host_listings_count_mean",
          "description_wordcount_mean",
          "comments_adcount_mean",
          "host_listings_count_mean",
          "cleaning_fee_float_mean",
          "host_total_listings_count_mean",
          "comments_wordcount_mean",
          "Air_Conditioning_1_0_mean",
          "Wireless_Internet_1_0_mean",
          "price_float_mean",
          "host_is_superhost_t_mean"
         ],
         "y": [
          0.0012356920772716262,
          0.0014223917814314567,
          0.0016436998330776463,
          0.001650593291167616,
          0.001732212337660855,
          0.002051211019639885,
          0.0023790791598936037,
          0.002504800547552084,
          0.0025712319816586547,
          0.0026224670063998293,
          0.0032487465140214806,
          0.003731258759013145,
          0.003801915986453032,
          0.004468291563780022,
          0.004568319241056586,
          0.004737095597177177,
          0.005343753854514037,
          0.007545974269732114,
          0.012176991983677306,
          0.012977903575691587,
          0.025977851666221206,
          0.030648963748985052
         ]
        }
       ],
       "layout": {
        "template": {
         "data": {
          "bar": [
           {
            "error_x": {
             "color": "#2a3f5f"
            },
            "error_y": {
             "color": "#2a3f5f"
            },
            "marker": {
             "line": {
              "color": "#E5ECF6",
              "width": 0.5
             }
            },
            "type": "bar"
           }
          ],
          "barpolar": [
           {
            "marker": {
             "line": {
              "color": "#E5ECF6",
              "width": 0.5
             }
            },
            "type": "barpolar"
           }
          ],
          "carpet": [
           {
            "aaxis": {
             "endlinecolor": "#2a3f5f",
             "gridcolor": "white",
             "linecolor": "white",
             "minorgridcolor": "white",
             "startlinecolor": "#2a3f5f"
            },
            "baxis": {
             "endlinecolor": "#2a3f5f",
             "gridcolor": "white",
             "linecolor": "white",
             "minorgridcolor": "white",
             "startlinecolor": "#2a3f5f"
            },
            "type": "carpet"
           }
          ],
          "choropleth": [
           {
            "colorbar": {
             "outlinewidth": 0,
             "ticks": ""
            },
            "type": "choropleth"
           }
          ],
          "contour": [
           {
            "colorbar": {
             "outlinewidth": 0,
             "ticks": ""
            },
            "colorscale": [
             [
              0,
              "#0d0887"
             ],
             [
              0.1111111111111111,
              "#46039f"
             ],
             [
              0.2222222222222222,
              "#7201a8"
             ],
             [
              0.3333333333333333,
              "#9c179e"
             ],
             [
              0.4444444444444444,
              "#bd3786"
             ],
             [
              0.5555555555555556,
              "#d8576b"
             ],
             [
              0.6666666666666666,
              "#ed7953"
             ],
             [
              0.7777777777777778,
              "#fb9f3a"
             ],
             [
              0.8888888888888888,
              "#fdca26"
             ],
             [
              1,
              "#f0f921"
             ]
            ],
            "type": "contour"
           }
          ],
          "contourcarpet": [
           {
            "colorbar": {
             "outlinewidth": 0,
             "ticks": ""
            },
            "type": "contourcarpet"
           }
          ],
          "heatmap": [
           {
            "colorbar": {
             "outlinewidth": 0,
             "ticks": ""
            },
            "colorscale": [
             [
              0,
              "#0d0887"
             ],
             [
              0.1111111111111111,
              "#46039f"
             ],
             [
              0.2222222222222222,
              "#7201a8"
             ],
             [
              0.3333333333333333,
              "#9c179e"
             ],
             [
              0.4444444444444444,
              "#bd3786"
             ],
             [
              0.5555555555555556,
              "#d8576b"
             ],
             [
              0.6666666666666666,
              "#ed7953"
             ],
             [
              0.7777777777777778,
              "#fb9f3a"
             ],
             [
              0.8888888888888888,
              "#fdca26"
             ],
             [
              1,
              "#f0f921"
             ]
            ],
            "type": "heatmap"
           }
          ],
          "heatmapgl": [
           {
            "colorbar": {
             "outlinewidth": 0,
             "ticks": ""
            },
            "colorscale": [
             [
              0,
              "#0d0887"
             ],
             [
              0.1111111111111111,
              "#46039f"
             ],
             [
              0.2222222222222222,
              "#7201a8"
             ],
             [
              0.3333333333333333,
              "#9c179e"
             ],
             [
              0.4444444444444444,
              "#bd3786"
             ],
             [
              0.5555555555555556,
              "#d8576b"
             ],
             [
              0.6666666666666666,
              "#ed7953"
             ],
             [
              0.7777777777777778,
              "#fb9f3a"
             ],
             [
              0.8888888888888888,
              "#fdca26"
             ],
             [
              1,
              "#f0f921"
             ]
            ],
            "type": "heatmapgl"
           }
          ],
          "histogram": [
           {
            "marker": {
             "colorbar": {
              "outlinewidth": 0,
              "ticks": ""
             }
            },
            "type": "histogram"
           }
          ],
          "histogram2d": [
           {
            "colorbar": {
             "outlinewidth": 0,
             "ticks": ""
            },
            "colorscale": [
             [
              0,
              "#0d0887"
             ],
             [
              0.1111111111111111,
              "#46039f"
             ],
             [
              0.2222222222222222,
              "#7201a8"
             ],
             [
              0.3333333333333333,
              "#9c179e"
             ],
             [
              0.4444444444444444,
              "#bd3786"
             ],
             [
              0.5555555555555556,
              "#d8576b"
             ],
             [
              0.6666666666666666,
              "#ed7953"
             ],
             [
              0.7777777777777778,
              "#fb9f3a"
             ],
             [
              0.8888888888888888,
              "#fdca26"
             ],
             [
              1,
              "#f0f921"
             ]
            ],
            "type": "histogram2d"
           }
          ],
          "histogram2dcontour": [
           {
            "colorbar": {
             "outlinewidth": 0,
             "ticks": ""
            },
            "colorscale": [
             [
              0,
              "#0d0887"
             ],
             [
              0.1111111111111111,
              "#46039f"
             ],
             [
              0.2222222222222222,
              "#7201a8"
             ],
             [
              0.3333333333333333,
              "#9c179e"
             ],
             [
              0.4444444444444444,
              "#bd3786"
             ],
             [
              0.5555555555555556,
              "#d8576b"
             ],
             [
              0.6666666666666666,
              "#ed7953"
             ],
             [
              0.7777777777777778,
              "#fb9f3a"
             ],
             [
              0.8888888888888888,
              "#fdca26"
             ],
             [
              1,
              "#f0f921"
             ]
            ],
            "type": "histogram2dcontour"
           }
          ],
          "mesh3d": [
           {
            "colorbar": {
             "outlinewidth": 0,
             "ticks": ""
            },
            "type": "mesh3d"
           }
          ],
          "parcoords": [
           {
            "line": {
             "colorbar": {
              "outlinewidth": 0,
              "ticks": ""
             }
            },
            "type": "parcoords"
           }
          ],
          "pie": [
           {
            "automargin": true,
            "type": "pie"
           }
          ],
          "scatter": [
           {
            "marker": {
             "colorbar": {
              "outlinewidth": 0,
              "ticks": ""
             }
            },
            "type": "scatter"
           }
          ],
          "scatter3d": [
           {
            "line": {
             "colorbar": {
              "outlinewidth": 0,
              "ticks": ""
             }
            },
            "marker": {
             "colorbar": {
              "outlinewidth": 0,
              "ticks": ""
             }
            },
            "type": "scatter3d"
           }
          ],
          "scattercarpet": [
           {
            "marker": {
             "colorbar": {
              "outlinewidth": 0,
              "ticks": ""
             }
            },
            "type": "scattercarpet"
           }
          ],
          "scattergeo": [
           {
            "marker": {
             "colorbar": {
              "outlinewidth": 0,
              "ticks": ""
             }
            },
            "type": "scattergeo"
           }
          ],
          "scattergl": [
           {
            "marker": {
             "colorbar": {
              "outlinewidth": 0,
              "ticks": ""
             }
            },
            "type": "scattergl"
           }
          ],
          "scattermapbox": [
           {
            "marker": {
             "colorbar": {
              "outlinewidth": 0,
              "ticks": ""
             }
            },
            "type": "scattermapbox"
           }
          ],
          "scatterpolar": [
           {
            "marker": {
             "colorbar": {
              "outlinewidth": 0,
              "ticks": ""
             }
            },
            "type": "scatterpolar"
           }
          ],
          "scatterpolargl": [
           {
            "marker": {
             "colorbar": {
              "outlinewidth": 0,
              "ticks": ""
             }
            },
            "type": "scatterpolargl"
           }
          ],
          "scatterternary": [
           {
            "marker": {
             "colorbar": {
              "outlinewidth": 0,
              "ticks": ""
             }
            },
            "type": "scatterternary"
           }
          ],
          "surface": [
           {
            "colorbar": {
             "outlinewidth": 0,
             "ticks": ""
            },
            "colorscale": [
             [
              0,
              "#0d0887"
             ],
             [
              0.1111111111111111,
              "#46039f"
             ],
             [
              0.2222222222222222,
              "#7201a8"
             ],
             [
              0.3333333333333333,
              "#9c179e"
             ],
             [
              0.4444444444444444,
              "#bd3786"
             ],
             [
              0.5555555555555556,
              "#d8576b"
             ],
             [
              0.6666666666666666,
              "#ed7953"
             ],
             [
              0.7777777777777778,
              "#fb9f3a"
             ],
             [
              0.8888888888888888,
              "#fdca26"
             ],
             [
              1,
              "#f0f921"
             ]
            ],
            "type": "surface"
           }
          ],
          "table": [
           {
            "cells": {
             "fill": {
              "color": "#EBF0F8"
             },
             "line": {
              "color": "white"
             }
            },
            "header": {
             "fill": {
              "color": "#C8D4E3"
             },
             "line": {
              "color": "white"
             }
            },
            "type": "table"
           }
          ]
         },
         "layout": {
          "annotationdefaults": {
           "arrowcolor": "#2a3f5f",
           "arrowhead": 0,
           "arrowwidth": 1
          },
          "coloraxis": {
           "colorbar": {
            "outlinewidth": 0,
            "ticks": ""
           }
          },
          "colorscale": {
           "diverging": [
            [
             0,
             "#8e0152"
            ],
            [
             0.1,
             "#c51b7d"
            ],
            [
             0.2,
             "#de77ae"
            ],
            [
             0.3,
             "#f1b6da"
            ],
            [
             0.4,
             "#fde0ef"
            ],
            [
             0.5,
             "#f7f7f7"
            ],
            [
             0.6,
             "#e6f5d0"
            ],
            [
             0.7,
             "#b8e186"
            ],
            [
             0.8,
             "#7fbc41"
            ],
            [
             0.9,
             "#4d9221"
            ],
            [
             1,
             "#276419"
            ]
           ],
           "sequential": [
            [
             0,
             "#0d0887"
            ],
            [
             0.1111111111111111,
             "#46039f"
            ],
            [
             0.2222222222222222,
             "#7201a8"
            ],
            [
             0.3333333333333333,
             "#9c179e"
            ],
            [
             0.4444444444444444,
             "#bd3786"
            ],
            [
             0.5555555555555556,
             "#d8576b"
            ],
            [
             0.6666666666666666,
             "#ed7953"
            ],
            [
             0.7777777777777778,
             "#fb9f3a"
            ],
            [
             0.8888888888888888,
             "#fdca26"
            ],
            [
             1,
             "#f0f921"
            ]
           ],
           "sequentialminus": [
            [
             0,
             "#0d0887"
            ],
            [
             0.1111111111111111,
             "#46039f"
            ],
            [
             0.2222222222222222,
             "#7201a8"
            ],
            [
             0.3333333333333333,
             "#9c179e"
            ],
            [
             0.4444444444444444,
             "#bd3786"
            ],
            [
             0.5555555555555556,
             "#d8576b"
            ],
            [
             0.6666666666666666,
             "#ed7953"
            ],
            [
             0.7777777777777778,
             "#fb9f3a"
            ],
            [
             0.8888888888888888,
             "#fdca26"
            ],
            [
             1,
             "#f0f921"
            ]
           ]
          },
          "colorway": [
           "#636efa",
           "#EF553B",
           "#00cc96",
           "#ab63fa",
           "#FFA15A",
           "#19d3f3",
           "#FF6692",
           "#B6E880",
           "#FF97FF",
           "#FECB52"
          ],
          "font": {
           "color": "#2a3f5f"
          },
          "geo": {
           "bgcolor": "white",
           "lakecolor": "white",
           "landcolor": "#E5ECF6",
           "showlakes": true,
           "showland": true,
           "subunitcolor": "white"
          },
          "hoverlabel": {
           "align": "left"
          },
          "hovermode": "closest",
          "mapbox": {
           "style": "light"
          },
          "paper_bgcolor": "white",
          "plot_bgcolor": "#E5ECF6",
          "polar": {
           "angularaxis": {
            "gridcolor": "white",
            "linecolor": "white",
            "ticks": ""
           },
           "bgcolor": "#E5ECF6",
           "radialaxis": {
            "gridcolor": "white",
            "linecolor": "white",
            "ticks": ""
           }
          },
          "scene": {
           "xaxis": {
            "backgroundcolor": "#E5ECF6",
            "gridcolor": "white",
            "gridwidth": 2,
            "linecolor": "white",
            "showbackground": true,
            "ticks": "",
            "zerolinecolor": "white"
           },
           "yaxis": {
            "backgroundcolor": "#E5ECF6",
            "gridcolor": "white",
            "gridwidth": 2,
            "linecolor": "white",
            "showbackground": true,
            "ticks": "",
            "zerolinecolor": "white"
           },
           "zaxis": {
            "backgroundcolor": "#E5ECF6",
            "gridcolor": "white",
            "gridwidth": 2,
            "linecolor": "white",
            "showbackground": true,
            "ticks": "",
            "zerolinecolor": "white"
           }
          },
          "shapedefaults": {
           "line": {
            "color": "#2a3f5f"
           }
          },
          "ternary": {
           "aaxis": {
            "gridcolor": "white",
            "linecolor": "white",
            "ticks": ""
           },
           "baxis": {
            "gridcolor": "white",
            "linecolor": "white",
            "ticks": ""
           },
           "bgcolor": "#E5ECF6",
           "caxis": {
            "gridcolor": "white",
            "linecolor": "white",
            "ticks": ""
           }
          },
          "title": {
           "x": 0.05
          },
          "xaxis": {
           "automargin": true,
           "gridcolor": "white",
           "linecolor": "white",
           "ticks": "",
           "title": {
            "standoff": 15
           },
           "zerolinecolor": "white",
           "zerolinewidth": 2
          },
          "yaxis": {
           "automargin": true,
           "gridcolor": "white",
           "linecolor": "white",
           "ticks": "",
           "title": {
            "standoff": 15
           },
           "zerolinecolor": "white",
           "zerolinewidth": 2
          }
         }
        }
       }
      },
      "text/html": [
       "<div>\n",
       "        \n",
       "        \n",
       "            <div id=\"a2d7673f-bab1-4052-94ec-337a730dd56a\" class=\"plotly-graph-div\" style=\"height:525px; width:100%;\"></div>\n",
       "            <script type=\"text/javascript\">\n",
       "                require([\"plotly\"], function(Plotly) {\n",
       "                    window.PLOTLYENV=window.PLOTLYENV || {};\n",
       "                    \n",
       "                if (document.getElementById(\"a2d7673f-bab1-4052-94ec-337a730dd56a\")) {\n",
       "                    Plotly.newPlot(\n",
       "                        'a2d7673f-bab1-4052-94ec-337a730dd56a',\n",
       "                        [{\"name\": \"Ratings_Score_Top_Pred\", \"type\": \"bar\", \"x\": [\"Hot_Tub_1_0_mean\", \"Hair_Dryer_1_0_mean\", \"Laptop_Friendly_Workspace_1_0_mean\", \"Smoking_Allowed_1_0_mean\", \"latitude_mean\", \"house_rules_wordcount_mean\", \"weekly_price_float_mean\", \"longitude_mean\", \"Fire_Extinguisher_1_0_mean\", \"availability_365_mean\", \"number_of_reviews_mean\", \"calculated_host_listings_count_mean\", \"description_wordcount_mean\", \"comments_adcount_mean\", \"host_listings_count_mean\", \"cleaning_fee_float_mean\", \"host_total_listings_count_mean\", \"comments_wordcount_mean\", \"Air_Conditioning_1_0_mean\", \"Wireless_Internet_1_0_mean\", \"price_float_mean\", \"host_is_superhost_t_mean\"], \"y\": [0.0012356920772716262, 0.0014223917814314567, 0.0016436998330776463, 0.001650593291167616, 0.001732212337660855, 0.002051211019639885, 0.0023790791598936037, 0.002504800547552084, 0.0025712319816586547, 0.0026224670063998293, 0.0032487465140214806, 0.003731258759013145, 0.003801915986453032, 0.004468291563780022, 0.004568319241056586, 0.004737095597177177, 0.005343753854514037, 0.007545974269732114, 0.012176991983677306, 0.012977903575691587, 0.025977851666221206, 0.030648963748985052]}],\n",
       "                        {\"template\": {\"data\": {\"bar\": [{\"error_x\": {\"color\": \"#2a3f5f\"}, \"error_y\": {\"color\": \"#2a3f5f\"}, \"marker\": {\"line\": {\"color\": \"#E5ECF6\", \"width\": 0.5}}, \"type\": \"bar\"}], \"barpolar\": [{\"marker\": {\"line\": {\"color\": \"#E5ECF6\", \"width\": 0.5}}, \"type\": \"barpolar\"}], \"carpet\": [{\"aaxis\": {\"endlinecolor\": \"#2a3f5f\", \"gridcolor\": \"white\", \"linecolor\": \"white\", \"minorgridcolor\": \"white\", \"startlinecolor\": \"#2a3f5f\"}, \"baxis\": {\"endlinecolor\": \"#2a3f5f\", \"gridcolor\": \"white\", \"linecolor\": \"white\", \"minorgridcolor\": \"white\", \"startlinecolor\": \"#2a3f5f\"}, \"type\": \"carpet\"}], \"choropleth\": [{\"colorbar\": {\"outlinewidth\": 0, \"ticks\": \"\"}, \"type\": \"choropleth\"}], \"contour\": [{\"colorbar\": {\"outlinewidth\": 0, \"ticks\": \"\"}, \"colorscale\": [[0.0, \"#0d0887\"], [0.1111111111111111, \"#46039f\"], [0.2222222222222222, \"#7201a8\"], [0.3333333333333333, \"#9c179e\"], [0.4444444444444444, \"#bd3786\"], [0.5555555555555556, \"#d8576b\"], [0.6666666666666666, \"#ed7953\"], [0.7777777777777778, \"#fb9f3a\"], [0.8888888888888888, \"#fdca26\"], [1.0, \"#f0f921\"]], \"type\": \"contour\"}], \"contourcarpet\": [{\"colorbar\": {\"outlinewidth\": 0, \"ticks\": \"\"}, \"type\": \"contourcarpet\"}], \"heatmap\": [{\"colorbar\": {\"outlinewidth\": 0, \"ticks\": \"\"}, \"colorscale\": [[0.0, \"#0d0887\"], [0.1111111111111111, \"#46039f\"], [0.2222222222222222, \"#7201a8\"], [0.3333333333333333, \"#9c179e\"], [0.4444444444444444, \"#bd3786\"], [0.5555555555555556, \"#d8576b\"], [0.6666666666666666, \"#ed7953\"], [0.7777777777777778, \"#fb9f3a\"], [0.8888888888888888, \"#fdca26\"], [1.0, \"#f0f921\"]], \"type\": \"heatmap\"}], \"heatmapgl\": [{\"colorbar\": {\"outlinewidth\": 0, \"ticks\": \"\"}, \"colorscale\": [[0.0, \"#0d0887\"], [0.1111111111111111, \"#46039f\"], [0.2222222222222222, \"#7201a8\"], [0.3333333333333333, \"#9c179e\"], [0.4444444444444444, \"#bd3786\"], [0.5555555555555556, \"#d8576b\"], [0.6666666666666666, \"#ed7953\"], [0.7777777777777778, \"#fb9f3a\"], [0.8888888888888888, \"#fdca26\"], [1.0, \"#f0f921\"]], \"type\": \"heatmapgl\"}], \"histogram\": [{\"marker\": {\"colorbar\": {\"outlinewidth\": 0, \"ticks\": \"\"}}, \"type\": \"histogram\"}], \"histogram2d\": [{\"colorbar\": {\"outlinewidth\": 0, \"ticks\": \"\"}, \"colorscale\": [[0.0, \"#0d0887\"], [0.1111111111111111, \"#46039f\"], [0.2222222222222222, \"#7201a8\"], [0.3333333333333333, \"#9c179e\"], [0.4444444444444444, \"#bd3786\"], [0.5555555555555556, \"#d8576b\"], [0.6666666666666666, \"#ed7953\"], [0.7777777777777778, \"#fb9f3a\"], [0.8888888888888888, \"#fdca26\"], [1.0, \"#f0f921\"]], \"type\": \"histogram2d\"}], \"histogram2dcontour\": [{\"colorbar\": {\"outlinewidth\": 0, \"ticks\": \"\"}, \"colorscale\": [[0.0, \"#0d0887\"], [0.1111111111111111, \"#46039f\"], [0.2222222222222222, \"#7201a8\"], [0.3333333333333333, \"#9c179e\"], [0.4444444444444444, \"#bd3786\"], [0.5555555555555556, \"#d8576b\"], [0.6666666666666666, \"#ed7953\"], [0.7777777777777778, \"#fb9f3a\"], [0.8888888888888888, \"#fdca26\"], [1.0, \"#f0f921\"]], \"type\": \"histogram2dcontour\"}], \"mesh3d\": [{\"colorbar\": {\"outlinewidth\": 0, \"ticks\": \"\"}, \"type\": \"mesh3d\"}], \"parcoords\": [{\"line\": {\"colorbar\": {\"outlinewidth\": 0, \"ticks\": \"\"}}, \"type\": \"parcoords\"}], \"pie\": [{\"automargin\": true, \"type\": \"pie\"}], \"scatter\": [{\"marker\": {\"colorbar\": {\"outlinewidth\": 0, \"ticks\": \"\"}}, \"type\": \"scatter\"}], \"scatter3d\": [{\"line\": {\"colorbar\": {\"outlinewidth\": 0, \"ticks\": \"\"}}, \"marker\": {\"colorbar\": {\"outlinewidth\": 0, \"ticks\": \"\"}}, \"type\": \"scatter3d\"}], \"scattercarpet\": [{\"marker\": {\"colorbar\": {\"outlinewidth\": 0, \"ticks\": \"\"}}, \"type\": \"scattercarpet\"}], \"scattergeo\": [{\"marker\": {\"colorbar\": {\"outlinewidth\": 0, \"ticks\": \"\"}}, \"type\": \"scattergeo\"}], \"scattergl\": [{\"marker\": {\"colorbar\": {\"outlinewidth\": 0, \"ticks\": \"\"}}, \"type\": \"scattergl\"}], \"scattermapbox\": [{\"marker\": {\"colorbar\": {\"outlinewidth\": 0, \"ticks\": \"\"}}, \"type\": \"scattermapbox\"}], \"scatterpolar\": [{\"marker\": {\"colorbar\": {\"outlinewidth\": 0, \"ticks\": \"\"}}, \"type\": \"scatterpolar\"}], \"scatterpolargl\": [{\"marker\": {\"colorbar\": {\"outlinewidth\": 0, \"ticks\": \"\"}}, \"type\": \"scatterpolargl\"}], \"scatterternary\": [{\"marker\": {\"colorbar\": {\"outlinewidth\": 0, \"ticks\": \"\"}}, \"type\": \"scatterternary\"}], \"surface\": [{\"colorbar\": {\"outlinewidth\": 0, \"ticks\": \"\"}, \"colorscale\": [[0.0, \"#0d0887\"], [0.1111111111111111, \"#46039f\"], [0.2222222222222222, \"#7201a8\"], [0.3333333333333333, \"#9c179e\"], [0.4444444444444444, \"#bd3786\"], [0.5555555555555556, \"#d8576b\"], [0.6666666666666666, \"#ed7953\"], [0.7777777777777778, \"#fb9f3a\"], [0.8888888888888888, \"#fdca26\"], [1.0, \"#f0f921\"]], \"type\": \"surface\"}], \"table\": [{\"cells\": {\"fill\": {\"color\": \"#EBF0F8\"}, \"line\": {\"color\": \"white\"}}, \"header\": {\"fill\": {\"color\": \"#C8D4E3\"}, \"line\": {\"color\": \"white\"}}, \"type\": \"table\"}]}, \"layout\": {\"annotationdefaults\": {\"arrowcolor\": \"#2a3f5f\", \"arrowhead\": 0, \"arrowwidth\": 1}, \"coloraxis\": {\"colorbar\": {\"outlinewidth\": 0, \"ticks\": \"\"}}, \"colorscale\": {\"diverging\": [[0, \"#8e0152\"], [0.1, \"#c51b7d\"], [0.2, \"#de77ae\"], [0.3, \"#f1b6da\"], [0.4, \"#fde0ef\"], [0.5, \"#f7f7f7\"], [0.6, \"#e6f5d0\"], [0.7, \"#b8e186\"], [0.8, \"#7fbc41\"], [0.9, \"#4d9221\"], [1, \"#276419\"]], \"sequential\": [[0.0, \"#0d0887\"], [0.1111111111111111, \"#46039f\"], [0.2222222222222222, \"#7201a8\"], [0.3333333333333333, \"#9c179e\"], [0.4444444444444444, \"#bd3786\"], [0.5555555555555556, \"#d8576b\"], [0.6666666666666666, \"#ed7953\"], [0.7777777777777778, \"#fb9f3a\"], [0.8888888888888888, \"#fdca26\"], [1.0, \"#f0f921\"]], \"sequentialminus\": [[0.0, \"#0d0887\"], [0.1111111111111111, \"#46039f\"], [0.2222222222222222, \"#7201a8\"], [0.3333333333333333, \"#9c179e\"], [0.4444444444444444, \"#bd3786\"], [0.5555555555555556, \"#d8576b\"], [0.6666666666666666, \"#ed7953\"], [0.7777777777777778, \"#fb9f3a\"], [0.8888888888888888, \"#fdca26\"], [1.0, \"#f0f921\"]]}, \"colorway\": [\"#636efa\", \"#EF553B\", \"#00cc96\", \"#ab63fa\", \"#FFA15A\", \"#19d3f3\", \"#FF6692\", \"#B6E880\", \"#FF97FF\", \"#FECB52\"], \"font\": {\"color\": \"#2a3f5f\"}, \"geo\": {\"bgcolor\": \"white\", \"lakecolor\": \"white\", \"landcolor\": \"#E5ECF6\", \"showlakes\": true, \"showland\": true, \"subunitcolor\": \"white\"}, \"hoverlabel\": {\"align\": \"left\"}, \"hovermode\": \"closest\", \"mapbox\": {\"style\": \"light\"}, \"paper_bgcolor\": \"white\", \"plot_bgcolor\": \"#E5ECF6\", \"polar\": {\"angularaxis\": {\"gridcolor\": \"white\", \"linecolor\": \"white\", \"ticks\": \"\"}, \"bgcolor\": \"#E5ECF6\", \"radialaxis\": {\"gridcolor\": \"white\", \"linecolor\": \"white\", \"ticks\": \"\"}}, \"scene\": {\"xaxis\": {\"backgroundcolor\": \"#E5ECF6\", \"gridcolor\": \"white\", \"gridwidth\": 2, \"linecolor\": \"white\", \"showbackground\": true, \"ticks\": \"\", \"zerolinecolor\": \"white\"}, \"yaxis\": {\"backgroundcolor\": \"#E5ECF6\", \"gridcolor\": \"white\", \"gridwidth\": 2, \"linecolor\": \"white\", \"showbackground\": true, \"ticks\": \"\", \"zerolinecolor\": \"white\"}, \"zaxis\": {\"backgroundcolor\": \"#E5ECF6\", \"gridcolor\": \"white\", \"gridwidth\": 2, \"linecolor\": \"white\", \"showbackground\": true, \"ticks\": \"\", \"zerolinecolor\": \"white\"}}, \"shapedefaults\": {\"line\": {\"color\": \"#2a3f5f\"}}, \"ternary\": {\"aaxis\": {\"gridcolor\": \"white\", \"linecolor\": \"white\", \"ticks\": \"\"}, \"baxis\": {\"gridcolor\": \"white\", \"linecolor\": \"white\", \"ticks\": \"\"}, \"bgcolor\": \"#E5ECF6\", \"caxis\": {\"gridcolor\": \"white\", \"linecolor\": \"white\", \"ticks\": \"\"}}, \"title\": {\"x\": 0.05}, \"xaxis\": {\"automargin\": true, \"gridcolor\": \"white\", \"linecolor\": \"white\", \"ticks\": \"\", \"title\": {\"standoff\": 15}, \"zerolinecolor\": \"white\", \"zerolinewidth\": 2}, \"yaxis\": {\"automargin\": true, \"gridcolor\": \"white\", \"linecolor\": \"white\", \"ticks\": \"\", \"title\": {\"standoff\": 15}, \"zerolinecolor\": \"white\", \"zerolinewidth\": 2}}}},\n",
       "                        {\"responsive\": true}\n",
       "                    ).then(function(){\n",
       "                            \n",
       "var gd = document.getElementById('a2d7673f-bab1-4052-94ec-337a730dd56a');\n",
       "var x = new MutationObserver(function (mutations, observer) {{\n",
       "        var display = window.getComputedStyle(gd).display;\n",
       "        if (!display || display === 'none') {{\n",
       "            console.log([gd, 'removed!']);\n",
       "            Plotly.purge(gd);\n",
       "            observer.disconnect();\n",
       "        }}\n",
       "}});\n",
       "\n",
       "// Listen for the removal of the full notebook cells\n",
       "var notebookContainer = gd.closest('#notebook-container');\n",
       "if (notebookContainer) {{\n",
       "    x.observe(notebookContainer, {childList: true});\n",
       "}}\n",
       "\n",
       "// Listen for the clearing of the current output cell\n",
       "var outputEl = gd.closest('.output');\n",
       "if (outputEl) {{\n",
       "    x.observe(outputEl, {childList: true});\n",
       "}}\n",
       "\n",
       "                        })\n",
       "                };\n",
       "                });\n",
       "            </script>\n",
       "        </div>"
      ]
     },
     "metadata": {},
     "output_type": "display_data"
    }
   ],
   "source": [
    "fig = go.Figure()\n",
    "fig.add_trace(go.Bar(x=results['features'], y = results['feat_imps'], name = 'Ratings_Score_Top_Pred'))"
   ]
  },
  {
   "cell_type": "code",
   "execution_count": 187,
   "metadata": {
    "scrolled": true
   },
   "outputs": [
    {
     "name": "stdout",
     "output_type": "stream",
     "text": [
      "              Mixed Linear Model Regression Results\n",
      "==================================================================\n",
      "Model:            MixedLM Dependent Variable: review_scores_rating\n",
      "No. Observations: 68210   Method:             REML                \n",
      "No. Groups:       1731    Scale:              0.0000              \n",
      "Min. group size:  1       Log-Likelihood:     628471.5217         \n",
      "Max. group size:  1448    Converged:          Yes                 \n",
      "Mean group size:  39.4                                            \n",
      "-------------------------------------------------------------------\n",
      "                  Coef.   Std.Err.     z      P>|z|  [0.025  0.975]\n",
      "-------------------------------------------------------------------\n",
      "Intercept         92.007     0.037  2465.317  0.000  91.934  92.080\n",
      "Hot_Tub_1_0       -1.986     0.174   -11.392  0.000  -2.328  -1.645\n",
      "listing_id Var     3.684  1429.570                                 \n",
      "==================================================================\n",
      "\n",
      "              Mixed Linear Model Regression Results\n",
      "==================================================================\n",
      "Model:            MixedLM Dependent Variable: review_scores_rating\n",
      "No. Observations: 68210   Method:             REML                \n",
      "No. Groups:       1731    Scale:              0.0000              \n",
      "Min. group size:  1       Log-Likelihood:     628978.4396         \n",
      "Max. group size:  1448    Converged:          Yes                 \n",
      "Mean group size:  39.4                                            \n",
      "-------------------------------------------------------------------\n",
      "                  Coef.   Std.Err.     z      P>|z|  [0.025  0.975]\n",
      "-------------------------------------------------------------------\n",
      "Intercept         90.755     0.052  1756.603  0.000  90.653  90.856\n",
      "Hair_Dryer_1_0     2.278     0.072    31.437  0.000   2.136   2.420\n",
      "listing_id Var     3.638  1422.452                                 \n",
      "==================================================================\n",
      "\n",
      "                  Mixed Linear Model Regression Results\n",
      "==========================================================================\n",
      "Model:                MixedLM   Dependent Variable:   review_scores_rating\n",
      "No. Observations:     68210     Method:               REML                \n",
      "No. Groups:           1731      Scale:                0.0000              \n",
      "Min. group size:      1         Log-Likelihood:       628869.8018         \n",
      "Max. group size:      1448      Converged:            Yes                 \n",
      "Mean group size:      39.4                                                \n",
      "--------------------------------------------------------------------------\n",
      "                              Coef.  Std.Err.    z     P>|z| [0.025 0.975]\n",
      "--------------------------------------------------------------------------\n",
      "Intercept                     90.848    0.052 1751.200 0.000 90.747 90.950\n",
      "Laptop_Friendly_Workspace_1_0  2.085    0.073   28.730 0.000  1.942  2.227\n",
      "listing_id Var                 3.647 1423.480                             \n",
      "==========================================================================\n",
      "\n",
      "              Mixed Linear Model Regression Results\n",
      "==================================================================\n",
      "Model:            MixedLM Dependent Variable: review_scores_rating\n",
      "No. Observations: 68210   Method:             REML                \n",
      "No. Groups:       1731    Scale:              0.0000              \n",
      "Min. group size:  1       Log-Likelihood:     628505.2779         \n",
      "Max. group size:  1448    Converged:          Yes                 \n",
      "Mean group size:  39.4                                            \n",
      "------------------------------------------------------------------\n",
      "                      Coef.  Std.Err.    z     P>|z| [0.025 0.975]\n",
      "------------------------------------------------------------------\n",
      "Intercept             91.993    0.037 2492.514 0.000 91.920 92.065\n",
      "Smoking_Allowed_1_0   -3.044    0.234  -13.013 0.000 -3.503 -2.586\n",
      "listing_id Var         3.682 1429.477                             \n",
      "==================================================================\n",
      "\n",
      "              Mixed Linear Model Regression Results\n",
      "==================================================================\n",
      "Model:            MixedLM Dependent Variable: review_scores_rating\n",
      "No. Observations: 68210   Method:             REML                \n",
      "No. Groups:       1731    Scale:              0.0000              \n",
      "Min. group size:  1       Log-Likelihood:     628416.5971         \n",
      "Max. group size:  1448    Converged:          Yes                 \n",
      "Mean group size:  39.4                                            \n",
      "-------------------------------------------------------------------\n",
      "                  Coef.   Std.Err.    z     P>|z|   [0.025   0.975]\n",
      "-------------------------------------------------------------------\n",
      "Intercept        329.549    61.760   5.336  0.000  208.502  450.596\n",
      "latitude          -5.613     1.459  -3.848  0.000   -8.472   -2.754\n",
      "listing_id Var     3.690  1431.366                                 \n",
      "==================================================================\n",
      "\n",
      "              Mixed Linear Model Regression Results\n",
      "==================================================================\n",
      "Model:            MixedLM Dependent Variable: review_scores_rating\n",
      "No. Observations: 68210   Method:             REML                \n",
      "No. Groups:       1731    Scale:              0.0000              \n",
      "Min. group size:  1       Log-Likelihood:     628648.7668         \n",
      "Max. group size:  1448    Converged:          Yes                 \n",
      "Mean group size:  39.4                                            \n",
      "------------------------------------------------------------------\n",
      "                      Coef.  Std.Err.    z     P>|z| [0.025 0.975]\n",
      "------------------------------------------------------------------\n",
      "Intercept             91.329    0.046 2002.831 0.000 91.240 91.418\n",
      "house_rules_wordcount  0.015    0.001   21.348 0.000  0.013  0.016\n",
      "listing_id Var         3.666 1426.596                             \n",
      "==================================================================\n",
      "\n",
      "              Mixed Linear Model Regression Results\n",
      "==================================================================\n",
      "Model:            MixedLM Dependent Variable: review_scores_rating\n",
      "No. Observations: 68210   Method:             REML                \n",
      "No. Groups:       1731    Scale:              0.0000              \n",
      "Min. group size:  1       Log-Likelihood:     628487.7153         \n",
      "Max. group size:  1448    Converged:          Yes                 \n",
      "Mean group size:  39.4                                            \n",
      "------------------------------------------------------------------\n",
      "                       Coef.  Std.Err.    z    P>|z| [0.025 0.975]\n",
      "------------------------------------------------------------------\n",
      "Intercept              90.628    0.099 915.727 0.000 90.434 90.822\n",
      "weekly_price_float      0.001    0.000  14.002 0.000  0.001  0.002\n",
      "listing_id Var          3.680 1428.664                            \n",
      "==================================================================\n",
      "\n",
      "              Mixed Linear Model Regression Results\n",
      "==================================================================\n",
      "Model:            MixedLM Dependent Variable: review_scores_rating\n",
      "No. Observations: 68210   Method:             REML                \n",
      "No. Groups:       1731    Scale:              0.0000              \n",
      "Min. group size:  1       Log-Likelihood:     628413.4804         \n",
      "Max. group size:  1448    Converged:          Yes                 \n",
      "Mean group size:  39.4                                            \n",
      "-------------------------------------------------------------------\n",
      "                   Coef.   Std.Err.    z    P>|z|   [0.025   0.975]\n",
      "-------------------------------------------------------------------\n",
      "Intercept         456.789    81.156  5.629  0.000  297.727  615.852\n",
      "longitude           5.133     1.142  4.496  0.000    2.895    7.370\n",
      "listing_id Var      3.690  1431.589                                \n",
      "==================================================================\n",
      "\n",
      "              Mixed Linear Model Regression Results\n",
      "==================================================================\n",
      "Model:            MixedLM Dependent Variable: review_scores_rating\n",
      "No. Observations: 68210   Method:             REML                \n",
      "No. Groups:       1731    Scale:              0.0000              \n",
      "Min. group size:  1       Log-Likelihood:     629016.3906         \n",
      "Max. group size:  1448    Converged:          Yes                 \n",
      "Mean group size:  39.4                                            \n",
      "------------------------------------------------------------------\n",
      "                      Coef.  Std.Err.    z     P>|z| [0.025 0.975]\n",
      "------------------------------------------------------------------\n",
      "Intercept             90.712    0.050 1821.732 0.000 90.615 90.810\n",
      "Fire_Extinguisher_1_0  2.548    0.072   35.172 0.000  2.406  2.690\n",
      "listing_id Var         3.625 1417.983                             \n",
      "==================================================================\n",
      "\n"
     ]
    },
    {
     "name": "stdout",
     "output_type": "stream",
     "text": [
      "              Mixed Linear Model Regression Results\n",
      "==================================================================\n",
      "Model:            MixedLM Dependent Variable: review_scores_rating\n",
      "No. Observations: 68210   Method:             REML                \n",
      "No. Groups:       1731    Scale:              0.0000              \n",
      "Min. group size:  1       Log-Likelihood:     628693.7744         \n",
      "Max. group size:  1448    Converged:          Yes                 \n",
      "Mean group size:  39.4                                            \n",
      "-------------------------------------------------------------------\n",
      "                  Coef.   Std.Err.     z      P>|z|  [0.025  0.975]\n",
      "-------------------------------------------------------------------\n",
      "Intercept         92.972     0.061  1528.381  0.000  92.853  93.091\n",
      "availability_365  -0.006     0.000   -21.716  0.000  -0.006  -0.005\n",
      "listing_id Var     3.666  1427.331                                 \n",
      "==================================================================\n",
      "\n",
      "              Mixed Linear Model Regression Results\n",
      "==================================================================\n",
      "Model:            MixedLM Dependent Variable: review_scores_rating\n",
      "No. Observations: 68210   Method:             REML                \n",
      "No. Groups:       1731    Scale:              0.0000              \n",
      "Min. group size:  1       Log-Likelihood:     628391.7805         \n",
      "Max. group size:  1448    Converged:          Yes                 \n",
      "Mean group size:  39.4                                            \n",
      "------------------------------------------------------------------\n",
      "                      Coef.  Std.Err.    z     P>|z| [0.025 0.975]\n",
      "------------------------------------------------------------------\n",
      "Intercept             91.782    0.043 2123.460 0.000 91.697 91.867\n",
      "number_of_reviews      0.006    0.001    5.864 0.000  0.004  0.007\n",
      "listing_id Var         3.689 1429.986                             \n",
      "==================================================================\n",
      "\n",
      "                   Mixed Linear Model Regression Results\n",
      "===========================================================================\n",
      "Model:               MixedLM    Dependent Variable:    review_scores_rating\n",
      "No. Observations:    68210      Method:                REML                \n",
      "No. Groups:          1731       Scale:                 0.0000              \n",
      "Min. group size:     1          Log-Likelihood:        629110.0898         \n",
      "Max. group size:     1448       Converged:             Yes                 \n",
      "Mean group size:     39.4                                                  \n",
      "---------------------------------------------------------------------------\n",
      "                               Coef.  Std.Err.    z     P>|z| [0.025 0.975]\n",
      "---------------------------------------------------------------------------\n",
      "Intercept                      92.494    0.039 2354.638 0.000 92.417 92.571\n",
      "calculated_host_listings_count -0.057    0.002  -37.519 0.000 -0.060 -0.054\n",
      "listing_id Var                  3.616 1416.611                             \n",
      "===========================================================================\n",
      "\n",
      "              Mixed Linear Model Regression Results\n",
      "==================================================================\n",
      "Model:            MixedLM Dependent Variable: review_scores_rating\n",
      "No. Observations: 68210   Method:             REML                \n",
      "No. Groups:       1731    Scale:              0.0000              \n",
      "Min. group size:  1       Log-Likelihood:     629076.5790         \n",
      "Max. group size:  1448    Converged:          Yes                 \n",
      "Mean group size:  39.4                                            \n",
      "------------------------------------------------------------------\n",
      "                       Coef.  Std.Err.    z    P>|z| [0.025 0.975]\n",
      "------------------------------------------------------------------\n",
      "Intercept              88.739    0.102 866.355 0.000 88.538 88.939\n",
      "description_wordcount   0.023    0.001  33.157 0.000  0.022  0.025\n",
      "listing_id Var          3.632 1422.319                            \n",
      "==================================================================\n",
      "\n",
      "              Mixed Linear Model Regression Results\n",
      "==================================================================\n",
      "Model:            MixedLM Dependent Variable: review_scores_rating\n",
      "No. Observations: 68210   Method:             REML                \n",
      "No. Groups:       1731    Scale:              0.0000              \n",
      "Min. group size:  1       Log-Likelihood:     628372.0430         \n",
      "Max. group size:  1448    Converged:          Yes                 \n",
      "Mean group size:  39.4                                            \n",
      "-------------------------------------------------------------------\n",
      "                  Coef.   Std.Err.     z      P>|z|  [0.025  0.975]\n",
      "-------------------------------------------------------------------\n",
      "Intercept         91.917     0.036  2518.953  0.000  91.846  91.989\n",
      "comments_adcount  -0.000     0.000    -0.000  1.000  -0.000   0.000\n",
      "listing_id Var     3.691  1430.546                                 \n",
      "==================================================================\n",
      "\n",
      "              Mixed Linear Model Regression Results\n",
      "==================================================================\n",
      "Model:            MixedLM Dependent Variable: review_scores_rating\n",
      "No. Observations: 68210   Method:             REML                \n",
      "No. Groups:       1731    Scale:              0.0000              \n",
      "Min. group size:  1       Log-Likelihood:     628892.8252         \n",
      "Max. group size:  1448    Converged:          Yes                 \n",
      "Mean group size:  39.4                                            \n",
      "------------------------------------------------------------------\n",
      "                      Coef.  Std.Err.    z     P>|z| [0.025 0.975]\n",
      "------------------------------------------------------------------\n",
      "Intercept             92.283    0.038 2436.486 0.000 92.209 92.358\n",
      "host_listings_count   -0.008    0.000  -32.920 0.000 -0.009 -0.008\n",
      "listing_id Var         3.633 1418.706                             \n",
      "==================================================================\n",
      "\n",
      "              Mixed Linear Model Regression Results\n",
      "==================================================================\n",
      "Model:            MixedLM Dependent Variable: review_scores_rating\n",
      "No. Observations: 68210   Method:             REML                \n",
      "No. Groups:       1731    Scale:              0.0000              \n",
      "Min. group size:  1       Log-Likelihood:     628396.8267         \n",
      "Max. group size:  1448    Converged:          Yes                 \n",
      "Mean group size:  39.4                                            \n",
      "------------------------------------------------------------------\n",
      "                      Coef.  Std.Err.    z     P>|z| [0.025 0.975]\n",
      "------------------------------------------------------------------\n",
      "Intercept             91.755    0.064 1431.851 0.000 91.629 91.881\n",
      "cleaning_fee_float     0.003    0.001    3.059 0.002  0.001  0.004\n",
      "listing_id Var         3.690 1430.603                             \n",
      "==================================================================\n",
      "\n",
      "                Mixed Linear Model Regression Results\n",
      "======================================================================\n",
      "Model:              MixedLM  Dependent Variable:  review_scores_rating\n",
      "No. Observations:   68210    Method:              REML                \n",
      "No. Groups:         1731     Scale:               0.0000              \n",
      "Min. group size:    1        Log-Likelihood:      628892.8252         \n",
      "Max. group size:    1448     Converged:           Yes                 \n",
      "Mean group size:    39.4                                              \n",
      "----------------------------------------------------------------------\n",
      "                          Coef.  Std.Err.    z     P>|z| [0.025 0.975]\n",
      "----------------------------------------------------------------------\n",
      "Intercept                 92.283    0.038 2436.486 0.000 92.209 92.358\n",
      "host_total_listings_count -0.008    0.000  -32.920 0.000 -0.009 -0.008\n",
      "listing_id Var             3.633 1418.706                             \n",
      "======================================================================\n",
      "\n",
      "              Mixed Linear Model Regression Results\n",
      "==================================================================\n",
      "Model:            MixedLM Dependent Variable: review_scores_rating\n",
      "No. Observations: 68210   Method:             REML                \n",
      "No. Groups:       1731    Scale:              0.0000              \n",
      "Min. group size:  1       Log-Likelihood:     628373.3195         \n",
      "Max. group size:  1448    Converged:          Yes                 \n",
      "Mean group size:  39.4                                            \n",
      "------------------------------------------------------------------\n",
      "                      Coef.  Std.Err.    z     P>|z| [0.025 0.975]\n",
      "------------------------------------------------------------------\n",
      "Intercept             91.917    0.036 2518.934 0.000 91.845 91.988\n",
      "comments_wordcount    -0.000    0.000   -0.000 1.000 -0.000  0.000\n",
      "listing_id Var         3.691 1430.613                             \n",
      "==================================================================\n",
      "\n"
     ]
    },
    {
     "name": "stdout",
     "output_type": "stream",
     "text": [
      "              Mixed Linear Model Regression Results\n",
      "==================================================================\n",
      "Model:            MixedLM Dependent Variable: review_scores_rating\n",
      "No. Observations: 68210   Method:             REML                \n",
      "No. Groups:       1731    Scale:              0.0000              \n",
      "Min. group size:  1       Log-Likelihood:     629039.0369         \n",
      "Max. group size:  1448    Converged:          Yes                 \n",
      "Mean group size:  39.4                                            \n",
      "------------------------------------------------------------------\n",
      "                      Coef.  Std.Err.    z     P>|z| [0.025 0.975]\n",
      "------------------------------------------------------------------\n",
      "Intercept             89.323    0.079 1128.860 0.000 89.168 89.478\n",
      "Air_Conditioning_1_0   3.280    0.089   36.878 0.000  3.106  3.454\n",
      "listing_id Var         3.619 1416.036                             \n",
      "==================================================================\n",
      "\n",
      "              Mixed Linear Model Regression Results\n",
      "==================================================================\n",
      "Model:            MixedLM Dependent Variable: review_scores_rating\n",
      "No. Observations: 68210   Method:             REML                \n",
      "No. Groups:       1731    Scale:              0.0000              \n",
      "Min. group size:  1       Log-Likelihood:     628922.0319         \n",
      "Max. group size:  1448    Converged:          Yes                 \n",
      "Mean group size:  39.4                                            \n",
      "------------------------------------------------------------------\n",
      "                       Coef.  Std.Err.    z    P>|z| [0.025 0.975]\n",
      "------------------------------------------------------------------\n",
      "Intercept              85.529    0.189 453.530 0.000 85.160 85.899\n",
      "Wireless_Internet_1_0   6.632    0.192  34.516 0.000  6.256  7.009\n",
      "listing_id Var          3.627 1416.868                            \n",
      "==================================================================\n",
      "\n",
      "              Mixed Linear Model Regression Results\n",
      "==================================================================\n",
      "Model:            MixedLM Dependent Variable: review_scores_rating\n",
      "No. Observations: 68210   Method:             REML                \n",
      "No. Groups:       1731    Scale:              0.0000              \n",
      "Min. group size:  1       Log-Likelihood:     628759.1819         \n",
      "Max. group size:  1448    Converged:          Yes                 \n",
      "Mean group size:  39.4                                            \n",
      "-------------------------------------------------------------------\n",
      "                  Coef.   Std.Err.     z      P>|z|  [0.025  0.975]\n",
      "-------------------------------------------------------------------\n",
      "Intercept         90.431     0.065  1398.033  0.000  90.304  90.558\n",
      "price_float        0.009     0.000    27.774  0.000   0.008   0.010\n",
      "listing_id Var     3.650  1422.388                                 \n",
      "==================================================================\n",
      "\n",
      "              Mixed Linear Model Regression Results\n",
      "==================================================================\n",
      "Model:            MixedLM Dependent Variable: review_scores_rating\n",
      "No. Observations: 68210   Method:             REML                \n",
      "No. Groups:       1731    Scale:              0.0000              \n",
      "Min. group size:  1       Log-Likelihood:     630739.0601         \n",
      "Max. group size:  1448    Converged:          Yes                 \n",
      "Mean group size:  39.4                                            \n",
      "------------------------------------------------------------------\n",
      "                      Coef.  Std.Err.    z     P>|z| [0.025 0.975]\n",
      "------------------------------------------------------------------\n",
      "Intercept             91.062    0.038 2369.605 0.000 90.986 91.137\n",
      "host_is_superhost_t    5.995    0.102   58.814 0.000  5.795  6.195\n",
      "listing_id Var         3.512 1409.333                             \n",
      "==================================================================\n",
      "\n"
     ]
    }
   ],
   "source": [
    "multilevel_models = []\n",
    "for i in results['features']:\n",
    "    i = i.replace('_mean', '')\n",
    "    mlm_i = mlm(str_x = str(i), str_y = 'review_scores_rating', str_group = 'host_id', df= clean_df_filled, nested = 'listing_id')\n",
    "    multilevel_models.append(mlm_i)\n",
    "    print(mlm_i.summary())"
   ]
  },
  {
   "cell_type": "code",
   "execution_count": 247,
   "metadata": {},
   "outputs": [],
   "source": [
    "mlm_results = pd.DataFrame({\n",
    "    \n",
    "    'features': [i.pvalues.index[1] for i in multilevel_models],\n",
    "    'pvalues':[i.pvalues[1] for i in multilevel_models],\n",
    "    'coef': [i.params[1] for i in multilevel_models],\n",
    "    'conf_int_025': [i.conf_int()[0][1] for i in multilevel_models],\n",
    "    'conf_int_975': [i.conf_int()[1][1] for i in multilevel_models]\n",
    "    \n",
    "})"
   ]
  },
  {
   "cell_type": "code",
   "execution_count": 248,
   "metadata": {},
   "outputs": [
    {
     "data": {
      "text/html": [
       "<style  type=\"text/css\" >\n",
       "#T_e1262148_0677_11eb_8466_8cec4b0ec919row0_col1,#T_e1262148_0677_11eb_8466_8cec4b0ec919row1_col1,#T_e1262148_0677_11eb_8466_8cec4b0ec919row2_col1,#T_e1262148_0677_11eb_8466_8cec4b0ec919row3_col1,#T_e1262148_0677_11eb_8466_8cec4b0ec919row4_col1,#T_e1262148_0677_11eb_8466_8cec4b0ec919row5_col1,#T_e1262148_0677_11eb_8466_8cec4b0ec919row6_col1,#T_e1262148_0677_11eb_8466_8cec4b0ec919row7_col1,#T_e1262148_0677_11eb_8466_8cec4b0ec919row8_col1,#T_e1262148_0677_11eb_8466_8cec4b0ec919row9_col1,#T_e1262148_0677_11eb_8466_8cec4b0ec919row10_col1,#T_e1262148_0677_11eb_8466_8cec4b0ec919row11_col1,#T_e1262148_0677_11eb_8466_8cec4b0ec919row12_col1,#T_e1262148_0677_11eb_8466_8cec4b0ec919row14_col1,#T_e1262148_0677_11eb_8466_8cec4b0ec919row15_col1,#T_e1262148_0677_11eb_8466_8cec4b0ec919row16_col1,#T_e1262148_0677_11eb_8466_8cec4b0ec919row18_col1,#T_e1262148_0677_11eb_8466_8cec4b0ec919row19_col1,#T_e1262148_0677_11eb_8466_8cec4b0ec919row20_col1,#T_e1262148_0677_11eb_8466_8cec4b0ec919row21_col1{\n",
       "            background-color:  #fff7fb;\n",
       "            color:  #000000;\n",
       "        }#T_e1262148_0677_11eb_8466_8cec4b0ec919row13_col1,#T_e1262148_0677_11eb_8466_8cec4b0ec919row17_col1{\n",
       "            background-color:  #023858;\n",
       "            color:  #f1f1f1;\n",
       "        }</style><table id=\"T_e1262148_0677_11eb_8466_8cec4b0ec919\" ><thead>    <tr>        <th class=\"blank level0\" ></th>        <th class=\"col_heading level0 col0\" >features</th>        <th class=\"col_heading level0 col1\" >pvalues</th>    </tr></thead><tbody>\n",
       "                <tr>\n",
       "                        <th id=\"T_e1262148_0677_11eb_8466_8cec4b0ec919level0_row0\" class=\"row_heading level0 row0\" >0</th>\n",
       "                        <td id=\"T_e1262148_0677_11eb_8466_8cec4b0ec919row0_col0\" class=\"data row0 col0\" >Hot_Tub_1_0</td>\n",
       "                        <td id=\"T_e1262148_0677_11eb_8466_8cec4b0ec919row0_col1\" class=\"data row0 col1\" >0.000000</td>\n",
       "            </tr>\n",
       "            <tr>\n",
       "                        <th id=\"T_e1262148_0677_11eb_8466_8cec4b0ec919level0_row1\" class=\"row_heading level0 row1\" >1</th>\n",
       "                        <td id=\"T_e1262148_0677_11eb_8466_8cec4b0ec919row1_col0\" class=\"data row1 col0\" >Hair_Dryer_1_0</td>\n",
       "                        <td id=\"T_e1262148_0677_11eb_8466_8cec4b0ec919row1_col1\" class=\"data row1 col1\" >0.000000</td>\n",
       "            </tr>\n",
       "            <tr>\n",
       "                        <th id=\"T_e1262148_0677_11eb_8466_8cec4b0ec919level0_row2\" class=\"row_heading level0 row2\" >2</th>\n",
       "                        <td id=\"T_e1262148_0677_11eb_8466_8cec4b0ec919row2_col0\" class=\"data row2 col0\" >Laptop_Friendly_Workspace_1_0</td>\n",
       "                        <td id=\"T_e1262148_0677_11eb_8466_8cec4b0ec919row2_col1\" class=\"data row2 col1\" >0.000000</td>\n",
       "            </tr>\n",
       "            <tr>\n",
       "                        <th id=\"T_e1262148_0677_11eb_8466_8cec4b0ec919level0_row3\" class=\"row_heading level0 row3\" >3</th>\n",
       "                        <td id=\"T_e1262148_0677_11eb_8466_8cec4b0ec919row3_col0\" class=\"data row3 col0\" >Smoking_Allowed_1_0</td>\n",
       "                        <td id=\"T_e1262148_0677_11eb_8466_8cec4b0ec919row3_col1\" class=\"data row3 col1\" >0.000000</td>\n",
       "            </tr>\n",
       "            <tr>\n",
       "                        <th id=\"T_e1262148_0677_11eb_8466_8cec4b0ec919level0_row4\" class=\"row_heading level0 row4\" >4</th>\n",
       "                        <td id=\"T_e1262148_0677_11eb_8466_8cec4b0ec919row4_col0\" class=\"data row4 col0\" >latitude</td>\n",
       "                        <td id=\"T_e1262148_0677_11eb_8466_8cec4b0ec919row4_col1\" class=\"data row4 col1\" >0.000119</td>\n",
       "            </tr>\n",
       "            <tr>\n",
       "                        <th id=\"T_e1262148_0677_11eb_8466_8cec4b0ec919level0_row5\" class=\"row_heading level0 row5\" >5</th>\n",
       "                        <td id=\"T_e1262148_0677_11eb_8466_8cec4b0ec919row5_col0\" class=\"data row5 col0\" >house_rules_wordcount</td>\n",
       "                        <td id=\"T_e1262148_0677_11eb_8466_8cec4b0ec919row5_col1\" class=\"data row5 col1\" >0.000000</td>\n",
       "            </tr>\n",
       "            <tr>\n",
       "                        <th id=\"T_e1262148_0677_11eb_8466_8cec4b0ec919level0_row6\" class=\"row_heading level0 row6\" >6</th>\n",
       "                        <td id=\"T_e1262148_0677_11eb_8466_8cec4b0ec919row6_col0\" class=\"data row6 col0\" >weekly_price_float</td>\n",
       "                        <td id=\"T_e1262148_0677_11eb_8466_8cec4b0ec919row6_col1\" class=\"data row6 col1\" >0.000000</td>\n",
       "            </tr>\n",
       "            <tr>\n",
       "                        <th id=\"T_e1262148_0677_11eb_8466_8cec4b0ec919level0_row7\" class=\"row_heading level0 row7\" >7</th>\n",
       "                        <td id=\"T_e1262148_0677_11eb_8466_8cec4b0ec919row7_col0\" class=\"data row7 col0\" >longitude</td>\n",
       "                        <td id=\"T_e1262148_0677_11eb_8466_8cec4b0ec919row7_col1\" class=\"data row7 col1\" >0.000007</td>\n",
       "            </tr>\n",
       "            <tr>\n",
       "                        <th id=\"T_e1262148_0677_11eb_8466_8cec4b0ec919level0_row8\" class=\"row_heading level0 row8\" >8</th>\n",
       "                        <td id=\"T_e1262148_0677_11eb_8466_8cec4b0ec919row8_col0\" class=\"data row8 col0\" >Fire_Extinguisher_1_0</td>\n",
       "                        <td id=\"T_e1262148_0677_11eb_8466_8cec4b0ec919row8_col1\" class=\"data row8 col1\" >0.000000</td>\n",
       "            </tr>\n",
       "            <tr>\n",
       "                        <th id=\"T_e1262148_0677_11eb_8466_8cec4b0ec919level0_row9\" class=\"row_heading level0 row9\" >9</th>\n",
       "                        <td id=\"T_e1262148_0677_11eb_8466_8cec4b0ec919row9_col0\" class=\"data row9 col0\" >availability_365</td>\n",
       "                        <td id=\"T_e1262148_0677_11eb_8466_8cec4b0ec919row9_col1\" class=\"data row9 col1\" >0.000000</td>\n",
       "            </tr>\n",
       "            <tr>\n",
       "                        <th id=\"T_e1262148_0677_11eb_8466_8cec4b0ec919level0_row10\" class=\"row_heading level0 row10\" >10</th>\n",
       "                        <td id=\"T_e1262148_0677_11eb_8466_8cec4b0ec919row10_col0\" class=\"data row10 col0\" >number_of_reviews</td>\n",
       "                        <td id=\"T_e1262148_0677_11eb_8466_8cec4b0ec919row10_col1\" class=\"data row10 col1\" >0.000000</td>\n",
       "            </tr>\n",
       "            <tr>\n",
       "                        <th id=\"T_e1262148_0677_11eb_8466_8cec4b0ec919level0_row11\" class=\"row_heading level0 row11\" >11</th>\n",
       "                        <td id=\"T_e1262148_0677_11eb_8466_8cec4b0ec919row11_col0\" class=\"data row11 col0\" >calculated_host_listings_count</td>\n",
       "                        <td id=\"T_e1262148_0677_11eb_8466_8cec4b0ec919row11_col1\" class=\"data row11 col1\" >0.000000</td>\n",
       "            </tr>\n",
       "            <tr>\n",
       "                        <th id=\"T_e1262148_0677_11eb_8466_8cec4b0ec919level0_row12\" class=\"row_heading level0 row12\" >12</th>\n",
       "                        <td id=\"T_e1262148_0677_11eb_8466_8cec4b0ec919row12_col0\" class=\"data row12 col0\" >description_wordcount</td>\n",
       "                        <td id=\"T_e1262148_0677_11eb_8466_8cec4b0ec919row12_col1\" class=\"data row12 col1\" >0.000000</td>\n",
       "            </tr>\n",
       "            <tr>\n",
       "                        <th id=\"T_e1262148_0677_11eb_8466_8cec4b0ec919level0_row13\" class=\"row_heading level0 row13\" >13</th>\n",
       "                        <td id=\"T_e1262148_0677_11eb_8466_8cec4b0ec919row13_col0\" class=\"data row13 col0\" >comments_adcount</td>\n",
       "                        <td id=\"T_e1262148_0677_11eb_8466_8cec4b0ec919row13_col1\" class=\"data row13 col1\" >0.999986</td>\n",
       "            </tr>\n",
       "            <tr>\n",
       "                        <th id=\"T_e1262148_0677_11eb_8466_8cec4b0ec919level0_row14\" class=\"row_heading level0 row14\" >14</th>\n",
       "                        <td id=\"T_e1262148_0677_11eb_8466_8cec4b0ec919row14_col0\" class=\"data row14 col0\" >host_listings_count</td>\n",
       "                        <td id=\"T_e1262148_0677_11eb_8466_8cec4b0ec919row14_col1\" class=\"data row14 col1\" >0.000000</td>\n",
       "            </tr>\n",
       "            <tr>\n",
       "                        <th id=\"T_e1262148_0677_11eb_8466_8cec4b0ec919level0_row15\" class=\"row_heading level0 row15\" >15</th>\n",
       "                        <td id=\"T_e1262148_0677_11eb_8466_8cec4b0ec919row15_col0\" class=\"data row15 col0\" >cleaning_fee_float</td>\n",
       "                        <td id=\"T_e1262148_0677_11eb_8466_8cec4b0ec919row15_col1\" class=\"data row15 col1\" >0.002222</td>\n",
       "            </tr>\n",
       "            <tr>\n",
       "                        <th id=\"T_e1262148_0677_11eb_8466_8cec4b0ec919level0_row16\" class=\"row_heading level0 row16\" >16</th>\n",
       "                        <td id=\"T_e1262148_0677_11eb_8466_8cec4b0ec919row16_col0\" class=\"data row16 col0\" >host_total_listings_count</td>\n",
       "                        <td id=\"T_e1262148_0677_11eb_8466_8cec4b0ec919row16_col1\" class=\"data row16 col1\" >0.000000</td>\n",
       "            </tr>\n",
       "            <tr>\n",
       "                        <th id=\"T_e1262148_0677_11eb_8466_8cec4b0ec919level0_row17\" class=\"row_heading level0 row17\" >17</th>\n",
       "                        <td id=\"T_e1262148_0677_11eb_8466_8cec4b0ec919row17_col0\" class=\"data row17 col0\" >comments_wordcount</td>\n",
       "                        <td id=\"T_e1262148_0677_11eb_8466_8cec4b0ec919row17_col1\" class=\"data row17 col1\" >0.999973</td>\n",
       "            </tr>\n",
       "            <tr>\n",
       "                        <th id=\"T_e1262148_0677_11eb_8466_8cec4b0ec919level0_row18\" class=\"row_heading level0 row18\" >18</th>\n",
       "                        <td id=\"T_e1262148_0677_11eb_8466_8cec4b0ec919row18_col0\" class=\"data row18 col0\" >Air_Conditioning_1_0</td>\n",
       "                        <td id=\"T_e1262148_0677_11eb_8466_8cec4b0ec919row18_col1\" class=\"data row18 col1\" >0.000000</td>\n",
       "            </tr>\n",
       "            <tr>\n",
       "                        <th id=\"T_e1262148_0677_11eb_8466_8cec4b0ec919level0_row19\" class=\"row_heading level0 row19\" >19</th>\n",
       "                        <td id=\"T_e1262148_0677_11eb_8466_8cec4b0ec919row19_col0\" class=\"data row19 col0\" >Wireless_Internet_1_0</td>\n",
       "                        <td id=\"T_e1262148_0677_11eb_8466_8cec4b0ec919row19_col1\" class=\"data row19 col1\" >0.000000</td>\n",
       "            </tr>\n",
       "            <tr>\n",
       "                        <th id=\"T_e1262148_0677_11eb_8466_8cec4b0ec919level0_row20\" class=\"row_heading level0 row20\" >20</th>\n",
       "                        <td id=\"T_e1262148_0677_11eb_8466_8cec4b0ec919row20_col0\" class=\"data row20 col0\" >price_float</td>\n",
       "                        <td id=\"T_e1262148_0677_11eb_8466_8cec4b0ec919row20_col1\" class=\"data row20 col1\" >0.000000</td>\n",
       "            </tr>\n",
       "            <tr>\n",
       "                        <th id=\"T_e1262148_0677_11eb_8466_8cec4b0ec919level0_row21\" class=\"row_heading level0 row21\" >21</th>\n",
       "                        <td id=\"T_e1262148_0677_11eb_8466_8cec4b0ec919row21_col0\" class=\"data row21 col0\" >host_is_superhost_t</td>\n",
       "                        <td id=\"T_e1262148_0677_11eb_8466_8cec4b0ec919row21_col1\" class=\"data row21 col1\" >0.000000</td>\n",
       "            </tr>\n",
       "    </tbody></table>"
      ],
      "text/plain": [
       "<pandas.io.formats.style.Styler at 0x2642a043f98>"
      ]
     },
     "execution_count": 248,
     "metadata": {},
     "output_type": "execute_result"
    }
   ],
   "source": [
    "mlm_results[['features', 'pvalues']].style.background_gradient()"
   ]
  },
  {
   "cell_type": "code",
   "execution_count": 250,
   "metadata": {},
   "outputs": [
    {
     "data": {
      "application/vnd.plotly.v1+json": {
       "config": {
        "plotlyServerURL": "https://plot.ly"
       },
       "data": [
        {
         "error_y": {
          "array": [
           0.6834934613092591,
           0.2840624463091892,
           0.2844270968851246,
           0.9169616241042666,
           5.717988458635446,
           0.0026972730333860648,
           0.00041045905335428384,
           4.475279398412175,
           0.28393642875635283,
           0.0010216002185289026,
           0.003693247455630601,
           0.005973250390028606,
           0.002747808960578642,
           0.0010116200402898005,
           0.0033135417245728806,
           0.0010116200402898005,
           0.3486437518057448,
           0.7532298246752056,
           0.0012592804696961828,
           0.39954422752063223
          ],
          "type": "data",
          "visible": true
         },
         "marker": {
          "color": [
           -1.9863173637511238,
           2.278104201890116,
           2.08464145312256,
           -3.0440331882480787,
           -5.612637872893991,
           0.01468958168890246,
           0.0014661634770118939,
           5.132826367861461,
           2.54764479181331,
           -0.005659532504170718,
           0.005524742070663328,
           -0.05717179614509966,
           0.02324226955500944,
           -0.008495737362772288,
           0.002585657540161739,
           -0.008495737362772288,
           3.2800008172656336,
           6.632413798716827,
           0.008922316281523401,
           5.994747077184009
          ],
          "colorscale": [
           [
            0,
            "rgb(0,0,255)"
           ],
           [
            1,
            "rgb(255,0,0)"
           ]
          ],
          "opacity": 0.8,
          "showscale": true
         },
         "name": "Ratings_Score_Top_Coef",
         "type": "bar",
         "x": [
          "Hot_Tub_1_0",
          "Hair_Dryer_1_0",
          "Laptop_Friendly_Workspace_1_0",
          "Smoking_Allowed_1_0",
          "latitude",
          "house_rules_wordcount",
          "weekly_price_float",
          "longitude",
          "Fire_Extinguisher_1_0",
          "availability_365",
          "number_of_reviews",
          "calculated_host_listings_count",
          "description_wordcount",
          "host_listings_count",
          "cleaning_fee_float",
          "host_total_listings_count",
          "Air_Conditioning_1_0",
          "Wireless_Internet_1_0",
          "price_float",
          "host_is_superhost_t"
         ],
         "y": [
          -1.9863173637511238,
          2.278104201890116,
          2.08464145312256,
          -3.0440331882480787,
          -5.612637872893991,
          0.01468958168890246,
          0.0014661634770118939,
          5.132826367861461,
          2.54764479181331,
          -0.005659532504170718,
          0.005524742070663328,
          -0.05717179614509966,
          0.02324226955500944,
          -0.008495737362772288,
          0.002585657540161739,
          -0.008495737362772288,
          3.2800008172656336,
          6.632413798716827,
          0.008922316281523401,
          5.994747077184009
         ]
        }
       ],
       "layout": {
        "template": {
         "data": {
          "bar": [
           {
            "error_x": {
             "color": "#2a3f5f"
            },
            "error_y": {
             "color": "#2a3f5f"
            },
            "marker": {
             "line": {
              "color": "#E5ECF6",
              "width": 0.5
             }
            },
            "type": "bar"
           }
          ],
          "barpolar": [
           {
            "marker": {
             "line": {
              "color": "#E5ECF6",
              "width": 0.5
             }
            },
            "type": "barpolar"
           }
          ],
          "carpet": [
           {
            "aaxis": {
             "endlinecolor": "#2a3f5f",
             "gridcolor": "white",
             "linecolor": "white",
             "minorgridcolor": "white",
             "startlinecolor": "#2a3f5f"
            },
            "baxis": {
             "endlinecolor": "#2a3f5f",
             "gridcolor": "white",
             "linecolor": "white",
             "minorgridcolor": "white",
             "startlinecolor": "#2a3f5f"
            },
            "type": "carpet"
           }
          ],
          "choropleth": [
           {
            "colorbar": {
             "outlinewidth": 0,
             "ticks": ""
            },
            "type": "choropleth"
           }
          ],
          "contour": [
           {
            "colorbar": {
             "outlinewidth": 0,
             "ticks": ""
            },
            "colorscale": [
             [
              0,
              "#0d0887"
             ],
             [
              0.1111111111111111,
              "#46039f"
             ],
             [
              0.2222222222222222,
              "#7201a8"
             ],
             [
              0.3333333333333333,
              "#9c179e"
             ],
             [
              0.4444444444444444,
              "#bd3786"
             ],
             [
              0.5555555555555556,
              "#d8576b"
             ],
             [
              0.6666666666666666,
              "#ed7953"
             ],
             [
              0.7777777777777778,
              "#fb9f3a"
             ],
             [
              0.8888888888888888,
              "#fdca26"
             ],
             [
              1,
              "#f0f921"
             ]
            ],
            "type": "contour"
           }
          ],
          "contourcarpet": [
           {
            "colorbar": {
             "outlinewidth": 0,
             "ticks": ""
            },
            "type": "contourcarpet"
           }
          ],
          "heatmap": [
           {
            "colorbar": {
             "outlinewidth": 0,
             "ticks": ""
            },
            "colorscale": [
             [
              0,
              "#0d0887"
             ],
             [
              0.1111111111111111,
              "#46039f"
             ],
             [
              0.2222222222222222,
              "#7201a8"
             ],
             [
              0.3333333333333333,
              "#9c179e"
             ],
             [
              0.4444444444444444,
              "#bd3786"
             ],
             [
              0.5555555555555556,
              "#d8576b"
             ],
             [
              0.6666666666666666,
              "#ed7953"
             ],
             [
              0.7777777777777778,
              "#fb9f3a"
             ],
             [
              0.8888888888888888,
              "#fdca26"
             ],
             [
              1,
              "#f0f921"
             ]
            ],
            "type": "heatmap"
           }
          ],
          "heatmapgl": [
           {
            "colorbar": {
             "outlinewidth": 0,
             "ticks": ""
            },
            "colorscale": [
             [
              0,
              "#0d0887"
             ],
             [
              0.1111111111111111,
              "#46039f"
             ],
             [
              0.2222222222222222,
              "#7201a8"
             ],
             [
              0.3333333333333333,
              "#9c179e"
             ],
             [
              0.4444444444444444,
              "#bd3786"
             ],
             [
              0.5555555555555556,
              "#d8576b"
             ],
             [
              0.6666666666666666,
              "#ed7953"
             ],
             [
              0.7777777777777778,
              "#fb9f3a"
             ],
             [
              0.8888888888888888,
              "#fdca26"
             ],
             [
              1,
              "#f0f921"
             ]
            ],
            "type": "heatmapgl"
           }
          ],
          "histogram": [
           {
            "marker": {
             "colorbar": {
              "outlinewidth": 0,
              "ticks": ""
             }
            },
            "type": "histogram"
           }
          ],
          "histogram2d": [
           {
            "colorbar": {
             "outlinewidth": 0,
             "ticks": ""
            },
            "colorscale": [
             [
              0,
              "#0d0887"
             ],
             [
              0.1111111111111111,
              "#46039f"
             ],
             [
              0.2222222222222222,
              "#7201a8"
             ],
             [
              0.3333333333333333,
              "#9c179e"
             ],
             [
              0.4444444444444444,
              "#bd3786"
             ],
             [
              0.5555555555555556,
              "#d8576b"
             ],
             [
              0.6666666666666666,
              "#ed7953"
             ],
             [
              0.7777777777777778,
              "#fb9f3a"
             ],
             [
              0.8888888888888888,
              "#fdca26"
             ],
             [
              1,
              "#f0f921"
             ]
            ],
            "type": "histogram2d"
           }
          ],
          "histogram2dcontour": [
           {
            "colorbar": {
             "outlinewidth": 0,
             "ticks": ""
            },
            "colorscale": [
             [
              0,
              "#0d0887"
             ],
             [
              0.1111111111111111,
              "#46039f"
             ],
             [
              0.2222222222222222,
              "#7201a8"
             ],
             [
              0.3333333333333333,
              "#9c179e"
             ],
             [
              0.4444444444444444,
              "#bd3786"
             ],
             [
              0.5555555555555556,
              "#d8576b"
             ],
             [
              0.6666666666666666,
              "#ed7953"
             ],
             [
              0.7777777777777778,
              "#fb9f3a"
             ],
             [
              0.8888888888888888,
              "#fdca26"
             ],
             [
              1,
              "#f0f921"
             ]
            ],
            "type": "histogram2dcontour"
           }
          ],
          "mesh3d": [
           {
            "colorbar": {
             "outlinewidth": 0,
             "ticks": ""
            },
            "type": "mesh3d"
           }
          ],
          "parcoords": [
           {
            "line": {
             "colorbar": {
              "outlinewidth": 0,
              "ticks": ""
             }
            },
            "type": "parcoords"
           }
          ],
          "pie": [
           {
            "automargin": true,
            "type": "pie"
           }
          ],
          "scatter": [
           {
            "marker": {
             "colorbar": {
              "outlinewidth": 0,
              "ticks": ""
             }
            },
            "type": "scatter"
           }
          ],
          "scatter3d": [
           {
            "line": {
             "colorbar": {
              "outlinewidth": 0,
              "ticks": ""
             }
            },
            "marker": {
             "colorbar": {
              "outlinewidth": 0,
              "ticks": ""
             }
            },
            "type": "scatter3d"
           }
          ],
          "scattercarpet": [
           {
            "marker": {
             "colorbar": {
              "outlinewidth": 0,
              "ticks": ""
             }
            },
            "type": "scattercarpet"
           }
          ],
          "scattergeo": [
           {
            "marker": {
             "colorbar": {
              "outlinewidth": 0,
              "ticks": ""
             }
            },
            "type": "scattergeo"
           }
          ],
          "scattergl": [
           {
            "marker": {
             "colorbar": {
              "outlinewidth": 0,
              "ticks": ""
             }
            },
            "type": "scattergl"
           }
          ],
          "scattermapbox": [
           {
            "marker": {
             "colorbar": {
              "outlinewidth": 0,
              "ticks": ""
             }
            },
            "type": "scattermapbox"
           }
          ],
          "scatterpolar": [
           {
            "marker": {
             "colorbar": {
              "outlinewidth": 0,
              "ticks": ""
             }
            },
            "type": "scatterpolar"
           }
          ],
          "scatterpolargl": [
           {
            "marker": {
             "colorbar": {
              "outlinewidth": 0,
              "ticks": ""
             }
            },
            "type": "scatterpolargl"
           }
          ],
          "scatterternary": [
           {
            "marker": {
             "colorbar": {
              "outlinewidth": 0,
              "ticks": ""
             }
            },
            "type": "scatterternary"
           }
          ],
          "surface": [
           {
            "colorbar": {
             "outlinewidth": 0,
             "ticks": ""
            },
            "colorscale": [
             [
              0,
              "#0d0887"
             ],
             [
              0.1111111111111111,
              "#46039f"
             ],
             [
              0.2222222222222222,
              "#7201a8"
             ],
             [
              0.3333333333333333,
              "#9c179e"
             ],
             [
              0.4444444444444444,
              "#bd3786"
             ],
             [
              0.5555555555555556,
              "#d8576b"
             ],
             [
              0.6666666666666666,
              "#ed7953"
             ],
             [
              0.7777777777777778,
              "#fb9f3a"
             ],
             [
              0.8888888888888888,
              "#fdca26"
             ],
             [
              1,
              "#f0f921"
             ]
            ],
            "type": "surface"
           }
          ],
          "table": [
           {
            "cells": {
             "fill": {
              "color": "#EBF0F8"
             },
             "line": {
              "color": "white"
             }
            },
            "header": {
             "fill": {
              "color": "#C8D4E3"
             },
             "line": {
              "color": "white"
             }
            },
            "type": "table"
           }
          ]
         },
         "layout": {
          "annotationdefaults": {
           "arrowcolor": "#2a3f5f",
           "arrowhead": 0,
           "arrowwidth": 1
          },
          "coloraxis": {
           "colorbar": {
            "outlinewidth": 0,
            "ticks": ""
           }
          },
          "colorscale": {
           "diverging": [
            [
             0,
             "#8e0152"
            ],
            [
             0.1,
             "#c51b7d"
            ],
            [
             0.2,
             "#de77ae"
            ],
            [
             0.3,
             "#f1b6da"
            ],
            [
             0.4,
             "#fde0ef"
            ],
            [
             0.5,
             "#f7f7f7"
            ],
            [
             0.6,
             "#e6f5d0"
            ],
            [
             0.7,
             "#b8e186"
            ],
            [
             0.8,
             "#7fbc41"
            ],
            [
             0.9,
             "#4d9221"
            ],
            [
             1,
             "#276419"
            ]
           ],
           "sequential": [
            [
             0,
             "#0d0887"
            ],
            [
             0.1111111111111111,
             "#46039f"
            ],
            [
             0.2222222222222222,
             "#7201a8"
            ],
            [
             0.3333333333333333,
             "#9c179e"
            ],
            [
             0.4444444444444444,
             "#bd3786"
            ],
            [
             0.5555555555555556,
             "#d8576b"
            ],
            [
             0.6666666666666666,
             "#ed7953"
            ],
            [
             0.7777777777777778,
             "#fb9f3a"
            ],
            [
             0.8888888888888888,
             "#fdca26"
            ],
            [
             1,
             "#f0f921"
            ]
           ],
           "sequentialminus": [
            [
             0,
             "#0d0887"
            ],
            [
             0.1111111111111111,
             "#46039f"
            ],
            [
             0.2222222222222222,
             "#7201a8"
            ],
            [
             0.3333333333333333,
             "#9c179e"
            ],
            [
             0.4444444444444444,
             "#bd3786"
            ],
            [
             0.5555555555555556,
             "#d8576b"
            ],
            [
             0.6666666666666666,
             "#ed7953"
            ],
            [
             0.7777777777777778,
             "#fb9f3a"
            ],
            [
             0.8888888888888888,
             "#fdca26"
            ],
            [
             1,
             "#f0f921"
            ]
           ]
          },
          "colorway": [
           "#636efa",
           "#EF553B",
           "#00cc96",
           "#ab63fa",
           "#FFA15A",
           "#19d3f3",
           "#FF6692",
           "#B6E880",
           "#FF97FF",
           "#FECB52"
          ],
          "font": {
           "color": "#2a3f5f"
          },
          "geo": {
           "bgcolor": "white",
           "lakecolor": "white",
           "landcolor": "#E5ECF6",
           "showlakes": true,
           "showland": true,
           "subunitcolor": "white"
          },
          "hoverlabel": {
           "align": "left"
          },
          "hovermode": "closest",
          "mapbox": {
           "style": "light"
          },
          "paper_bgcolor": "white",
          "plot_bgcolor": "#E5ECF6",
          "polar": {
           "angularaxis": {
            "gridcolor": "white",
            "linecolor": "white",
            "ticks": ""
           },
           "bgcolor": "#E5ECF6",
           "radialaxis": {
            "gridcolor": "white",
            "linecolor": "white",
            "ticks": ""
           }
          },
          "scene": {
           "xaxis": {
            "backgroundcolor": "#E5ECF6",
            "gridcolor": "white",
            "gridwidth": 2,
            "linecolor": "white",
            "showbackground": true,
            "ticks": "",
            "zerolinecolor": "white"
           },
           "yaxis": {
            "backgroundcolor": "#E5ECF6",
            "gridcolor": "white",
            "gridwidth": 2,
            "linecolor": "white",
            "showbackground": true,
            "ticks": "",
            "zerolinecolor": "white"
           },
           "zaxis": {
            "backgroundcolor": "#E5ECF6",
            "gridcolor": "white",
            "gridwidth": 2,
            "linecolor": "white",
            "showbackground": true,
            "ticks": "",
            "zerolinecolor": "white"
           }
          },
          "shapedefaults": {
           "line": {
            "color": "#2a3f5f"
           }
          },
          "ternary": {
           "aaxis": {
            "gridcolor": "white",
            "linecolor": "white",
            "ticks": ""
           },
           "baxis": {
            "gridcolor": "white",
            "linecolor": "white",
            "ticks": ""
           },
           "bgcolor": "#E5ECF6",
           "caxis": {
            "gridcolor": "white",
            "linecolor": "white",
            "ticks": ""
           }
          },
          "title": {
           "x": 0.05
          },
          "xaxis": {
           "automargin": true,
           "gridcolor": "white",
           "linecolor": "white",
           "ticks": "",
           "title": {
            "standoff": 15
           },
           "zerolinecolor": "white",
           "zerolinewidth": 2
          },
          "yaxis": {
           "automargin": true,
           "gridcolor": "white",
           "linecolor": "white",
           "ticks": "",
           "title": {
            "standoff": 15
           },
           "zerolinecolor": "white",
           "zerolinewidth": 2
          }
         }
        }
       }
      },
      "text/html": [
       "<div>\n",
       "        \n",
       "        \n",
       "            <div id=\"ca1880e0-1401-4987-84f2-f11fbe6d742d\" class=\"plotly-graph-div\" style=\"height:525px; width:100%;\"></div>\n",
       "            <script type=\"text/javascript\">\n",
       "                require([\"plotly\"], function(Plotly) {\n",
       "                    window.PLOTLYENV=window.PLOTLYENV || {};\n",
       "                    \n",
       "                if (document.getElementById(\"ca1880e0-1401-4987-84f2-f11fbe6d742d\")) {\n",
       "                    Plotly.newPlot(\n",
       "                        'ca1880e0-1401-4987-84f2-f11fbe6d742d',\n",
       "                        [{\"error_y\": {\"array\": [0.6834934613092591, 0.2840624463091892, 0.2844270968851246, 0.9169616241042666, 5.717988458635446, 0.0026972730333860648, 0.00041045905335428384, 4.475279398412175, 0.28393642875635283, 0.0010216002185289026, 0.003693247455630601, 0.005973250390028606, 0.002747808960578642, 0.0010116200402898005, 0.0033135417245728806, 0.0010116200402898005, 0.3486437518057448, 0.7532298246752056, 0.0012592804696961828, 0.39954422752063223], \"type\": \"data\", \"visible\": true}, \"marker\": {\"color\": [-1.9863173637511238, 2.278104201890116, 2.08464145312256, -3.0440331882480787, -5.612637872893991, 0.01468958168890246, 0.0014661634770118939, 5.132826367861461, 2.54764479181331, -0.005659532504170718, 0.005524742070663328, -0.05717179614509966, 0.02324226955500944, -0.008495737362772288, 0.002585657540161739, -0.008495737362772288, 3.2800008172656336, 6.632413798716827, 0.008922316281523401, 5.994747077184009], \"colorscale\": [[0.0, \"rgb(0,0,255)\"], [1.0, \"rgb(255,0,0)\"]], \"opacity\": 0.8, \"showscale\": true}, \"name\": \"Ratings_Score_Top_Coef\", \"type\": \"bar\", \"x\": [\"Hot_Tub_1_0\", \"Hair_Dryer_1_0\", \"Laptop_Friendly_Workspace_1_0\", \"Smoking_Allowed_1_0\", \"latitude\", \"house_rules_wordcount\", \"weekly_price_float\", \"longitude\", \"Fire_Extinguisher_1_0\", \"availability_365\", \"number_of_reviews\", \"calculated_host_listings_count\", \"description_wordcount\", \"host_listings_count\", \"cleaning_fee_float\", \"host_total_listings_count\", \"Air_Conditioning_1_0\", \"Wireless_Internet_1_0\", \"price_float\", \"host_is_superhost_t\"], \"y\": [-1.9863173637511238, 2.278104201890116, 2.08464145312256, -3.0440331882480787, -5.612637872893991, 0.01468958168890246, 0.0014661634770118939, 5.132826367861461, 2.54764479181331, -0.005659532504170718, 0.005524742070663328, -0.05717179614509966, 0.02324226955500944, -0.008495737362772288, 0.002585657540161739, -0.008495737362772288, 3.2800008172656336, 6.632413798716827, 0.008922316281523401, 5.994747077184009]}],\n",
       "                        {\"template\": {\"data\": {\"bar\": [{\"error_x\": {\"color\": \"#2a3f5f\"}, \"error_y\": {\"color\": \"#2a3f5f\"}, \"marker\": {\"line\": {\"color\": \"#E5ECF6\", \"width\": 0.5}}, \"type\": \"bar\"}], \"barpolar\": [{\"marker\": {\"line\": {\"color\": \"#E5ECF6\", \"width\": 0.5}}, \"type\": \"barpolar\"}], \"carpet\": [{\"aaxis\": {\"endlinecolor\": \"#2a3f5f\", \"gridcolor\": \"white\", \"linecolor\": \"white\", \"minorgridcolor\": \"white\", \"startlinecolor\": \"#2a3f5f\"}, \"baxis\": {\"endlinecolor\": \"#2a3f5f\", \"gridcolor\": \"white\", \"linecolor\": \"white\", \"minorgridcolor\": \"white\", \"startlinecolor\": \"#2a3f5f\"}, \"type\": \"carpet\"}], \"choropleth\": [{\"colorbar\": {\"outlinewidth\": 0, \"ticks\": \"\"}, \"type\": \"choropleth\"}], \"contour\": [{\"colorbar\": {\"outlinewidth\": 0, \"ticks\": \"\"}, \"colorscale\": [[0.0, \"#0d0887\"], [0.1111111111111111, \"#46039f\"], [0.2222222222222222, \"#7201a8\"], [0.3333333333333333, \"#9c179e\"], [0.4444444444444444, \"#bd3786\"], [0.5555555555555556, \"#d8576b\"], [0.6666666666666666, \"#ed7953\"], [0.7777777777777778, \"#fb9f3a\"], [0.8888888888888888, \"#fdca26\"], [1.0, \"#f0f921\"]], \"type\": \"contour\"}], \"contourcarpet\": [{\"colorbar\": {\"outlinewidth\": 0, \"ticks\": \"\"}, \"type\": \"contourcarpet\"}], \"heatmap\": [{\"colorbar\": {\"outlinewidth\": 0, \"ticks\": \"\"}, \"colorscale\": [[0.0, \"#0d0887\"], [0.1111111111111111, \"#46039f\"], [0.2222222222222222, \"#7201a8\"], [0.3333333333333333, \"#9c179e\"], [0.4444444444444444, \"#bd3786\"], [0.5555555555555556, \"#d8576b\"], [0.6666666666666666, \"#ed7953\"], [0.7777777777777778, \"#fb9f3a\"], [0.8888888888888888, \"#fdca26\"], [1.0, \"#f0f921\"]], \"type\": \"heatmap\"}], \"heatmapgl\": [{\"colorbar\": {\"outlinewidth\": 0, \"ticks\": \"\"}, \"colorscale\": [[0.0, \"#0d0887\"], [0.1111111111111111, \"#46039f\"], [0.2222222222222222, \"#7201a8\"], [0.3333333333333333, \"#9c179e\"], [0.4444444444444444, \"#bd3786\"], [0.5555555555555556, \"#d8576b\"], [0.6666666666666666, \"#ed7953\"], [0.7777777777777778, \"#fb9f3a\"], [0.8888888888888888, \"#fdca26\"], [1.0, \"#f0f921\"]], \"type\": \"heatmapgl\"}], \"histogram\": [{\"marker\": {\"colorbar\": {\"outlinewidth\": 0, \"ticks\": \"\"}}, \"type\": \"histogram\"}], \"histogram2d\": [{\"colorbar\": {\"outlinewidth\": 0, \"ticks\": \"\"}, \"colorscale\": [[0.0, \"#0d0887\"], [0.1111111111111111, \"#46039f\"], [0.2222222222222222, \"#7201a8\"], [0.3333333333333333, \"#9c179e\"], [0.4444444444444444, \"#bd3786\"], [0.5555555555555556, \"#d8576b\"], [0.6666666666666666, \"#ed7953\"], [0.7777777777777778, \"#fb9f3a\"], [0.8888888888888888, \"#fdca26\"], [1.0, \"#f0f921\"]], \"type\": \"histogram2d\"}], \"histogram2dcontour\": [{\"colorbar\": {\"outlinewidth\": 0, \"ticks\": \"\"}, \"colorscale\": [[0.0, \"#0d0887\"], [0.1111111111111111, \"#46039f\"], [0.2222222222222222, \"#7201a8\"], [0.3333333333333333, \"#9c179e\"], [0.4444444444444444, \"#bd3786\"], [0.5555555555555556, \"#d8576b\"], [0.6666666666666666, \"#ed7953\"], [0.7777777777777778, \"#fb9f3a\"], [0.8888888888888888, \"#fdca26\"], [1.0, \"#f0f921\"]], \"type\": \"histogram2dcontour\"}], \"mesh3d\": [{\"colorbar\": {\"outlinewidth\": 0, \"ticks\": \"\"}, \"type\": \"mesh3d\"}], \"parcoords\": [{\"line\": {\"colorbar\": {\"outlinewidth\": 0, \"ticks\": \"\"}}, \"type\": \"parcoords\"}], \"pie\": [{\"automargin\": true, \"type\": \"pie\"}], \"scatter\": [{\"marker\": {\"colorbar\": {\"outlinewidth\": 0, \"ticks\": \"\"}}, \"type\": \"scatter\"}], \"scatter3d\": [{\"line\": {\"colorbar\": {\"outlinewidth\": 0, \"ticks\": \"\"}}, \"marker\": {\"colorbar\": {\"outlinewidth\": 0, \"ticks\": \"\"}}, \"type\": \"scatter3d\"}], \"scattercarpet\": [{\"marker\": {\"colorbar\": {\"outlinewidth\": 0, \"ticks\": \"\"}}, \"type\": \"scattercarpet\"}], \"scattergeo\": [{\"marker\": {\"colorbar\": {\"outlinewidth\": 0, \"ticks\": \"\"}}, \"type\": \"scattergeo\"}], \"scattergl\": [{\"marker\": {\"colorbar\": {\"outlinewidth\": 0, \"ticks\": \"\"}}, \"type\": \"scattergl\"}], \"scattermapbox\": [{\"marker\": {\"colorbar\": {\"outlinewidth\": 0, \"ticks\": \"\"}}, \"type\": \"scattermapbox\"}], \"scatterpolar\": [{\"marker\": {\"colorbar\": {\"outlinewidth\": 0, \"ticks\": \"\"}}, \"type\": \"scatterpolar\"}], \"scatterpolargl\": [{\"marker\": {\"colorbar\": {\"outlinewidth\": 0, \"ticks\": \"\"}}, \"type\": \"scatterpolargl\"}], \"scatterternary\": [{\"marker\": {\"colorbar\": {\"outlinewidth\": 0, \"ticks\": \"\"}}, \"type\": \"scatterternary\"}], \"surface\": [{\"colorbar\": {\"outlinewidth\": 0, \"ticks\": \"\"}, \"colorscale\": [[0.0, \"#0d0887\"], [0.1111111111111111, \"#46039f\"], [0.2222222222222222, \"#7201a8\"], [0.3333333333333333, \"#9c179e\"], [0.4444444444444444, \"#bd3786\"], [0.5555555555555556, \"#d8576b\"], [0.6666666666666666, \"#ed7953\"], [0.7777777777777778, \"#fb9f3a\"], [0.8888888888888888, \"#fdca26\"], [1.0, \"#f0f921\"]], \"type\": \"surface\"}], \"table\": [{\"cells\": {\"fill\": {\"color\": \"#EBF0F8\"}, \"line\": {\"color\": \"white\"}}, \"header\": {\"fill\": {\"color\": \"#C8D4E3\"}, \"line\": {\"color\": \"white\"}}, \"type\": \"table\"}]}, \"layout\": {\"annotationdefaults\": {\"arrowcolor\": \"#2a3f5f\", \"arrowhead\": 0, \"arrowwidth\": 1}, \"coloraxis\": {\"colorbar\": {\"outlinewidth\": 0, \"ticks\": \"\"}}, \"colorscale\": {\"diverging\": [[0, \"#8e0152\"], [0.1, \"#c51b7d\"], [0.2, \"#de77ae\"], [0.3, \"#f1b6da\"], [0.4, \"#fde0ef\"], [0.5, \"#f7f7f7\"], [0.6, \"#e6f5d0\"], [0.7, \"#b8e186\"], [0.8, \"#7fbc41\"], [0.9, \"#4d9221\"], [1, \"#276419\"]], \"sequential\": [[0.0, \"#0d0887\"], [0.1111111111111111, \"#46039f\"], [0.2222222222222222, \"#7201a8\"], [0.3333333333333333, \"#9c179e\"], [0.4444444444444444, \"#bd3786\"], [0.5555555555555556, \"#d8576b\"], [0.6666666666666666, \"#ed7953\"], [0.7777777777777778, \"#fb9f3a\"], [0.8888888888888888, \"#fdca26\"], [1.0, \"#f0f921\"]], \"sequentialminus\": [[0.0, \"#0d0887\"], [0.1111111111111111, \"#46039f\"], [0.2222222222222222, \"#7201a8\"], [0.3333333333333333, \"#9c179e\"], [0.4444444444444444, \"#bd3786\"], [0.5555555555555556, \"#d8576b\"], [0.6666666666666666, \"#ed7953\"], [0.7777777777777778, \"#fb9f3a\"], [0.8888888888888888, \"#fdca26\"], [1.0, \"#f0f921\"]]}, \"colorway\": [\"#636efa\", \"#EF553B\", \"#00cc96\", \"#ab63fa\", \"#FFA15A\", \"#19d3f3\", \"#FF6692\", \"#B6E880\", \"#FF97FF\", \"#FECB52\"], \"font\": {\"color\": \"#2a3f5f\"}, \"geo\": {\"bgcolor\": \"white\", \"lakecolor\": \"white\", \"landcolor\": \"#E5ECF6\", \"showlakes\": true, \"showland\": true, \"subunitcolor\": \"white\"}, \"hoverlabel\": {\"align\": \"left\"}, \"hovermode\": \"closest\", \"mapbox\": {\"style\": \"light\"}, \"paper_bgcolor\": \"white\", \"plot_bgcolor\": \"#E5ECF6\", \"polar\": {\"angularaxis\": {\"gridcolor\": \"white\", \"linecolor\": \"white\", \"ticks\": \"\"}, \"bgcolor\": \"#E5ECF6\", \"radialaxis\": {\"gridcolor\": \"white\", \"linecolor\": \"white\", \"ticks\": \"\"}}, \"scene\": {\"xaxis\": {\"backgroundcolor\": \"#E5ECF6\", \"gridcolor\": \"white\", \"gridwidth\": 2, \"linecolor\": \"white\", \"showbackground\": true, \"ticks\": \"\", \"zerolinecolor\": \"white\"}, \"yaxis\": {\"backgroundcolor\": \"#E5ECF6\", \"gridcolor\": \"white\", \"gridwidth\": 2, \"linecolor\": \"white\", \"showbackground\": true, \"ticks\": \"\", \"zerolinecolor\": \"white\"}, \"zaxis\": {\"backgroundcolor\": \"#E5ECF6\", \"gridcolor\": \"white\", \"gridwidth\": 2, \"linecolor\": \"white\", \"showbackground\": true, \"ticks\": \"\", \"zerolinecolor\": \"white\"}}, \"shapedefaults\": {\"line\": {\"color\": \"#2a3f5f\"}}, \"ternary\": {\"aaxis\": {\"gridcolor\": \"white\", \"linecolor\": \"white\", \"ticks\": \"\"}, \"baxis\": {\"gridcolor\": \"white\", \"linecolor\": \"white\", \"ticks\": \"\"}, \"bgcolor\": \"#E5ECF6\", \"caxis\": {\"gridcolor\": \"white\", \"linecolor\": \"white\", \"ticks\": \"\"}}, \"title\": {\"x\": 0.05}, \"xaxis\": {\"automargin\": true, \"gridcolor\": \"white\", \"linecolor\": \"white\", \"ticks\": \"\", \"title\": {\"standoff\": 15}, \"zerolinecolor\": \"white\", \"zerolinewidth\": 2}, \"yaxis\": {\"automargin\": true, \"gridcolor\": \"white\", \"linecolor\": \"white\", \"ticks\": \"\", \"title\": {\"standoff\": 15}, \"zerolinecolor\": \"white\", \"zerolinewidth\": 2}}}},\n",
       "                        {\"responsive\": true}\n",
       "                    ).then(function(){\n",
       "                            \n",
       "var gd = document.getElementById('ca1880e0-1401-4987-84f2-f11fbe6d742d');\n",
       "var x = new MutationObserver(function (mutations, observer) {{\n",
       "        var display = window.getComputedStyle(gd).display;\n",
       "        if (!display || display === 'none') {{\n",
       "            console.log([gd, 'removed!']);\n",
       "            Plotly.purge(gd);\n",
       "            observer.disconnect();\n",
       "        }}\n",
       "}});\n",
       "\n",
       "// Listen for the removal of the full notebook cells\n",
       "var notebookContainer = gd.closest('#notebook-container');\n",
       "if (notebookContainer) {{\n",
       "    x.observe(notebookContainer, {childList: true});\n",
       "}}\n",
       "\n",
       "// Listen for the clearing of the current output cell\n",
       "var outputEl = gd.closest('.output');\n",
       "if (outputEl) {{\n",
       "    x.observe(outputEl, {childList: true});\n",
       "}}\n",
       "\n",
       "                        })\n",
       "                };\n",
       "                });\n",
       "            </script>\n",
       "        </div>"
      ]
     },
     "metadata": {},
     "output_type": "display_data"
    }
   ],
   "source": [
    "mlm_results_sig = mlm_results[mlm_results['pvalues'] < 0.05]\n",
    "\n",
    "fig = go.Figure()\n",
    "\n",
    "fig.add_trace(go.Bar(x=mlm_results_sig['features'], y = mlm_results_sig['coef'], name = 'Ratings_Score_Top_Coef', \n",
    "                     marker=dict(color =   mlm_results_sig['coef'],\n",
    "                                 colorscale='bluered',   # choose a colorscale\n",
    "                                 opacity=0.8,\n",
    "                                 showscale = True\n",
    "                                ), \n",
    "                     error_y=dict(type='data',\n",
    "                                array= list(mlm_results_sig['conf_int_975'] - mlm_results_sig['conf_int_025']),\n",
    "                                visible=True)\n",
    "                                ))"
   ]
  },
  {
   "cell_type": "code",
   "execution_count": null,
   "metadata": {},
   "outputs": [],
   "source": []
  }
 ],
 "metadata": {
  "kernelspec": {
   "display_name": "Python 3",
   "language": "python",
   "name": "python3"
  },
  "language_info": {
   "codemirror_mode": {
    "name": "ipython",
    "version": 3
   },
   "file_extension": ".py",
   "mimetype": "text/x-python",
   "name": "python",
   "nbconvert_exporter": "python",
   "pygments_lexer": "ipython3",
   "version": "3.6.4"
  }
 },
 "nbformat": 4,
 "nbformat_minor": 2
}
